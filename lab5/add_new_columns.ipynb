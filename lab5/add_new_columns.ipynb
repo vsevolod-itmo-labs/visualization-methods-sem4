{
 "cells": [
  {
   "cell_type": "code",
   "execution_count": 1,
   "metadata": {
    "collapsed": true,
    "pycharm": {
     "name": "#%%\n"
    }
   },
   "outputs": [],
   "source": [
    "import pandas as pd\n",
    "import numpy as np"
   ]
  },
  {
   "cell_type": "code",
   "execution_count": 2,
   "outputs": [
    {
     "data": {
      "text/plain": "     country_name country_code  year  AG.LND.AGRI.ZS  AG.LND.ARBL.ZS  \\\n0     Afghanistan          AFG  1990       58.322984       12.127624   \n1     Afghanistan          AFG  1991       58.307652       12.127624   \n2     Afghanistan          AFG  1992       58.307652       12.127624   \n3     Afghanistan          AFG  1993       58.160465       11.995768   \n4     Afghanistan          AFG  1994       57.974947       11.810251   \n...           ...          ...   ...             ...             ...   \n5101     Zimbabwe          ZWE  2008       42.522942       10.986170   \n5102     Zimbabwe          ZWE  2009       42.135195       10.598423   \n5103     Zimbabwe          ZWE  2010       41.876696       10.339925   \n5104     Zimbabwe          ZWE  2011       42.393693       10.856921   \n5105     Zimbabwe          ZWE  2012       41.876696       10.339925   \n\n      AG.LND.FRST.ZS  BX.KLT.DINV.WD.GD.ZS  EG.ELC.COAL.ZS  EG.ELC.HYRO.ZS  \\\n0           1.852782                   NaN             NaN             NaN   \n1           1.852782                   NaN             NaN             NaN   \n2           1.852782                   NaN             NaN             NaN   \n3           1.852782                   NaN             NaN             NaN   \n4           1.852782                   NaN             NaN             NaN   \n...              ...                   ...             ...             ...   \n5101       46.522993              1.168557       23.711475       74.859016   \n5102       46.403903              1.086305       24.070772       74.859416   \n5103       46.284813              1.018022       31.713791       66.924409   \n5104       46.165723              2.441511       41.655816       56.434462   \n5105       46.046633              2.044131       39.052483       58.567858   \n\n      EG.ELC.NGAS.ZS  ...  EN.ATM.METH.KT.CE  EN.ATM.NOXE.KT.CE  \\\n0                NaN  ...        6739.999771             2840.0   \n1                NaN  ...        7019.999981             2930.0   \n2                NaN  ...        7130.000114             2890.0   \n3                NaN  ...        7210.000038             2930.0   \n4                NaN  ...        7469.999790             2760.0   \n...              ...  ...                ...                ...   \n5101             0.0  ...       11369.999886             5360.0   \n5102             0.0  ...       11829.999924             5770.0   \n5103             0.0  ...       12270.000458             6120.0   \n5104             0.0  ...       12640.000343             6260.0   \n5105             0.0  ...       12460.000038             5800.0   \n\n      NV.AGR.TOTL.ZS  SH.DYN.MORT  SP.POP.GROW  SP.POP.TOTL  SP.URB.GROW  \\\n0                NaN        178.5     0.202434   10694796.0     0.623574   \n1                NaN        172.2     0.469880   10745167.0     0.889255   \n2                NaN        166.3    11.522524   12057433.0    11.940176   \n3                NaN        160.8    14.964455   14003760.0    15.380336   \n4                NaN        155.5     9.864262   15455555.0    10.283085   \n...              ...          ...          ...          ...          ...   \n5101       19.021074         94.7     0.798207   12550347.0     0.254389   \n5102       10.742550         91.3     1.026265   12679810.0     0.482488   \n5103        9.609863         86.1     1.253650   12839771.0     0.706879   \n5104        8.665865         80.6     1.438339   13025785.0     0.891612   \n5105        8.044518         72.1     1.822309   13265331.0     1.272568   \n\n      SP.URB.TOTL.IN.ZS          IncomeGroup           gdp  \n0                21.177           Low income           NaN  \n1                21.266           Low income           NaN  \n2                21.355           Low income           NaN  \n3                21.444           Low income           NaN  \n4                21.534           Low income           NaN  \n...                 ...                  ...           ...  \n5101             33.560  Lower middle income  4.415703e+09  \n5102             33.378  Lower middle income  9.665793e+09  \n5103             33.196  Lower middle income  1.204166e+10  \n5104             33.015  Lower middle income  1.410192e+10  \n5105             32.834  Lower middle income  1.711485e+10  \n\n[5106 rows x 32 columns]",
      "text/html": "<div>\n<style scoped>\n    .dataframe tbody tr th:only-of-type {\n        vertical-align: middle;\n    }\n\n    .dataframe tbody tr th {\n        vertical-align: top;\n    }\n\n    .dataframe thead th {\n        text-align: right;\n    }\n</style>\n<table border=\"1\" class=\"dataframe\">\n  <thead>\n    <tr style=\"text-align: right;\">\n      <th></th>\n      <th>country_name</th>\n      <th>country_code</th>\n      <th>year</th>\n      <th>AG.LND.AGRI.ZS</th>\n      <th>AG.LND.ARBL.ZS</th>\n      <th>AG.LND.FRST.ZS</th>\n      <th>BX.KLT.DINV.WD.GD.ZS</th>\n      <th>EG.ELC.COAL.ZS</th>\n      <th>EG.ELC.HYRO.ZS</th>\n      <th>EG.ELC.NGAS.ZS</th>\n      <th>...</th>\n      <th>EN.ATM.METH.KT.CE</th>\n      <th>EN.ATM.NOXE.KT.CE</th>\n      <th>NV.AGR.TOTL.ZS</th>\n      <th>SH.DYN.MORT</th>\n      <th>SP.POP.GROW</th>\n      <th>SP.POP.TOTL</th>\n      <th>SP.URB.GROW</th>\n      <th>SP.URB.TOTL.IN.ZS</th>\n      <th>IncomeGroup</th>\n      <th>gdp</th>\n    </tr>\n  </thead>\n  <tbody>\n    <tr>\n      <th>0</th>\n      <td>Afghanistan</td>\n      <td>AFG</td>\n      <td>1990</td>\n      <td>58.322984</td>\n      <td>12.127624</td>\n      <td>1.852782</td>\n      <td>NaN</td>\n      <td>NaN</td>\n      <td>NaN</td>\n      <td>NaN</td>\n      <td>...</td>\n      <td>6739.999771</td>\n      <td>2840.0</td>\n      <td>NaN</td>\n      <td>178.5</td>\n      <td>0.202434</td>\n      <td>10694796.0</td>\n      <td>0.623574</td>\n      <td>21.177</td>\n      <td>Low income</td>\n      <td>NaN</td>\n    </tr>\n    <tr>\n      <th>1</th>\n      <td>Afghanistan</td>\n      <td>AFG</td>\n      <td>1991</td>\n      <td>58.307652</td>\n      <td>12.127624</td>\n      <td>1.852782</td>\n      <td>NaN</td>\n      <td>NaN</td>\n      <td>NaN</td>\n      <td>NaN</td>\n      <td>...</td>\n      <td>7019.999981</td>\n      <td>2930.0</td>\n      <td>NaN</td>\n      <td>172.2</td>\n      <td>0.469880</td>\n      <td>10745167.0</td>\n      <td>0.889255</td>\n      <td>21.266</td>\n      <td>Low income</td>\n      <td>NaN</td>\n    </tr>\n    <tr>\n      <th>2</th>\n      <td>Afghanistan</td>\n      <td>AFG</td>\n      <td>1992</td>\n      <td>58.307652</td>\n      <td>12.127624</td>\n      <td>1.852782</td>\n      <td>NaN</td>\n      <td>NaN</td>\n      <td>NaN</td>\n      <td>NaN</td>\n      <td>...</td>\n      <td>7130.000114</td>\n      <td>2890.0</td>\n      <td>NaN</td>\n      <td>166.3</td>\n      <td>11.522524</td>\n      <td>12057433.0</td>\n      <td>11.940176</td>\n      <td>21.355</td>\n      <td>Low income</td>\n      <td>NaN</td>\n    </tr>\n    <tr>\n      <th>3</th>\n      <td>Afghanistan</td>\n      <td>AFG</td>\n      <td>1993</td>\n      <td>58.160465</td>\n      <td>11.995768</td>\n      <td>1.852782</td>\n      <td>NaN</td>\n      <td>NaN</td>\n      <td>NaN</td>\n      <td>NaN</td>\n      <td>...</td>\n      <td>7210.000038</td>\n      <td>2930.0</td>\n      <td>NaN</td>\n      <td>160.8</td>\n      <td>14.964455</td>\n      <td>14003760.0</td>\n      <td>15.380336</td>\n      <td>21.444</td>\n      <td>Low income</td>\n      <td>NaN</td>\n    </tr>\n    <tr>\n      <th>4</th>\n      <td>Afghanistan</td>\n      <td>AFG</td>\n      <td>1994</td>\n      <td>57.974947</td>\n      <td>11.810251</td>\n      <td>1.852782</td>\n      <td>NaN</td>\n      <td>NaN</td>\n      <td>NaN</td>\n      <td>NaN</td>\n      <td>...</td>\n      <td>7469.999790</td>\n      <td>2760.0</td>\n      <td>NaN</td>\n      <td>155.5</td>\n      <td>9.864262</td>\n      <td>15455555.0</td>\n      <td>10.283085</td>\n      <td>21.534</td>\n      <td>Low income</td>\n      <td>NaN</td>\n    </tr>\n    <tr>\n      <th>...</th>\n      <td>...</td>\n      <td>...</td>\n      <td>...</td>\n      <td>...</td>\n      <td>...</td>\n      <td>...</td>\n      <td>...</td>\n      <td>...</td>\n      <td>...</td>\n      <td>...</td>\n      <td>...</td>\n      <td>...</td>\n      <td>...</td>\n      <td>...</td>\n      <td>...</td>\n      <td>...</td>\n      <td>...</td>\n      <td>...</td>\n      <td>...</td>\n      <td>...</td>\n      <td>...</td>\n    </tr>\n    <tr>\n      <th>5101</th>\n      <td>Zimbabwe</td>\n      <td>ZWE</td>\n      <td>2008</td>\n      <td>42.522942</td>\n      <td>10.986170</td>\n      <td>46.522993</td>\n      <td>1.168557</td>\n      <td>23.711475</td>\n      <td>74.859016</td>\n      <td>0.0</td>\n      <td>...</td>\n      <td>11369.999886</td>\n      <td>5360.0</td>\n      <td>19.021074</td>\n      <td>94.7</td>\n      <td>0.798207</td>\n      <td>12550347.0</td>\n      <td>0.254389</td>\n      <td>33.560</td>\n      <td>Lower middle income</td>\n      <td>4.415703e+09</td>\n    </tr>\n    <tr>\n      <th>5102</th>\n      <td>Zimbabwe</td>\n      <td>ZWE</td>\n      <td>2009</td>\n      <td>42.135195</td>\n      <td>10.598423</td>\n      <td>46.403903</td>\n      <td>1.086305</td>\n      <td>24.070772</td>\n      <td>74.859416</td>\n      <td>0.0</td>\n      <td>...</td>\n      <td>11829.999924</td>\n      <td>5770.0</td>\n      <td>10.742550</td>\n      <td>91.3</td>\n      <td>1.026265</td>\n      <td>12679810.0</td>\n      <td>0.482488</td>\n      <td>33.378</td>\n      <td>Lower middle income</td>\n      <td>9.665793e+09</td>\n    </tr>\n    <tr>\n      <th>5103</th>\n      <td>Zimbabwe</td>\n      <td>ZWE</td>\n      <td>2010</td>\n      <td>41.876696</td>\n      <td>10.339925</td>\n      <td>46.284813</td>\n      <td>1.018022</td>\n      <td>31.713791</td>\n      <td>66.924409</td>\n      <td>0.0</td>\n      <td>...</td>\n      <td>12270.000458</td>\n      <td>6120.0</td>\n      <td>9.609863</td>\n      <td>86.1</td>\n      <td>1.253650</td>\n      <td>12839771.0</td>\n      <td>0.706879</td>\n      <td>33.196</td>\n      <td>Lower middle income</td>\n      <td>1.204166e+10</td>\n    </tr>\n    <tr>\n      <th>5104</th>\n      <td>Zimbabwe</td>\n      <td>ZWE</td>\n      <td>2011</td>\n      <td>42.393693</td>\n      <td>10.856921</td>\n      <td>46.165723</td>\n      <td>2.441511</td>\n      <td>41.655816</td>\n      <td>56.434462</td>\n      <td>0.0</td>\n      <td>...</td>\n      <td>12640.000343</td>\n      <td>6260.0</td>\n      <td>8.665865</td>\n      <td>80.6</td>\n      <td>1.438339</td>\n      <td>13025785.0</td>\n      <td>0.891612</td>\n      <td>33.015</td>\n      <td>Lower middle income</td>\n      <td>1.410192e+10</td>\n    </tr>\n    <tr>\n      <th>5105</th>\n      <td>Zimbabwe</td>\n      <td>ZWE</td>\n      <td>2012</td>\n      <td>41.876696</td>\n      <td>10.339925</td>\n      <td>46.046633</td>\n      <td>2.044131</td>\n      <td>39.052483</td>\n      <td>58.567858</td>\n      <td>0.0</td>\n      <td>...</td>\n      <td>12460.000038</td>\n      <td>5800.0</td>\n      <td>8.044518</td>\n      <td>72.1</td>\n      <td>1.822309</td>\n      <td>13265331.0</td>\n      <td>1.272568</td>\n      <td>32.834</td>\n      <td>Lower middle income</td>\n      <td>1.711485e+10</td>\n    </tr>\n  </tbody>\n</table>\n<p>5106 rows × 32 columns</p>\n</div>"
     },
     "execution_count": 2,
     "metadata": {},
     "output_type": "execute_result"
    }
   ],
   "source": [
    "df_main = pd.read_csv('dashboard_data.csv')\n",
    "df_main.drop(['Unnamed: 0'], axis=1, inplace=True)\n",
    "df_main"
   ],
   "metadata": {
    "collapsed": false,
    "pycharm": {
     "name": "#%%\n"
    }
   }
  },
  {
   "cell_type": "markdown",
   "source": [
    "### Add barplot data"
   ],
   "metadata": {
    "collapsed": false,
    "pycharm": {
     "name": "#%% md\n"
    }
   }
  },
  {
   "cell_type": "markdown",
   "source": [
    "\"EN.ATM.CO2E.LF.ZS\",\"CO2 emissions from liquid fuel consumption (% of total)\n",
    "\"EN.ATM.CO2E.GF.ZS\",\"CO2 emissions from gaseous fuel consumption (% of total)\n",
    "\"EN.ATM.CO2E.SF.ZS\",\"CO2 emissions from solid fuel consumption (% of total)\"\n",
    "\"EN.ATM.CO2E.PC\",  \"CO2 emissions (metric tons per capita)\"\n",
    "\n"
   ],
   "metadata": {
    "collapsed": false,
    "pycharm": {
     "name": "#%% md\n"
    }
   }
  },
  {
   "cell_type": "code",
   "execution_count": 2,
   "outputs": [],
   "source": [],
   "metadata": {
    "collapsed": false,
    "pycharm": {
     "name": "#%%\n"
    }
   }
  },
  {
   "cell_type": "code",
   "execution_count": 3,
   "outputs": [],
   "source": [
    "df_tmp = df_main.copy()\n",
    "df_tmp['liquid_fuel_pcapita'] = df_tmp['EN.ATM.CO2E.LF.ZS'] * df_tmp['EN.ATM.CO2E.PC'] / 100\n",
    "df_tmp['gaseous_fuel_pcapita'] = df_tmp['EN.ATM.CO2E.GF.ZS'] * df_tmp['EN.ATM.CO2E.PC'] / 100\n",
    "df_tmp['solid_fuel_pcapita'] = df_tmp['EN.ATM.CO2E.SF.ZS'] * df_tmp['EN.ATM.CO2E.PC'] / 100"
   ],
   "metadata": {
    "collapsed": false,
    "pycharm": {
     "name": "#%%\n"
    }
   }
  },
  {
   "cell_type": "code",
   "execution_count": 4,
   "outputs": [
    {
     "data": {
      "text/plain": "      liquid_fuel_pcapita  EN.ATM.CO2E.PC\n0                0.139224        0.222538\n1                0.130264        0.207535\n2                0.074792        0.115282\n3                0.062954        0.095689\n4                0.055092        0.083465\n...                   ...             ...\n5101             0.128268        0.605561\n5102             0.131586        0.611208\n5103             0.134431        0.747677\n5104             0.248807        0.875955\n5105             0.276345        0.905368\n\n[5106 rows x 2 columns]",
      "text/html": "<div>\n<style scoped>\n    .dataframe tbody tr th:only-of-type {\n        vertical-align: middle;\n    }\n\n    .dataframe tbody tr th {\n        vertical-align: top;\n    }\n\n    .dataframe thead th {\n        text-align: right;\n    }\n</style>\n<table border=\"1\" class=\"dataframe\">\n  <thead>\n    <tr style=\"text-align: right;\">\n      <th></th>\n      <th>liquid_fuel_pcapita</th>\n      <th>EN.ATM.CO2E.PC</th>\n    </tr>\n  </thead>\n  <tbody>\n    <tr>\n      <th>0</th>\n      <td>0.139224</td>\n      <td>0.222538</td>\n    </tr>\n    <tr>\n      <th>1</th>\n      <td>0.130264</td>\n      <td>0.207535</td>\n    </tr>\n    <tr>\n      <th>2</th>\n      <td>0.074792</td>\n      <td>0.115282</td>\n    </tr>\n    <tr>\n      <th>3</th>\n      <td>0.062954</td>\n      <td>0.095689</td>\n    </tr>\n    <tr>\n      <th>4</th>\n      <td>0.055092</td>\n      <td>0.083465</td>\n    </tr>\n    <tr>\n      <th>...</th>\n      <td>...</td>\n      <td>...</td>\n    </tr>\n    <tr>\n      <th>5101</th>\n      <td>0.128268</td>\n      <td>0.605561</td>\n    </tr>\n    <tr>\n      <th>5102</th>\n      <td>0.131586</td>\n      <td>0.611208</td>\n    </tr>\n    <tr>\n      <th>5103</th>\n      <td>0.134431</td>\n      <td>0.747677</td>\n    </tr>\n    <tr>\n      <th>5104</th>\n      <td>0.248807</td>\n      <td>0.875955</td>\n    </tr>\n    <tr>\n      <th>5105</th>\n      <td>0.276345</td>\n      <td>0.905368</td>\n    </tr>\n  </tbody>\n</table>\n<p>5106 rows × 2 columns</p>\n</div>"
     },
     "execution_count": 4,
     "metadata": {},
     "output_type": "execute_result"
    }
   ],
   "source": [
    "df_tmp[['liquid_fuel_pcapita', 'EN.ATM.CO2E.PC']]"
   ],
   "metadata": {
    "collapsed": false,
    "pycharm": {
     "name": "#%%\n"
    }
   }
  },
  {
   "cell_type": "code",
   "execution_count": 5,
   "outputs": [],
   "source": [
    "df_main = df_tmp"
   ],
   "metadata": {
    "collapsed": false,
    "pycharm": {
     "name": "#%%\n"
    }
   }
  },
  {
   "cell_type": "markdown",
   "source": [
    "### Merge"
   ],
   "metadata": {
    "collapsed": false,
    "pycharm": {
     "name": "#%% md\n"
    }
   }
  },
  {
   "cell_type": "markdown",
   "source": [
    "merge tables"
   ],
   "metadata": {
    "collapsed": false,
    "pycharm": {
     "name": "#%% md\n"
    }
   }
  },
  {
   "cell_type": "code",
   "execution_count": 6,
   "outputs": [
    {
     "data": {
      "text/plain": "       country_name                               Region  Population  \\\n0       Afghanistan        ASIA (EX. NEAR EAST)             31056997   \n1           Albania  EASTERN EUROPE                          3581655   \n2           Algeria  NORTHERN AFRICA                        32930091   \n3    American Samoa  OCEANIA                                   57794   \n4           Andorra  WESTERN EUROPE                            71201   \n..              ...                                  ...         ...   \n222       West Bank  NEAR EAST                               2460492   \n223  Western Sahara  NORTHERN AFRICA                          273008   \n224           Yemen  NEAR EAST                              21456188   \n225          Zambia  SUB-SAHARAN AFRICA                     11502010   \n226        Zimbabwe  SUB-SAHARAN AFRICA                     12236805   \n\n              area Pop. Density (per sq. mi.) Coastline (coast/area ratio)  \\\n0    250000.000000                       48,0                         0,00   \n1     11099.613900                      124,6                         1,26   \n2    919590.733591                       13,8                         0,04   \n3        76.833977                      290,4                        58,29   \n4       180.694981                      152,1                         0,00   \n..             ...                        ...                          ...   \n222    2262.548263                      419,9                         0,00   \n223  102702.702703                        1,0                         0,42   \n224  203849.420849                       40,6                         0,36   \n225  290584.555985                       15,3                         0,00   \n226  150803.088803                       31,3                         0,00   \n\n    Net migration Infant mortality (per 1000 births)  GDP ($ per capita)  \\\n0           23,06                             163,07               700.0   \n1           -4,93                              21,52              4500.0   \n2           -0,39                                 31              6000.0   \n3          -20,71                               9,27              8000.0   \n4             6,6                               4,05             19000.0   \n..            ...                                ...                 ...   \n222          2,98                              19,62               800.0   \n223           NaN                                NaN                 NaN   \n224             0                               61,5               800.0   \n225             0                              88,29               800.0   \n226             0                              67,69              1900.0   \n\n    Literacy (%) Phones (per 1000) Arable (%) Crops (%) Other (%) Climate  \\\n0           36,0               3,2      12,13      0,22     87,65       1   \n1           86,5              71,2      21,09      4,42     74,49       3   \n2           70,0              78,1       3,22      0,25     96,53       1   \n3           97,0             259,5         10        15        75       2   \n4          100,0             497,2       2,22         0     97,78       3   \n..           ...               ...        ...       ...       ...     ...   \n222          NaN             145,2       16,9     18,97     64,13       3   \n223          NaN               NaN       0,02         0     99,98       1   \n224         50,2              37,2       2,78      0,24     96,98       1   \n225         80,6               8,2       7,08      0,03      92,9       2   \n226         90,7              26,8       8,32      0,34     91,34       2   \n\n    Birthrate Deathrate Agriculture Industry Service  \n0        46,6     20,34        0,38     0,24    0,38  \n1       15,11      5,22       0,232    0,188   0,579  \n2       17,14      4,61       0,101      0,6   0,298  \n3       22,46      3,27         NaN      NaN     NaN  \n4        8,71      6,25         NaN      NaN     NaN  \n..        ...       ...         ...      ...     ...  \n222     31,67      3,92        0,09     0,28    0,63  \n223       NaN       NaN         NaN      NaN     0,4  \n224     42,89       8,3       0,135    0,472   0,393  \n225        41     19,93        0,22     0,29   0,489  \n226     28,01     21,84       0,179    0,243   0,579  \n\n[227 rows x 20 columns]",
      "text/html": "<div>\n<style scoped>\n    .dataframe tbody tr th:only-of-type {\n        vertical-align: middle;\n    }\n\n    .dataframe tbody tr th {\n        vertical-align: top;\n    }\n\n    .dataframe thead th {\n        text-align: right;\n    }\n</style>\n<table border=\"1\" class=\"dataframe\">\n  <thead>\n    <tr style=\"text-align: right;\">\n      <th></th>\n      <th>country_name</th>\n      <th>Region</th>\n      <th>Population</th>\n      <th>area</th>\n      <th>Pop. Density (per sq. mi.)</th>\n      <th>Coastline (coast/area ratio)</th>\n      <th>Net migration</th>\n      <th>Infant mortality (per 1000 births)</th>\n      <th>GDP ($ per capita)</th>\n      <th>Literacy (%)</th>\n      <th>Phones (per 1000)</th>\n      <th>Arable (%)</th>\n      <th>Crops (%)</th>\n      <th>Other (%)</th>\n      <th>Climate</th>\n      <th>Birthrate</th>\n      <th>Deathrate</th>\n      <th>Agriculture</th>\n      <th>Industry</th>\n      <th>Service</th>\n    </tr>\n  </thead>\n  <tbody>\n    <tr>\n      <th>0</th>\n      <td>Afghanistan</td>\n      <td>ASIA (EX. NEAR EAST)</td>\n      <td>31056997</td>\n      <td>250000.000000</td>\n      <td>48,0</td>\n      <td>0,00</td>\n      <td>23,06</td>\n      <td>163,07</td>\n      <td>700.0</td>\n      <td>36,0</td>\n      <td>3,2</td>\n      <td>12,13</td>\n      <td>0,22</td>\n      <td>87,65</td>\n      <td>1</td>\n      <td>46,6</td>\n      <td>20,34</td>\n      <td>0,38</td>\n      <td>0,24</td>\n      <td>0,38</td>\n    </tr>\n    <tr>\n      <th>1</th>\n      <td>Albania</td>\n      <td>EASTERN EUROPE</td>\n      <td>3581655</td>\n      <td>11099.613900</td>\n      <td>124,6</td>\n      <td>1,26</td>\n      <td>-4,93</td>\n      <td>21,52</td>\n      <td>4500.0</td>\n      <td>86,5</td>\n      <td>71,2</td>\n      <td>21,09</td>\n      <td>4,42</td>\n      <td>74,49</td>\n      <td>3</td>\n      <td>15,11</td>\n      <td>5,22</td>\n      <td>0,232</td>\n      <td>0,188</td>\n      <td>0,579</td>\n    </tr>\n    <tr>\n      <th>2</th>\n      <td>Algeria</td>\n      <td>NORTHERN AFRICA</td>\n      <td>32930091</td>\n      <td>919590.733591</td>\n      <td>13,8</td>\n      <td>0,04</td>\n      <td>-0,39</td>\n      <td>31</td>\n      <td>6000.0</td>\n      <td>70,0</td>\n      <td>78,1</td>\n      <td>3,22</td>\n      <td>0,25</td>\n      <td>96,53</td>\n      <td>1</td>\n      <td>17,14</td>\n      <td>4,61</td>\n      <td>0,101</td>\n      <td>0,6</td>\n      <td>0,298</td>\n    </tr>\n    <tr>\n      <th>3</th>\n      <td>American Samoa</td>\n      <td>OCEANIA</td>\n      <td>57794</td>\n      <td>76.833977</td>\n      <td>290,4</td>\n      <td>58,29</td>\n      <td>-20,71</td>\n      <td>9,27</td>\n      <td>8000.0</td>\n      <td>97,0</td>\n      <td>259,5</td>\n      <td>10</td>\n      <td>15</td>\n      <td>75</td>\n      <td>2</td>\n      <td>22,46</td>\n      <td>3,27</td>\n      <td>NaN</td>\n      <td>NaN</td>\n      <td>NaN</td>\n    </tr>\n    <tr>\n      <th>4</th>\n      <td>Andorra</td>\n      <td>WESTERN EUROPE</td>\n      <td>71201</td>\n      <td>180.694981</td>\n      <td>152,1</td>\n      <td>0,00</td>\n      <td>6,6</td>\n      <td>4,05</td>\n      <td>19000.0</td>\n      <td>100,0</td>\n      <td>497,2</td>\n      <td>2,22</td>\n      <td>0</td>\n      <td>97,78</td>\n      <td>3</td>\n      <td>8,71</td>\n      <td>6,25</td>\n      <td>NaN</td>\n      <td>NaN</td>\n      <td>NaN</td>\n    </tr>\n    <tr>\n      <th>...</th>\n      <td>...</td>\n      <td>...</td>\n      <td>...</td>\n      <td>...</td>\n      <td>...</td>\n      <td>...</td>\n      <td>...</td>\n      <td>...</td>\n      <td>...</td>\n      <td>...</td>\n      <td>...</td>\n      <td>...</td>\n      <td>...</td>\n      <td>...</td>\n      <td>...</td>\n      <td>...</td>\n      <td>...</td>\n      <td>...</td>\n      <td>...</td>\n      <td>...</td>\n    </tr>\n    <tr>\n      <th>222</th>\n      <td>West Bank</td>\n      <td>NEAR EAST</td>\n      <td>2460492</td>\n      <td>2262.548263</td>\n      <td>419,9</td>\n      <td>0,00</td>\n      <td>2,98</td>\n      <td>19,62</td>\n      <td>800.0</td>\n      <td>NaN</td>\n      <td>145,2</td>\n      <td>16,9</td>\n      <td>18,97</td>\n      <td>64,13</td>\n      <td>3</td>\n      <td>31,67</td>\n      <td>3,92</td>\n      <td>0,09</td>\n      <td>0,28</td>\n      <td>0,63</td>\n    </tr>\n    <tr>\n      <th>223</th>\n      <td>Western Sahara</td>\n      <td>NORTHERN AFRICA</td>\n      <td>273008</td>\n      <td>102702.702703</td>\n      <td>1,0</td>\n      <td>0,42</td>\n      <td>NaN</td>\n      <td>NaN</td>\n      <td>NaN</td>\n      <td>NaN</td>\n      <td>NaN</td>\n      <td>0,02</td>\n      <td>0</td>\n      <td>99,98</td>\n      <td>1</td>\n      <td>NaN</td>\n      <td>NaN</td>\n      <td>NaN</td>\n      <td>NaN</td>\n      <td>0,4</td>\n    </tr>\n    <tr>\n      <th>224</th>\n      <td>Yemen</td>\n      <td>NEAR EAST</td>\n      <td>21456188</td>\n      <td>203849.420849</td>\n      <td>40,6</td>\n      <td>0,36</td>\n      <td>0</td>\n      <td>61,5</td>\n      <td>800.0</td>\n      <td>50,2</td>\n      <td>37,2</td>\n      <td>2,78</td>\n      <td>0,24</td>\n      <td>96,98</td>\n      <td>1</td>\n      <td>42,89</td>\n      <td>8,3</td>\n      <td>0,135</td>\n      <td>0,472</td>\n      <td>0,393</td>\n    </tr>\n    <tr>\n      <th>225</th>\n      <td>Zambia</td>\n      <td>SUB-SAHARAN AFRICA</td>\n      <td>11502010</td>\n      <td>290584.555985</td>\n      <td>15,3</td>\n      <td>0,00</td>\n      <td>0</td>\n      <td>88,29</td>\n      <td>800.0</td>\n      <td>80,6</td>\n      <td>8,2</td>\n      <td>7,08</td>\n      <td>0,03</td>\n      <td>92,9</td>\n      <td>2</td>\n      <td>41</td>\n      <td>19,93</td>\n      <td>0,22</td>\n      <td>0,29</td>\n      <td>0,489</td>\n    </tr>\n    <tr>\n      <th>226</th>\n      <td>Zimbabwe</td>\n      <td>SUB-SAHARAN AFRICA</td>\n      <td>12236805</td>\n      <td>150803.088803</td>\n      <td>31,3</td>\n      <td>0,00</td>\n      <td>0</td>\n      <td>67,69</td>\n      <td>1900.0</td>\n      <td>90,7</td>\n      <td>26,8</td>\n      <td>8,32</td>\n      <td>0,34</td>\n      <td>91,34</td>\n      <td>2</td>\n      <td>28,01</td>\n      <td>21,84</td>\n      <td>0,179</td>\n      <td>0,243</td>\n      <td>0,579</td>\n    </tr>\n  </tbody>\n</table>\n<p>227 rows × 20 columns</p>\n</div>"
     },
     "execution_count": 6,
     "metadata": {},
     "output_type": "execute_result"
    }
   ],
   "source": [
    "df_countries = pd.read_csv('countries of the world.csv')\n",
    "df_countries.rename(columns={'Country': 'country_name',  'Area (sq. mi.)': 'area'}, inplace=True)\n",
    "df_countries['country_name'] = df_countries['country_name'].str.strip()\n",
    "df_countries['country_name'] = df_countries['country_name'].str.replace('&', 'and')\n",
    "df_countries['area'] /= 2.59\n",
    "df_countries"
   ],
   "metadata": {
    "collapsed": false,
    "pycharm": {
     "name": "#%%\n"
    }
   }
  },
  {
   "cell_type": "code",
   "execution_count": 7,
   "outputs": [],
   "source": [
    "df_tmp = df_main.copy()\n",
    "df_tmp = df_tmp.merge(df_countries[['country_name', 'area']], on='country_name', how='left')"
   ],
   "metadata": {
    "collapsed": false,
    "pycharm": {
     "name": "#%%\n"
    }
   }
  },
  {
   "cell_type": "code",
   "execution_count": 8,
   "outputs": [],
   "source": [
    "main_set = set(df_tmp['country_name'])\n",
    "country_set = set(df_countries['country_name'])\n",
    "\n",
    "mached_countries =  main_set.intersection(country_set)\n",
    "unmatched_main = sorted(list(main_set.difference(mached_countries)))\n",
    "umnached_countries = sorted(list(country_set.difference(mached_countries)))"
   ],
   "metadata": {
    "collapsed": false,
    "pycharm": {
     "name": "#%%\n"
    }
   }
  },
  {
   "cell_type": "code",
   "execution_count": 9,
   "outputs": [
    {
     "data": {
      "text/plain": "['British Virgin Islands',\n 'Brunei Darussalam',\n 'Cabo Verde',\n 'Central African Republic',\n 'Channel Islands',\n 'Congo, Rep.',\n 'Curacao',\n 'Czechia',\n 'East Asia & Pacific (IDA & IBRD countries)',\n 'Egypt, Arab Rep.',\n 'Eswatini',\n 'Europe & Central Asia (IDA & IBRD countries)',\n 'Hong Kong SAR, China',\n 'Iran, Islamic Rep.',\n \"Korea, Dem. People's Rep.\",\n 'Korea, Rep.',\n 'Kosovo',\n 'Kyrgyz Republic',\n 'Lao PDR',\n 'Latin America & the Caribbean (IDA & IBRD countries)',\n 'Macao SAR, China',\n 'Micronesia, Fed. Sts.',\n 'Middle East & North Africa (IDA & IBRD countries)',\n 'Montenegro',\n 'Myanmar',\n 'North Macedonia',\n 'Northern Mariana Islands',\n 'Russian Federation',\n 'Sint Maarten (Dutch part)',\n 'Slovak Republic',\n 'South Sudan',\n 'St. Kitts and Nevis',\n 'St. Lucia',\n 'St. Martin (French part)',\n 'St. Vincent and the Grenadines',\n 'Sub-Saharan Africa (IDA & IBRD countries)',\n 'Syrian Arab Republic',\n 'Timor-Leste',\n 'Turkiye',\n 'Turks and Caicos Islands',\n 'Venezuela, RB',\n 'Virgin Islands (U.S.)',\n 'West Bank and Gaza',\n 'Yemen, Rep.']"
     },
     "execution_count": 9,
     "metadata": {},
     "output_type": "execute_result"
    }
   ],
   "source": [
    "unmatched_main"
   ],
   "metadata": {
    "collapsed": false,
    "pycharm": {
     "name": "#%%\n"
    }
   }
  },
  {
   "cell_type": "code",
   "execution_count": 10,
   "outputs": [
    {
     "data": {
      "text/plain": "['Anguilla',\n 'British Virgin Is.',\n 'Brunei',\n 'Burma',\n 'Cape Verde',\n 'Central African Rep.',\n 'Congo, Repub. of the',\n 'Cook Islands',\n 'Czech Republic',\n 'East Timor',\n 'Egypt',\n 'French Guiana',\n 'Gaza Strip',\n 'Guadeloupe',\n 'Guernsey',\n 'Hong Kong',\n 'Iran',\n 'Jersey',\n 'Korea, North',\n 'Korea, South',\n 'Kyrgyzstan',\n 'Laos',\n 'Macau',\n 'Macedonia',\n 'Martinique',\n 'Mayotte',\n 'Micronesia, Fed. St.',\n 'Montserrat',\n 'N. Mariana Islands',\n 'Netherlands Antilles',\n 'Reunion',\n 'Russia',\n 'Saint Helena',\n 'Saint Kitts and Nevis',\n 'Saint Lucia',\n 'Saint Vincent and the Grenadines',\n 'Slovakia',\n 'St Pierre and Miquelon',\n 'Swaziland',\n 'Syria',\n 'Taiwan',\n 'Turkey',\n 'Turks and Caicos Is',\n 'Venezuela',\n 'Virgin Islands',\n 'Wallis and Futuna',\n 'West Bank',\n 'Western Sahara',\n 'Yemen']"
     },
     "execution_count": 10,
     "metadata": {},
     "output_type": "execute_result"
    }
   ],
   "source": [
    "umnached_countries"
   ],
   "metadata": {
    "collapsed": false,
    "pycharm": {
     "name": "#%%\n"
    }
   }
  },
  {
   "cell_type": "code",
   "execution_count": 11,
   "outputs": [
    {
     "data": {
      "text/plain": "44"
     },
     "execution_count": 11,
     "metadata": {},
     "output_type": "execute_result"
    }
   ],
   "source": [
    "len(unmatched_main)"
   ],
   "metadata": {
    "collapsed": false,
    "pycharm": {
     "name": "#%%\n"
    }
   }
  },
  {
   "cell_type": "code",
   "execution_count": 12,
   "outputs": [
    {
     "name": "stdout",
     "output_type": "stream",
     "text": [
      "British Virgin Islands;Anguilla\n",
      "Brunei Darussalam;British Virgin Is.\n",
      "Cabo Verde;Brunei\n",
      "Central African Republic;Burma\n",
      "Channel Islands;Cape Verde\n",
      "Congo, Rep.;Central African Rep.\n",
      "Curacao;Congo, Repub. of the\n",
      "Czechia;Cook Islands\n",
      "East Asia & Pacific (IDA & IBRD countries);Czech Republic\n",
      "Egypt, Arab Rep.;East Timor\n",
      "Eswatini;Egypt\n",
      "Europe & Central Asia (IDA & IBRD countries);French Guiana\n",
      "Hong Kong SAR, China;Gaza Strip\n",
      "Iran, Islamic Rep.;Guadeloupe\n",
      "Korea, Dem. People's Rep.;Guernsey\n",
      "Korea, Rep.;Hong Kong\n",
      "Kosovo;Iran\n",
      "Kyrgyz Republic;Jersey\n",
      "Lao PDR;Korea, North\n",
      "Latin America & the Caribbean (IDA & IBRD countries);Korea, South\n",
      "Macao SAR, China;Kyrgyzstan\n",
      "Micronesia, Fed. Sts.;Laos\n",
      "Middle East & North Africa (IDA & IBRD countries);Macau\n",
      "Montenegro;Macedonia\n",
      "Myanmar;Martinique\n",
      "North Macedonia;Mayotte\n",
      "Northern Mariana Islands;Micronesia, Fed. St.\n",
      "Russian Federation;Montserrat\n",
      "Sint Maarten (Dutch part);N. Mariana Islands\n",
      "Slovak Republic;Netherlands Antilles\n",
      "South Sudan;Reunion\n",
      "St. Kitts and Nevis;Russia\n",
      "St. Lucia;Saint Helena\n",
      "St. Martin (French part);Saint Kitts and Nevis\n",
      "St. Vincent and the Grenadines;Saint Lucia\n",
      "Sub-Saharan Africa (IDA & IBRD countries);Saint Vincent and the Grenadines\n",
      "Syrian Arab Republic;Slovakia\n",
      "Timor-Leste;St Pierre and Miquelon\n",
      "Turkiye;Swaziland\n",
      "Turks and Caicos Islands;Syria\n",
      "Venezuela, RB;Taiwan\n",
      "Virgin Islands (U.S.);Turkey\n",
      "West Bank and Gaza;Turks and Caicos Is\n",
      "Yemen, Rep.;Venezuela\n",
      "---------;Virgin Islands\n",
      "---------;Wallis and Futuna\n",
      "---------;West Bank\n",
      "---------;Western Sahara\n",
      "---------;Yemen\n"
     ]
    }
   ],
   "source": [
    "country_i = 0\n",
    "main_i = 0\n",
    "while (country_i < len(umnached_countries) or main_i < len(unmatched_main)):\n",
    "    if main_i < len(unmatched_main):\n",
    "        print(unmatched_main[main_i], end=';')\n",
    "    else:\n",
    "        print('---------', end=';')\n",
    "    if country_i < len(umnached_countries):\n",
    "        print(umnached_countries[country_i])\n",
    "    else:\n",
    "        print('---------')\n",
    "    main_i += 1\n",
    "    country_i += 1"
   ],
   "metadata": {
    "collapsed": false,
    "pycharm": {
     "name": "#%%\n"
    }
   }
  },
  {
   "cell_type": "code",
   "execution_count": 13,
   "outputs": [],
   "source": [
    "df_main = df_tmp"
   ],
   "metadata": {
    "collapsed": false,
    "pycharm": {
     "name": "#%%\n"
    }
   }
  },
  {
   "cell_type": "code",
   "execution_count": 14,
   "outputs": [
    {
     "data": {
      "text/plain": "     country_name country_code  year  AG.LND.AGRI.ZS  AG.LND.ARBL.ZS  \\\n0     Afghanistan          AFG  1990       58.322984       12.127624   \n1     Afghanistan          AFG  1991       58.307652       12.127624   \n2     Afghanistan          AFG  1992       58.307652       12.127624   \n3     Afghanistan          AFG  1993       58.160465       11.995768   \n4     Afghanistan          AFG  1994       57.974947       11.810251   \n...           ...          ...   ...             ...             ...   \n5101     Zimbabwe          ZWE  2008       42.522942       10.986170   \n5102     Zimbabwe          ZWE  2009       42.135195       10.598423   \n5103     Zimbabwe          ZWE  2010       41.876696       10.339925   \n5104     Zimbabwe          ZWE  2011       42.393693       10.856921   \n5105     Zimbabwe          ZWE  2012       41.876696       10.339925   \n\n      AG.LND.FRST.ZS  BX.KLT.DINV.WD.GD.ZS  EG.ELC.COAL.ZS  EG.ELC.HYRO.ZS  \\\n0           1.852782                   NaN             NaN             NaN   \n1           1.852782                   NaN             NaN             NaN   \n2           1.852782                   NaN             NaN             NaN   \n3           1.852782                   NaN             NaN             NaN   \n4           1.852782                   NaN             NaN             NaN   \n...              ...                   ...             ...             ...   \n5101       46.522993              1.168557       23.711475       74.859016   \n5102       46.403903              1.086305       24.070772       74.859416   \n5103       46.284813              1.018022       31.713791       66.924409   \n5104       46.165723              2.441511       41.655816       56.434462   \n5105       46.046633              2.044131       39.052483       58.567858   \n\n      EG.ELC.NGAS.ZS  ...  SP.POP.GROW  SP.POP.TOTL  SP.URB.GROW  \\\n0                NaN  ...     0.202434   10694796.0     0.623574   \n1                NaN  ...     0.469880   10745167.0     0.889255   \n2                NaN  ...    11.522524   12057433.0    11.940176   \n3                NaN  ...    14.964455   14003760.0    15.380336   \n4                NaN  ...     9.864262   15455555.0    10.283085   \n...              ...  ...          ...          ...          ...   \n5101             0.0  ...     0.798207   12550347.0     0.254389   \n5102             0.0  ...     1.026265   12679810.0     0.482488   \n5103             0.0  ...     1.253650   12839771.0     0.706879   \n5104             0.0  ...     1.438339   13025785.0     0.891612   \n5105             0.0  ...     1.822309   13265331.0     1.272568   \n\n      SP.URB.TOTL.IN.ZS          IncomeGroup           gdp  \\\n0                21.177           Low income           NaN   \n1                21.266           Low income           NaN   \n2                21.355           Low income           NaN   \n3                21.444           Low income           NaN   \n4                21.534           Low income           NaN   \n...                 ...                  ...           ...   \n5101             33.560  Lower middle income  4.415703e+09   \n5102             33.378  Lower middle income  9.665793e+09   \n5103             33.196  Lower middle income  1.204166e+10   \n5104             33.015  Lower middle income  1.410192e+10   \n5105             32.834  Lower middle income  1.711485e+10   \n\n      liquid_fuel_pcapita  gaseous_fuel_pcapita  solid_fuel_pcapita  \\\n0                0.139224              0.030326            0.020953   \n1                0.130264              0.029441            0.018887   \n2                0.074792              0.029266            0.001774   \n3                0.062954              0.024769            0.001290   \n4                0.055092              0.021660            0.000942   \n...                   ...                   ...                 ...   \n5101             0.128268              0.000000            0.475090   \n5102             0.131586              0.000000            0.282548   \n5103             0.134431              0.000000            0.430125   \n5104             0.248807              0.000000            0.446734   \n5105             0.276345              0.000000            0.257155   \n\n               area  \n0     250000.000000  \n1     250000.000000  \n2     250000.000000  \n3     250000.000000  \n4     250000.000000  \n...             ...  \n5101  150803.088803  \n5102  150803.088803  \n5103  150803.088803  \n5104  150803.088803  \n5105  150803.088803  \n\n[5106 rows x 36 columns]",
      "text/html": "<div>\n<style scoped>\n    .dataframe tbody tr th:only-of-type {\n        vertical-align: middle;\n    }\n\n    .dataframe tbody tr th {\n        vertical-align: top;\n    }\n\n    .dataframe thead th {\n        text-align: right;\n    }\n</style>\n<table border=\"1\" class=\"dataframe\">\n  <thead>\n    <tr style=\"text-align: right;\">\n      <th></th>\n      <th>country_name</th>\n      <th>country_code</th>\n      <th>year</th>\n      <th>AG.LND.AGRI.ZS</th>\n      <th>AG.LND.ARBL.ZS</th>\n      <th>AG.LND.FRST.ZS</th>\n      <th>BX.KLT.DINV.WD.GD.ZS</th>\n      <th>EG.ELC.COAL.ZS</th>\n      <th>EG.ELC.HYRO.ZS</th>\n      <th>EG.ELC.NGAS.ZS</th>\n      <th>...</th>\n      <th>SP.POP.GROW</th>\n      <th>SP.POP.TOTL</th>\n      <th>SP.URB.GROW</th>\n      <th>SP.URB.TOTL.IN.ZS</th>\n      <th>IncomeGroup</th>\n      <th>gdp</th>\n      <th>liquid_fuel_pcapita</th>\n      <th>gaseous_fuel_pcapita</th>\n      <th>solid_fuel_pcapita</th>\n      <th>area</th>\n    </tr>\n  </thead>\n  <tbody>\n    <tr>\n      <th>0</th>\n      <td>Afghanistan</td>\n      <td>AFG</td>\n      <td>1990</td>\n      <td>58.322984</td>\n      <td>12.127624</td>\n      <td>1.852782</td>\n      <td>NaN</td>\n      <td>NaN</td>\n      <td>NaN</td>\n      <td>NaN</td>\n      <td>...</td>\n      <td>0.202434</td>\n      <td>10694796.0</td>\n      <td>0.623574</td>\n      <td>21.177</td>\n      <td>Low income</td>\n      <td>NaN</td>\n      <td>0.139224</td>\n      <td>0.030326</td>\n      <td>0.020953</td>\n      <td>250000.000000</td>\n    </tr>\n    <tr>\n      <th>1</th>\n      <td>Afghanistan</td>\n      <td>AFG</td>\n      <td>1991</td>\n      <td>58.307652</td>\n      <td>12.127624</td>\n      <td>1.852782</td>\n      <td>NaN</td>\n      <td>NaN</td>\n      <td>NaN</td>\n      <td>NaN</td>\n      <td>...</td>\n      <td>0.469880</td>\n      <td>10745167.0</td>\n      <td>0.889255</td>\n      <td>21.266</td>\n      <td>Low income</td>\n      <td>NaN</td>\n      <td>0.130264</td>\n      <td>0.029441</td>\n      <td>0.018887</td>\n      <td>250000.000000</td>\n    </tr>\n    <tr>\n      <th>2</th>\n      <td>Afghanistan</td>\n      <td>AFG</td>\n      <td>1992</td>\n      <td>58.307652</td>\n      <td>12.127624</td>\n      <td>1.852782</td>\n      <td>NaN</td>\n      <td>NaN</td>\n      <td>NaN</td>\n      <td>NaN</td>\n      <td>...</td>\n      <td>11.522524</td>\n      <td>12057433.0</td>\n      <td>11.940176</td>\n      <td>21.355</td>\n      <td>Low income</td>\n      <td>NaN</td>\n      <td>0.074792</td>\n      <td>0.029266</td>\n      <td>0.001774</td>\n      <td>250000.000000</td>\n    </tr>\n    <tr>\n      <th>3</th>\n      <td>Afghanistan</td>\n      <td>AFG</td>\n      <td>1993</td>\n      <td>58.160465</td>\n      <td>11.995768</td>\n      <td>1.852782</td>\n      <td>NaN</td>\n      <td>NaN</td>\n      <td>NaN</td>\n      <td>NaN</td>\n      <td>...</td>\n      <td>14.964455</td>\n      <td>14003760.0</td>\n      <td>15.380336</td>\n      <td>21.444</td>\n      <td>Low income</td>\n      <td>NaN</td>\n      <td>0.062954</td>\n      <td>0.024769</td>\n      <td>0.001290</td>\n      <td>250000.000000</td>\n    </tr>\n    <tr>\n      <th>4</th>\n      <td>Afghanistan</td>\n      <td>AFG</td>\n      <td>1994</td>\n      <td>57.974947</td>\n      <td>11.810251</td>\n      <td>1.852782</td>\n      <td>NaN</td>\n      <td>NaN</td>\n      <td>NaN</td>\n      <td>NaN</td>\n      <td>...</td>\n      <td>9.864262</td>\n      <td>15455555.0</td>\n      <td>10.283085</td>\n      <td>21.534</td>\n      <td>Low income</td>\n      <td>NaN</td>\n      <td>0.055092</td>\n      <td>0.021660</td>\n      <td>0.000942</td>\n      <td>250000.000000</td>\n    </tr>\n    <tr>\n      <th>...</th>\n      <td>...</td>\n      <td>...</td>\n      <td>...</td>\n      <td>...</td>\n      <td>...</td>\n      <td>...</td>\n      <td>...</td>\n      <td>...</td>\n      <td>...</td>\n      <td>...</td>\n      <td>...</td>\n      <td>...</td>\n      <td>...</td>\n      <td>...</td>\n      <td>...</td>\n      <td>...</td>\n      <td>...</td>\n      <td>...</td>\n      <td>...</td>\n      <td>...</td>\n      <td>...</td>\n    </tr>\n    <tr>\n      <th>5101</th>\n      <td>Zimbabwe</td>\n      <td>ZWE</td>\n      <td>2008</td>\n      <td>42.522942</td>\n      <td>10.986170</td>\n      <td>46.522993</td>\n      <td>1.168557</td>\n      <td>23.711475</td>\n      <td>74.859016</td>\n      <td>0.0</td>\n      <td>...</td>\n      <td>0.798207</td>\n      <td>12550347.0</td>\n      <td>0.254389</td>\n      <td>33.560</td>\n      <td>Lower middle income</td>\n      <td>4.415703e+09</td>\n      <td>0.128268</td>\n      <td>0.000000</td>\n      <td>0.475090</td>\n      <td>150803.088803</td>\n    </tr>\n    <tr>\n      <th>5102</th>\n      <td>Zimbabwe</td>\n      <td>ZWE</td>\n      <td>2009</td>\n      <td>42.135195</td>\n      <td>10.598423</td>\n      <td>46.403903</td>\n      <td>1.086305</td>\n      <td>24.070772</td>\n      <td>74.859416</td>\n      <td>0.0</td>\n      <td>...</td>\n      <td>1.026265</td>\n      <td>12679810.0</td>\n      <td>0.482488</td>\n      <td>33.378</td>\n      <td>Lower middle income</td>\n      <td>9.665793e+09</td>\n      <td>0.131586</td>\n      <td>0.000000</td>\n      <td>0.282548</td>\n      <td>150803.088803</td>\n    </tr>\n    <tr>\n      <th>5103</th>\n      <td>Zimbabwe</td>\n      <td>ZWE</td>\n      <td>2010</td>\n      <td>41.876696</td>\n      <td>10.339925</td>\n      <td>46.284813</td>\n      <td>1.018022</td>\n      <td>31.713791</td>\n      <td>66.924409</td>\n      <td>0.0</td>\n      <td>...</td>\n      <td>1.253650</td>\n      <td>12839771.0</td>\n      <td>0.706879</td>\n      <td>33.196</td>\n      <td>Lower middle income</td>\n      <td>1.204166e+10</td>\n      <td>0.134431</td>\n      <td>0.000000</td>\n      <td>0.430125</td>\n      <td>150803.088803</td>\n    </tr>\n    <tr>\n      <th>5104</th>\n      <td>Zimbabwe</td>\n      <td>ZWE</td>\n      <td>2011</td>\n      <td>42.393693</td>\n      <td>10.856921</td>\n      <td>46.165723</td>\n      <td>2.441511</td>\n      <td>41.655816</td>\n      <td>56.434462</td>\n      <td>0.0</td>\n      <td>...</td>\n      <td>1.438339</td>\n      <td>13025785.0</td>\n      <td>0.891612</td>\n      <td>33.015</td>\n      <td>Lower middle income</td>\n      <td>1.410192e+10</td>\n      <td>0.248807</td>\n      <td>0.000000</td>\n      <td>0.446734</td>\n      <td>150803.088803</td>\n    </tr>\n    <tr>\n      <th>5105</th>\n      <td>Zimbabwe</td>\n      <td>ZWE</td>\n      <td>2012</td>\n      <td>41.876696</td>\n      <td>10.339925</td>\n      <td>46.046633</td>\n      <td>2.044131</td>\n      <td>39.052483</td>\n      <td>58.567858</td>\n      <td>0.0</td>\n      <td>...</td>\n      <td>1.822309</td>\n      <td>13265331.0</td>\n      <td>1.272568</td>\n      <td>32.834</td>\n      <td>Lower middle income</td>\n      <td>1.711485e+10</td>\n      <td>0.276345</td>\n      <td>0.000000</td>\n      <td>0.257155</td>\n      <td>150803.088803</td>\n    </tr>\n  </tbody>\n</table>\n<p>5106 rows × 36 columns</p>\n</div>"
     },
     "execution_count": 14,
     "metadata": {},
     "output_type": "execute_result"
    }
   ],
   "source": [
    "df_tmp"
   ],
   "metadata": {
    "collapsed": false,
    "pycharm": {
     "name": "#%%\n"
    }
   }
  },
  {
   "cell_type": "markdown",
   "source": [
    "### Total land"
   ],
   "metadata": {
    "collapsed": false,
    "pycharm": {
     "name": "#%% md\n"
    }
   }
  },
  {
   "cell_type": "code",
   "execution_count": 14,
   "outputs": [],
   "source": [],
   "metadata": {
    "collapsed": false,
    "pycharm": {
     "name": "#%%\n"
    }
   }
  },
  {
   "cell_type": "code",
   "execution_count": 15,
   "outputs": [],
   "source": [
    "df_main['total_agri_land'] = df_main['area'] * ((df_tmp['AG.LND.AGRI.ZS'] + df_tmp['AG.LND.ARBL.ZS'] + df_tmp['AG.LND.FRST.ZS'])/100)"
   ],
   "metadata": {
    "collapsed": false,
    "pycharm": {
     "name": "#%%\n"
    }
   }
  },
  {
   "cell_type": "code",
   "execution_count": 16,
   "outputs": [
    {
     "data": {
      "text/plain": "      total_agri_land           area\n0       180758.474771  250000.000000\n1       180720.144734  250000.000000\n2       180720.144734  250000.000000\n3       180022.538062  250000.000000\n4       179094.951168  250000.000000\n...               ...            ...\n5101    150851.504839  150803.088803\n5102    149502.443835  150803.088803\n5103    148543.205990  150803.088803\n5104    149922.907094  150803.088803\n5105    148184.022931  150803.088803\n\n[5106 rows x 2 columns]",
      "text/html": "<div>\n<style scoped>\n    .dataframe tbody tr th:only-of-type {\n        vertical-align: middle;\n    }\n\n    .dataframe tbody tr th {\n        vertical-align: top;\n    }\n\n    .dataframe thead th {\n        text-align: right;\n    }\n</style>\n<table border=\"1\" class=\"dataframe\">\n  <thead>\n    <tr style=\"text-align: right;\">\n      <th></th>\n      <th>total_agri_land</th>\n      <th>area</th>\n    </tr>\n  </thead>\n  <tbody>\n    <tr>\n      <th>0</th>\n      <td>180758.474771</td>\n      <td>250000.000000</td>\n    </tr>\n    <tr>\n      <th>1</th>\n      <td>180720.144734</td>\n      <td>250000.000000</td>\n    </tr>\n    <tr>\n      <th>2</th>\n      <td>180720.144734</td>\n      <td>250000.000000</td>\n    </tr>\n    <tr>\n      <th>3</th>\n      <td>180022.538062</td>\n      <td>250000.000000</td>\n    </tr>\n    <tr>\n      <th>4</th>\n      <td>179094.951168</td>\n      <td>250000.000000</td>\n    </tr>\n    <tr>\n      <th>...</th>\n      <td>...</td>\n      <td>...</td>\n    </tr>\n    <tr>\n      <th>5101</th>\n      <td>150851.504839</td>\n      <td>150803.088803</td>\n    </tr>\n    <tr>\n      <th>5102</th>\n      <td>149502.443835</td>\n      <td>150803.088803</td>\n    </tr>\n    <tr>\n      <th>5103</th>\n      <td>148543.205990</td>\n      <td>150803.088803</td>\n    </tr>\n    <tr>\n      <th>5104</th>\n      <td>149922.907094</td>\n      <td>150803.088803</td>\n    </tr>\n    <tr>\n      <th>5105</th>\n      <td>148184.022931</td>\n      <td>150803.088803</td>\n    </tr>\n  </tbody>\n</table>\n<p>5106 rows × 2 columns</p>\n</div>"
     },
     "execution_count": 16,
     "metadata": {},
     "output_type": "execute_result"
    }
   ],
   "source": [
    "df_main[['total_agri_land', 'area']]"
   ],
   "metadata": {
    "collapsed": false,
    "pycharm": {
     "name": "#%%\n"
    }
   }
  },
  {
   "cell_type": "markdown",
   "source": [
    "### area_efficiency"
   ],
   "metadata": {
    "collapsed": false,
    "pycharm": {
     "name": "#%% md\n"
    }
   }
  },
  {
   "cell_type": "code",
   "execution_count": 17,
   "outputs": [],
   "source": [
    "df_main['area_efficiency'] = (df_main['NV.AGR.TOTL.ZS'] * df_main['gdp'] / 100) / df_main['total_agri_land']"
   ],
   "metadata": {
    "collapsed": false,
    "pycharm": {
     "name": "#%%\n"
    }
   }
  },
  {
   "cell_type": "code",
   "execution_count": 18,
   "outputs": [
    {
     "data": {
      "text/plain": "0       180758.474771\n1       180720.144734\n2       180720.144734\n3       180022.538062\n4       179094.951168\n            ...      \n5101    150851.504839\n5102    149502.443835\n5103    148543.205990\n5104    149922.907094\n5105    148184.022931\nName: total_agri_land, Length: 5106, dtype: float64"
     },
     "execution_count": 18,
     "metadata": {},
     "output_type": "execute_result"
    }
   ],
   "source": [
    "df_main['total_agri_land']"
   ],
   "metadata": {
    "collapsed": false,
    "pycharm": {
     "name": "#%%\n"
    }
   }
  },
  {
   "cell_type": "code",
   "execution_count": 19,
   "outputs": [
    {
     "data": {
      "text/plain": "0             NaN\n1             NaN\n2             NaN\n3             NaN\n4             NaN\n          ...    \n5101    19.021074\n5102    10.742550\n5103     9.609863\n5104     8.665865\n5105     8.044518\nName: NV.AGR.TOTL.ZS, Length: 5106, dtype: float64"
     },
     "execution_count": 19,
     "metadata": {},
     "output_type": "execute_result"
    }
   ],
   "source": [
    "df_main['NV.AGR.TOTL.ZS']"
   ],
   "metadata": {
    "collapsed": false,
    "pycharm": {
     "name": "#%%\n"
    }
   }
  },
  {
   "cell_type": "code",
   "execution_count": 20,
   "outputs": [
    {
     "data": {
      "text/plain": "0                NaN\n1                NaN\n2                NaN\n3                NaN\n4                NaN\n            ...     \n5101    8.399141e+08\n5102    1.038353e+09\n5103    1.157187e+09\n5104    1.222053e+09\n5105    1.376807e+09\nLength: 5106, dtype: float64"
     },
     "execution_count": 20,
     "metadata": {},
     "output_type": "execute_result"
    }
   ],
   "source": [
    "df_main['gdp'] * df_main['NV.AGR.TOTL.ZS'] / 100"
   ],
   "metadata": {
    "collapsed": false,
    "pycharm": {
     "name": "#%%\n"
    }
   }
  },
  {
   "cell_type": "code",
   "execution_count": 21,
   "outputs": [
    {
     "data": {
      "text/plain": "0               NaN\n1               NaN\n2               NaN\n3               NaN\n4               NaN\n           ...     \n5101    5567.820493\n5102    6945.389476\n5103    7790.235792\n5104    8151.212004\n5105    9291.198017\nName: area_efficiency, Length: 5106, dtype: float64"
     },
     "execution_count": 21,
     "metadata": {},
     "output_type": "execute_result"
    }
   ],
   "source": [
    "df_main['area_efficiency']"
   ],
   "metadata": {
    "collapsed": false,
    "pycharm": {
     "name": "#%%\n"
    }
   }
  },
  {
   "cell_type": "markdown",
   "source": [
    "### urban_growth_in_zs"
   ],
   "metadata": {
    "collapsed": false,
    "pycharm": {
     "name": "#%% md\n"
    }
   }
  },
  {
   "cell_type": "code",
   "execution_count": 25,
   "outputs": [],
   "source": [
    "df_main.to_csv('yearly_data.csv', sep=';', decimal=',')"
   ],
   "metadata": {
    "collapsed": false,
    "pycharm": {
     "name": "#%%\n"
    }
   }
  },
  {
   "cell_type": "code",
   "execution_count": 22,
   "outputs": [
    {
     "data": {
      "text/plain": "     country_name country_code  year  AG.LND.AGRI.ZS  AG.LND.ARBL.ZS  \\\n0     Afghanistan          AFG  1990       58.322984       12.127624   \n1     Afghanistan          AFG  1991       58.307652       12.127624   \n2     Afghanistan          AFG  1992       58.307652       12.127624   \n3     Afghanistan          AFG  1993       58.160465       11.995768   \n4     Afghanistan          AFG  1994       57.974947       11.810251   \n...           ...          ...   ...             ...             ...   \n5101     Zimbabwe          ZWE  2008       42.522942       10.986170   \n5102     Zimbabwe          ZWE  2009       42.135195       10.598423   \n5103     Zimbabwe          ZWE  2010       41.876696       10.339925   \n5104     Zimbabwe          ZWE  2011       42.393693       10.856921   \n5105     Zimbabwe          ZWE  2012       41.876696       10.339925   \n\n      AG.LND.FRST.ZS  BX.KLT.DINV.WD.GD.ZS  EG.ELC.COAL.ZS  EG.ELC.HYRO.ZS  \\\n0           1.852782                   NaN             NaN             NaN   \n1           1.852782                   NaN             NaN             NaN   \n2           1.852782                   NaN             NaN             NaN   \n3           1.852782                   NaN             NaN             NaN   \n4           1.852782                   NaN             NaN             NaN   \n...              ...                   ...             ...             ...   \n5101       46.522993              1.168557       23.711475       74.859016   \n5102       46.403903              1.086305       24.070772       74.859416   \n5103       46.284813              1.018022       31.713791       66.924409   \n5104       46.165723              2.441511       41.655816       56.434462   \n5105       46.046633              2.044131       39.052483       58.567858   \n\n      EG.ELC.NGAS.ZS  ...  SP.URB.GROW  SP.URB.TOTL.IN.ZS  \\\n0                NaN  ...     0.623574             21.177   \n1                NaN  ...     0.889255             21.266   \n2                NaN  ...    11.940176             21.355   \n3                NaN  ...    15.380336             21.444   \n4                NaN  ...    10.283085             21.534   \n...              ...  ...          ...                ...   \n5101             0.0  ...     0.254389             33.560   \n5102             0.0  ...     0.482488             33.378   \n5103             0.0  ...     0.706879             33.196   \n5104             0.0  ...     0.891612             33.015   \n5105             0.0  ...     1.272568             32.834   \n\n              IncomeGroup           gdp  liquid_fuel_pcapita  \\\n0              Low income           NaN             0.139224   \n1              Low income           NaN             0.130264   \n2              Low income           NaN             0.074792   \n3              Low income           NaN             0.062954   \n4              Low income           NaN             0.055092   \n...                   ...           ...                  ...   \n5101  Lower middle income  4.415703e+09             0.128268   \n5102  Lower middle income  9.665793e+09             0.131586   \n5103  Lower middle income  1.204166e+10             0.134431   \n5104  Lower middle income  1.410192e+10             0.248807   \n5105  Lower middle income  1.711485e+10             0.276345   \n\n      gaseous_fuel_pcapita  solid_fuel_pcapita           area  \\\n0                 0.030326            0.020953  250000.000000   \n1                 0.029441            0.018887  250000.000000   \n2                 0.029266            0.001774  250000.000000   \n3                 0.024769            0.001290  250000.000000   \n4                 0.021660            0.000942  250000.000000   \n...                    ...                 ...            ...   \n5101              0.000000            0.475090  150803.088803   \n5102              0.000000            0.282548  150803.088803   \n5103              0.000000            0.430125  150803.088803   \n5104              0.000000            0.446734  150803.088803   \n5105              0.000000            0.257155  150803.088803   \n\n      total_agri_land  area_efficiency  \n0       180758.474771              NaN  \n1       180720.144734              NaN  \n2       180720.144734              NaN  \n3       180022.538062              NaN  \n4       179094.951168              NaN  \n...               ...              ...  \n5101    150851.504839      5567.820493  \n5102    149502.443835      6945.389476  \n5103    148543.205990      7790.235792  \n5104    149922.907094      8151.212004  \n5105    148184.022931      9291.198017  \n\n[5106 rows x 38 columns]",
      "text/html": "<div>\n<style scoped>\n    .dataframe tbody tr th:only-of-type {\n        vertical-align: middle;\n    }\n\n    .dataframe tbody tr th {\n        vertical-align: top;\n    }\n\n    .dataframe thead th {\n        text-align: right;\n    }\n</style>\n<table border=\"1\" class=\"dataframe\">\n  <thead>\n    <tr style=\"text-align: right;\">\n      <th></th>\n      <th>country_name</th>\n      <th>country_code</th>\n      <th>year</th>\n      <th>AG.LND.AGRI.ZS</th>\n      <th>AG.LND.ARBL.ZS</th>\n      <th>AG.LND.FRST.ZS</th>\n      <th>BX.KLT.DINV.WD.GD.ZS</th>\n      <th>EG.ELC.COAL.ZS</th>\n      <th>EG.ELC.HYRO.ZS</th>\n      <th>EG.ELC.NGAS.ZS</th>\n      <th>...</th>\n      <th>SP.URB.GROW</th>\n      <th>SP.URB.TOTL.IN.ZS</th>\n      <th>IncomeGroup</th>\n      <th>gdp</th>\n      <th>liquid_fuel_pcapita</th>\n      <th>gaseous_fuel_pcapita</th>\n      <th>solid_fuel_pcapita</th>\n      <th>area</th>\n      <th>total_agri_land</th>\n      <th>area_efficiency</th>\n    </tr>\n  </thead>\n  <tbody>\n    <tr>\n      <th>0</th>\n      <td>Afghanistan</td>\n      <td>AFG</td>\n      <td>1990</td>\n      <td>58.322984</td>\n      <td>12.127624</td>\n      <td>1.852782</td>\n      <td>NaN</td>\n      <td>NaN</td>\n      <td>NaN</td>\n      <td>NaN</td>\n      <td>...</td>\n      <td>0.623574</td>\n      <td>21.177</td>\n      <td>Low income</td>\n      <td>NaN</td>\n      <td>0.139224</td>\n      <td>0.030326</td>\n      <td>0.020953</td>\n      <td>250000.000000</td>\n      <td>180758.474771</td>\n      <td>NaN</td>\n    </tr>\n    <tr>\n      <th>1</th>\n      <td>Afghanistan</td>\n      <td>AFG</td>\n      <td>1991</td>\n      <td>58.307652</td>\n      <td>12.127624</td>\n      <td>1.852782</td>\n      <td>NaN</td>\n      <td>NaN</td>\n      <td>NaN</td>\n      <td>NaN</td>\n      <td>...</td>\n      <td>0.889255</td>\n      <td>21.266</td>\n      <td>Low income</td>\n      <td>NaN</td>\n      <td>0.130264</td>\n      <td>0.029441</td>\n      <td>0.018887</td>\n      <td>250000.000000</td>\n      <td>180720.144734</td>\n      <td>NaN</td>\n    </tr>\n    <tr>\n      <th>2</th>\n      <td>Afghanistan</td>\n      <td>AFG</td>\n      <td>1992</td>\n      <td>58.307652</td>\n      <td>12.127624</td>\n      <td>1.852782</td>\n      <td>NaN</td>\n      <td>NaN</td>\n      <td>NaN</td>\n      <td>NaN</td>\n      <td>...</td>\n      <td>11.940176</td>\n      <td>21.355</td>\n      <td>Low income</td>\n      <td>NaN</td>\n      <td>0.074792</td>\n      <td>0.029266</td>\n      <td>0.001774</td>\n      <td>250000.000000</td>\n      <td>180720.144734</td>\n      <td>NaN</td>\n    </tr>\n    <tr>\n      <th>3</th>\n      <td>Afghanistan</td>\n      <td>AFG</td>\n      <td>1993</td>\n      <td>58.160465</td>\n      <td>11.995768</td>\n      <td>1.852782</td>\n      <td>NaN</td>\n      <td>NaN</td>\n      <td>NaN</td>\n      <td>NaN</td>\n      <td>...</td>\n      <td>15.380336</td>\n      <td>21.444</td>\n      <td>Low income</td>\n      <td>NaN</td>\n      <td>0.062954</td>\n      <td>0.024769</td>\n      <td>0.001290</td>\n      <td>250000.000000</td>\n      <td>180022.538062</td>\n      <td>NaN</td>\n    </tr>\n    <tr>\n      <th>4</th>\n      <td>Afghanistan</td>\n      <td>AFG</td>\n      <td>1994</td>\n      <td>57.974947</td>\n      <td>11.810251</td>\n      <td>1.852782</td>\n      <td>NaN</td>\n      <td>NaN</td>\n      <td>NaN</td>\n      <td>NaN</td>\n      <td>...</td>\n      <td>10.283085</td>\n      <td>21.534</td>\n      <td>Low income</td>\n      <td>NaN</td>\n      <td>0.055092</td>\n      <td>0.021660</td>\n      <td>0.000942</td>\n      <td>250000.000000</td>\n      <td>179094.951168</td>\n      <td>NaN</td>\n    </tr>\n    <tr>\n      <th>...</th>\n      <td>...</td>\n      <td>...</td>\n      <td>...</td>\n      <td>...</td>\n      <td>...</td>\n      <td>...</td>\n      <td>...</td>\n      <td>...</td>\n      <td>...</td>\n      <td>...</td>\n      <td>...</td>\n      <td>...</td>\n      <td>...</td>\n      <td>...</td>\n      <td>...</td>\n      <td>...</td>\n      <td>...</td>\n      <td>...</td>\n      <td>...</td>\n      <td>...</td>\n      <td>...</td>\n    </tr>\n    <tr>\n      <th>5101</th>\n      <td>Zimbabwe</td>\n      <td>ZWE</td>\n      <td>2008</td>\n      <td>42.522942</td>\n      <td>10.986170</td>\n      <td>46.522993</td>\n      <td>1.168557</td>\n      <td>23.711475</td>\n      <td>74.859016</td>\n      <td>0.0</td>\n      <td>...</td>\n      <td>0.254389</td>\n      <td>33.560</td>\n      <td>Lower middle income</td>\n      <td>4.415703e+09</td>\n      <td>0.128268</td>\n      <td>0.000000</td>\n      <td>0.475090</td>\n      <td>150803.088803</td>\n      <td>150851.504839</td>\n      <td>5567.820493</td>\n    </tr>\n    <tr>\n      <th>5102</th>\n      <td>Zimbabwe</td>\n      <td>ZWE</td>\n      <td>2009</td>\n      <td>42.135195</td>\n      <td>10.598423</td>\n      <td>46.403903</td>\n      <td>1.086305</td>\n      <td>24.070772</td>\n      <td>74.859416</td>\n      <td>0.0</td>\n      <td>...</td>\n      <td>0.482488</td>\n      <td>33.378</td>\n      <td>Lower middle income</td>\n      <td>9.665793e+09</td>\n      <td>0.131586</td>\n      <td>0.000000</td>\n      <td>0.282548</td>\n      <td>150803.088803</td>\n      <td>149502.443835</td>\n      <td>6945.389476</td>\n    </tr>\n    <tr>\n      <th>5103</th>\n      <td>Zimbabwe</td>\n      <td>ZWE</td>\n      <td>2010</td>\n      <td>41.876696</td>\n      <td>10.339925</td>\n      <td>46.284813</td>\n      <td>1.018022</td>\n      <td>31.713791</td>\n      <td>66.924409</td>\n      <td>0.0</td>\n      <td>...</td>\n      <td>0.706879</td>\n      <td>33.196</td>\n      <td>Lower middle income</td>\n      <td>1.204166e+10</td>\n      <td>0.134431</td>\n      <td>0.000000</td>\n      <td>0.430125</td>\n      <td>150803.088803</td>\n      <td>148543.205990</td>\n      <td>7790.235792</td>\n    </tr>\n    <tr>\n      <th>5104</th>\n      <td>Zimbabwe</td>\n      <td>ZWE</td>\n      <td>2011</td>\n      <td>42.393693</td>\n      <td>10.856921</td>\n      <td>46.165723</td>\n      <td>2.441511</td>\n      <td>41.655816</td>\n      <td>56.434462</td>\n      <td>0.0</td>\n      <td>...</td>\n      <td>0.891612</td>\n      <td>33.015</td>\n      <td>Lower middle income</td>\n      <td>1.410192e+10</td>\n      <td>0.248807</td>\n      <td>0.000000</td>\n      <td>0.446734</td>\n      <td>150803.088803</td>\n      <td>149922.907094</td>\n      <td>8151.212004</td>\n    </tr>\n    <tr>\n      <th>5105</th>\n      <td>Zimbabwe</td>\n      <td>ZWE</td>\n      <td>2012</td>\n      <td>41.876696</td>\n      <td>10.339925</td>\n      <td>46.046633</td>\n      <td>2.044131</td>\n      <td>39.052483</td>\n      <td>58.567858</td>\n      <td>0.0</td>\n      <td>...</td>\n      <td>1.272568</td>\n      <td>32.834</td>\n      <td>Lower middle income</td>\n      <td>1.711485e+10</td>\n      <td>0.276345</td>\n      <td>0.000000</td>\n      <td>0.257155</td>\n      <td>150803.088803</td>\n      <td>148184.022931</td>\n      <td>9291.198017</td>\n    </tr>\n  </tbody>\n</table>\n<p>5106 rows × 38 columns</p>\n</div>"
     },
     "execution_count": 22,
     "metadata": {},
     "output_type": "execute_result"
    }
   ],
   "source": [
    "df_main"
   ],
   "metadata": {
    "collapsed": false,
    "pycharm": {
     "name": "#%%\n"
    }
   }
  },
  {
   "cell_type": "code",
   "execution_count": 26,
   "outputs": [
    {
     "data": {
      "text/plain": "0        935.064407\n1        765.938263\n2       -263.076820\n3       -325.709000\n4       -650.316902\n           ...     \n5101     -30.492310\n5102    -532.520508\n5103     608.506409\n5104    1469.966370\n5105    1827.732117\nName: EN.ATM.GHGO.KT.CE, Length: 5106, dtype: float64"
     },
     "execution_count": 26,
     "metadata": {},
     "output_type": "execute_result"
    }
   ],
   "source": [
    "df_main['EN.ATM.GHGO.KT.CE']"
   ],
   "metadata": {
    "collapsed": false,
    "pycharm": {
     "name": "#%%\n"
    }
   }
  }
 ],
 "metadata": {
  "kernelspec": {
   "display_name": "Python 3",
   "language": "python",
   "name": "python3"
  },
  "language_info": {
   "codemirror_mode": {
    "name": "ipython",
    "version": 2
   },
   "file_extension": ".py",
   "mimetype": "text/x-python",
   "name": "python",
   "nbconvert_exporter": "python",
   "pygments_lexer": "ipython2",
   "version": "2.7.6"
  }
 },
 "nbformat": 4,
 "nbformat_minor": 0
}