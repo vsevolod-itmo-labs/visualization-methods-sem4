{
 "nbformat": 4,
 "nbformat_minor": 0,
 "metadata": {
  "colab": {
   "provenance": []
  },
  "kernelspec": {
   "name": "python3",
   "display_name": "Python 3"
  },
  "language_info": {
   "name": "python"
  }
 },
 "cells": [
  {
   "cell_type": "markdown",
   "source": [
    "Для выполнения заданий возьмите данные из папки [data](https://drive.google.com/drive/folders/17E4vB5kWr5FNjLKRU4XGoJSVTxn1jkg4?usp=sharing) о продажах. Данные распределены по 4 файлам:\n",
    "* sales_train.csv - данные о продажах с января 2013 по октябрь 2015.\n",
    "** date - дата продажы\n",
    "** date_block_num - номер месяца по порядку следования\n",
    "** shop_id - идентификатор магазина\n",
    "** item_id - идентификатор товара\n",
    "** item_price - цена товара\n",
    "** item_cnt_day - количество проданного товара одного вида в день\n",
    "\n",
    "* items.csv - подробная информация о товарах\n",
    "** item_id - идентификатор товара\n",
    "** item_name - название товара\n",
    "** category_id - идентификатор категории товара\n",
    "\n",
    "* item_categories.csv - подробная информация о категориях товаров\n",
    "** item_category_id - идентификатор категории товара\n",
    "** category_name - название категории товара\n",
    "\n",
    "* shops.csv - подробная информация о магазинах\n",
    "** shop_id - идентификатор магазина\n",
    "** shop_name - название магазина\n"
   ],
   "metadata": {
    "id": "gXG3QdhVLmkk",
    "pycharm": {
     "name": "#%% md\n"
    }
   }
  },
  {
   "cell_type": "code",
   "source": [
    "import pandas as pd\n",
    "import numpy as np\n",
    "from collections import defaultdict\n",
    "import datetime\n",
    "import calendar"
   ],
   "metadata": {
    "id": "-gVRjHHhwEl2",
    "colab": {
     "base_uri": "https://localhost:8080/"
    },
    "outputId": "03619a4f-36a9-4d78-93e8-f4e313dc7c35",
    "pycharm": {
     "name": "#%%\n"
    }
   },
   "execution_count": 1,
   "outputs": []
  },
  {
   "cell_type": "markdown",
   "source": [
    "Мой импорт файлов"
   ],
   "metadata": {
    "collapsed": false,
    "pycharm": {
     "name": "#%% md\n"
    }
   }
  },
  {
   "cell_type": "code",
   "execution_count": 3,
   "outputs": [],
   "source": [
    "folder_path = ''\n",
    "\n",
    "sales = pd.read_csv(folder_path+'sales_train.csv')\n",
    "sales['date'] = pd.to_datetime(sales['date'], format='%d.%m.%Y')\n",
    "items = pd.read_csv(folder_path+'items.csv')\n",
    "categ = pd.read_csv(folder_path+'item_categories.csv')\n",
    "shops = pd.read_csv(folder_path+'shops.csv')"
   ],
   "metadata": {
    "collapsed": false,
    "pycharm": {
     "name": "#%%\n"
    }
   }
  },
  {
   "cell_type": "markdown",
   "source": [
    "Исходный импорт файлов"
   ],
   "metadata": {
    "collapsed": false,
    "pycharm": {
     "name": "#%% md\n"
    }
   }
  },
  {
   "cell_type": "code",
   "source": [
    "from google.colab import drive\n",
    "drive.mount('/content/drive')\n",
    "\n",
    "categ = pd.read_csv(\"/content/drive/MyDrive/ITMO.Work/21 22/ВИМ/data/item_categories.csv\")\n",
    "items = pd.read_csv(\"/content/drive/MyDrive/ITMO.Work/21 22/ВИМ/data/items.csv\")\n",
    "sales = pd.read_csv(\"/content/drive/MyDrive/ITMO.Work/21 22/ВИМ/data/sales_train.csv\")\n",
    "sales['date'] = pd.to_datetime(sales['date'], format='%d.%m.%Y')\n",
    "shops = pd.read_csv(\"/content/drive/MyDrive/ITMO.Work/21 22/ВИМ/data/shops.csv\")"
   ],
   "metadata": {
    "id": "Ofg7Px4FwRF6",
    "pycharm": {
     "name": "#%%\n"
    }
   },
   "execution_count": 3,
   "outputs": []
  },
  {
   "cell_type": "code",
   "execution_count": 4,
   "outputs": [
    {
     "data": {
      "text/plain": "             date  date_block_num  shop_id  item_id  item_price  item_cnt_day\n0      2013-01-02               0       59    22154      999.00           1.0\n1      2013-01-03               0       25     2552      899.00           1.0\n2      2013-01-05               0       25     2552      899.00          -1.0\n3      2013-01-06               0       25     2554     1709.05           1.0\n4      2013-01-15               0       25     2555     1099.00           1.0\n...           ...             ...      ...      ...         ...           ...\n115685 2013-01-19               0       46       32      349.00           1.0\n115686 2013-01-18               0       46       32      349.00           1.0\n115687 2013-01-26               0       46       35      399.00           2.0\n115688 2013-01-31               0       46      621      149.00           1.0\n115689 2013-01-07               0       46       32      349.00           1.0\n\n[115690 rows x 6 columns]",
      "text/html": "<div>\n<style scoped>\n    .dataframe tbody tr th:only-of-type {\n        vertical-align: middle;\n    }\n\n    .dataframe tbody tr th {\n        vertical-align: top;\n    }\n\n    .dataframe thead th {\n        text-align: right;\n    }\n</style>\n<table border=\"1\" class=\"dataframe\">\n  <thead>\n    <tr style=\"text-align: right;\">\n      <th></th>\n      <th>date</th>\n      <th>date_block_num</th>\n      <th>shop_id</th>\n      <th>item_id</th>\n      <th>item_price</th>\n      <th>item_cnt_day</th>\n    </tr>\n  </thead>\n  <tbody>\n    <tr>\n      <th>0</th>\n      <td>2013-01-02</td>\n      <td>0</td>\n      <td>59</td>\n      <td>22154</td>\n      <td>999.00</td>\n      <td>1.0</td>\n    </tr>\n    <tr>\n      <th>1</th>\n      <td>2013-01-03</td>\n      <td>0</td>\n      <td>25</td>\n      <td>2552</td>\n      <td>899.00</td>\n      <td>1.0</td>\n    </tr>\n    <tr>\n      <th>2</th>\n      <td>2013-01-05</td>\n      <td>0</td>\n      <td>25</td>\n      <td>2552</td>\n      <td>899.00</td>\n      <td>-1.0</td>\n    </tr>\n    <tr>\n      <th>3</th>\n      <td>2013-01-06</td>\n      <td>0</td>\n      <td>25</td>\n      <td>2554</td>\n      <td>1709.05</td>\n      <td>1.0</td>\n    </tr>\n    <tr>\n      <th>4</th>\n      <td>2013-01-15</td>\n      <td>0</td>\n      <td>25</td>\n      <td>2555</td>\n      <td>1099.00</td>\n      <td>1.0</td>\n    </tr>\n    <tr>\n      <th>...</th>\n      <td>...</td>\n      <td>...</td>\n      <td>...</td>\n      <td>...</td>\n      <td>...</td>\n      <td>...</td>\n    </tr>\n    <tr>\n      <th>115685</th>\n      <td>2013-01-19</td>\n      <td>0</td>\n      <td>46</td>\n      <td>32</td>\n      <td>349.00</td>\n      <td>1.0</td>\n    </tr>\n    <tr>\n      <th>115686</th>\n      <td>2013-01-18</td>\n      <td>0</td>\n      <td>46</td>\n      <td>32</td>\n      <td>349.00</td>\n      <td>1.0</td>\n    </tr>\n    <tr>\n      <th>115687</th>\n      <td>2013-01-26</td>\n      <td>0</td>\n      <td>46</td>\n      <td>35</td>\n      <td>399.00</td>\n      <td>2.0</td>\n    </tr>\n    <tr>\n      <th>115688</th>\n      <td>2013-01-31</td>\n      <td>0</td>\n      <td>46</td>\n      <td>621</td>\n      <td>149.00</td>\n      <td>1.0</td>\n    </tr>\n    <tr>\n      <th>115689</th>\n      <td>2013-01-07</td>\n      <td>0</td>\n      <td>46</td>\n      <td>32</td>\n      <td>349.00</td>\n      <td>1.0</td>\n    </tr>\n  </tbody>\n</table>\n<p>115690 rows × 6 columns</p>\n</div>"
     },
     "execution_count": 4,
     "metadata": {},
     "output_type": "execute_result"
    }
   ],
   "source": [
    "sales[sales['date_block_num'] == 0]"
   ],
   "metadata": {
    "collapsed": false,
    "pycharm": {
     "name": "#%%\n"
    }
   }
  },
  {
   "cell_type": "code",
   "source": [
    "sales.head()"
   ],
   "metadata": {
    "colab": {
     "base_uri": "https://localhost:8080/",
     "height": 206
    },
    "id": "T8pZ-ut2w2yV",
    "outputId": "d9b20ffc-e6b4-4684-8861-3f6977648530",
    "pycharm": {
     "name": "#%%\n"
    }
   },
   "execution_count": 5,
   "outputs": [
    {
     "data": {
      "text/plain": "        date  date_block_num  shop_id  item_id  item_price  item_cnt_day\n0 2013-01-02               0       59    22154      999.00           1.0\n1 2013-01-03               0       25     2552      899.00           1.0\n2 2013-01-05               0       25     2552      899.00          -1.0\n3 2013-01-06               0       25     2554     1709.05           1.0\n4 2013-01-15               0       25     2555     1099.00           1.0",
      "text/html": "<div>\n<style scoped>\n    .dataframe tbody tr th:only-of-type {\n        vertical-align: middle;\n    }\n\n    .dataframe tbody tr th {\n        vertical-align: top;\n    }\n\n    .dataframe thead th {\n        text-align: right;\n    }\n</style>\n<table border=\"1\" class=\"dataframe\">\n  <thead>\n    <tr style=\"text-align: right;\">\n      <th></th>\n      <th>date</th>\n      <th>date_block_num</th>\n      <th>shop_id</th>\n      <th>item_id</th>\n      <th>item_price</th>\n      <th>item_cnt_day</th>\n    </tr>\n  </thead>\n  <tbody>\n    <tr>\n      <th>0</th>\n      <td>2013-01-02</td>\n      <td>0</td>\n      <td>59</td>\n      <td>22154</td>\n      <td>999.00</td>\n      <td>1.0</td>\n    </tr>\n    <tr>\n      <th>1</th>\n      <td>2013-01-03</td>\n      <td>0</td>\n      <td>25</td>\n      <td>2552</td>\n      <td>899.00</td>\n      <td>1.0</td>\n    </tr>\n    <tr>\n      <th>2</th>\n      <td>2013-01-05</td>\n      <td>0</td>\n      <td>25</td>\n      <td>2552</td>\n      <td>899.00</td>\n      <td>-1.0</td>\n    </tr>\n    <tr>\n      <th>3</th>\n      <td>2013-01-06</td>\n      <td>0</td>\n      <td>25</td>\n      <td>2554</td>\n      <td>1709.05</td>\n      <td>1.0</td>\n    </tr>\n    <tr>\n      <th>4</th>\n      <td>2013-01-15</td>\n      <td>0</td>\n      <td>25</td>\n      <td>2555</td>\n      <td>1099.00</td>\n      <td>1.0</td>\n    </tr>\n  </tbody>\n</table>\n</div>"
     },
     "execution_count": 5,
     "metadata": {},
     "output_type": "execute_result"
    }
   ]
  },
  {
   "cell_type": "code",
   "source": [
    "items.head()"
   ],
   "metadata": {
    "colab": {
     "base_uri": "https://localhost:8080/",
     "height": 206
    },
    "id": "KOgc-XSgw4E0",
    "outputId": "e43dc4d0-cb0c-4b8b-88be-36fb34e7941d",
    "pycharm": {
     "name": "#%%\n"
    }
   },
   "execution_count": 6,
   "outputs": [
    {
     "data": {
      "text/plain": "                                           item_name  item_id  category_id\n0             !! IN THE POWER OF HAPPINESS (PLAST) D        0           40\n1  ! ABBYY FineReader 12 Professional Edition Ful...        1           76\n2              *** IN THE GLORY OF THE GLORY (UNV) D        2           40\n3                             *** BLUE WAVE (Univ) D        3           40\n4                                  *** BOX (GLASS) D        4           40",
      "text/html": "<div>\n<style scoped>\n    .dataframe tbody tr th:only-of-type {\n        vertical-align: middle;\n    }\n\n    .dataframe tbody tr th {\n        vertical-align: top;\n    }\n\n    .dataframe thead th {\n        text-align: right;\n    }\n</style>\n<table border=\"1\" class=\"dataframe\">\n  <thead>\n    <tr style=\"text-align: right;\">\n      <th></th>\n      <th>item_name</th>\n      <th>item_id</th>\n      <th>category_id</th>\n    </tr>\n  </thead>\n  <tbody>\n    <tr>\n      <th>0</th>\n      <td>!! IN THE POWER OF HAPPINESS (PLAST) D</td>\n      <td>0</td>\n      <td>40</td>\n    </tr>\n    <tr>\n      <th>1</th>\n      <td>! ABBYY FineReader 12 Professional Edition Ful...</td>\n      <td>1</td>\n      <td>76</td>\n    </tr>\n    <tr>\n      <th>2</th>\n      <td>*** IN THE GLORY OF THE GLORY (UNV) D</td>\n      <td>2</td>\n      <td>40</td>\n    </tr>\n    <tr>\n      <th>3</th>\n      <td>*** BLUE WAVE (Univ) D</td>\n      <td>3</td>\n      <td>40</td>\n    </tr>\n    <tr>\n      <th>4</th>\n      <td>*** BOX (GLASS) D</td>\n      <td>4</td>\n      <td>40</td>\n    </tr>\n  </tbody>\n</table>\n</div>"
     },
     "execution_count": 6,
     "metadata": {},
     "output_type": "execute_result"
    }
   ]
  },
  {
   "cell_type": "code",
   "source": [
    "categ.head()"
   ],
   "metadata": {
    "colab": {
     "base_uri": "https://localhost:8080/",
     "height": 206
    },
    "id": "gylK8Njew5Ci",
    "outputId": "5828aa83-a7a2-4f0f-f16d-6b595bc68480",
    "pycharm": {
     "name": "#%%\n"
    }
   },
   "execution_count": 7,
   "outputs": [
    {
     "data": {
      "text/plain": "           item_category_name  item_category_id\n0  PC - Headsets / Headphones                 0\n1           Accessories - PS2                 1\n2           Accessories - PS3                 2\n3           Accessories - PS4                 3\n4           Accessories - PSP                 4",
      "text/html": "<div>\n<style scoped>\n    .dataframe tbody tr th:only-of-type {\n        vertical-align: middle;\n    }\n\n    .dataframe tbody tr th {\n        vertical-align: top;\n    }\n\n    .dataframe thead th {\n        text-align: right;\n    }\n</style>\n<table border=\"1\" class=\"dataframe\">\n  <thead>\n    <tr style=\"text-align: right;\">\n      <th></th>\n      <th>item_category_name</th>\n      <th>item_category_id</th>\n    </tr>\n  </thead>\n  <tbody>\n    <tr>\n      <th>0</th>\n      <td>PC - Headsets / Headphones</td>\n      <td>0</td>\n    </tr>\n    <tr>\n      <th>1</th>\n      <td>Accessories - PS2</td>\n      <td>1</td>\n    </tr>\n    <tr>\n      <th>2</th>\n      <td>Accessories - PS3</td>\n      <td>2</td>\n    </tr>\n    <tr>\n      <th>3</th>\n      <td>Accessories - PS4</td>\n      <td>3</td>\n    </tr>\n    <tr>\n      <th>4</th>\n      <td>Accessories - PSP</td>\n      <td>4</td>\n    </tr>\n  </tbody>\n</table>\n</div>"
     },
     "execution_count": 7,
     "metadata": {},
     "output_type": "execute_result"
    }
   ]
  },
  {
   "cell_type": "code",
   "source": [
    "shops.head()"
   ],
   "metadata": {
    "colab": {
     "base_uri": "https://localhost:8080/",
     "height": 206
    },
    "id": "0z1KAVNGw6nx",
    "outputId": "4103a2c7-0125-40f3-b53b-1791a65807af",
    "pycharm": {
     "name": "#%%\n"
    }
   },
   "execution_count": 8,
   "outputs": [
    {
     "data": {
      "text/plain": "                            shop_name  shop_id\n0  ! Yakutsk Ordzhonikidze, 56 francs        0\n1         ! Yakutsk TC \"Central\" fran        1\n2                    Adygea TC \"Mega\"        2\n3     Balashikha TC \"Oktyabr-Kinomir\"        3\n4               Volga TC \"Volga Mall\"        4",
      "text/html": "<div>\n<style scoped>\n    .dataframe tbody tr th:only-of-type {\n        vertical-align: middle;\n    }\n\n    .dataframe tbody tr th {\n        vertical-align: top;\n    }\n\n    .dataframe thead th {\n        text-align: right;\n    }\n</style>\n<table border=\"1\" class=\"dataframe\">\n  <thead>\n    <tr style=\"text-align: right;\">\n      <th></th>\n      <th>shop_name</th>\n      <th>shop_id</th>\n    </tr>\n  </thead>\n  <tbody>\n    <tr>\n      <th>0</th>\n      <td>! Yakutsk Ordzhonikidze, 56 francs</td>\n      <td>0</td>\n    </tr>\n    <tr>\n      <th>1</th>\n      <td>! Yakutsk TC \"Central\" fran</td>\n      <td>1</td>\n    </tr>\n    <tr>\n      <th>2</th>\n      <td>Adygea TC \"Mega\"</td>\n      <td>2</td>\n    </tr>\n    <tr>\n      <th>3</th>\n      <td>Balashikha TC \"Oktyabr-Kinomir\"</td>\n      <td>3</td>\n    </tr>\n    <tr>\n      <th>4</th>\n      <td>Volga TC \"Volga Mall\"</td>\n      <td>4</td>\n    </tr>\n  </tbody>\n</table>\n</div>"
     },
     "execution_count": 8,
     "metadata": {},
     "output_type": "execute_result"
    }
   ]
  },
  {
   "cell_type": "markdown",
   "source": [
    "# Задание 1 (3 балла)"
   ],
   "metadata": {
    "id": "X5oEdrHBJ9t8",
    "pycharm": {
     "name": "#%% md\n"
    }
   }
  },
  {
   "cell_type": "markdown",
   "source": [
    "1. Возьмите 10 000 случайных строк из таблицы sales_train и найдите в них долю товаров из категории 37. \n",
    "2. Найдите самый удачный по общему количеству продаж день для магазина St. Petersburg Nevsky Center shopping center за 2014 год.\n",
    "3. Есть ли товар, который продается успешнее всех остальных (по ежемесячному количеству) во всех магазинах?"
   ],
   "metadata": {
    "id": "8tjm8ZhmKCDv",
    "pycharm": {
     "name": "#%% md\n"
    }
   }
  },
  {
   "cell_type": "markdown",
   "source": [
    "1"
   ],
   "metadata": {
    "id": "nL_uicUnn0JR",
    "pycharm": {
     "name": "#%% md\n"
    }
   }
  },
  {
   "cell_type": "code",
   "execution_count": 9,
   "metadata": {
    "id": "6rgJ4XhoJwgW",
    "colab": {
     "base_uri": "https://localhost:8080/"
    },
    "outputId": "0061327e-50e9-4a07-d40a-9a24a49871b9",
    "pycharm": {
     "name": "#%%\n"
    }
   },
   "outputs": [
    {
     "data": {
      "text/plain": "0.065"
     },
     "execution_count": 9,
     "metadata": {},
     "output_type": "execute_result"
    }
   ],
   "source": [
    "rows = sales.sample(10000, random_state=42)\n",
    "item_id = rows.merge(items, on='item_id')['category_id']\n",
    "(item_id == 37).mean()"
   ]
  },
  {
   "cell_type": "markdown",
   "source": [
    "2"
   ],
   "metadata": {
    "id": "YTjezuCRn3PH",
    "pycharm": {
     "name": "#%% md\n"
    }
   }
  },
  {
   "cell_type": "code",
   "execution_count": 6,
   "outputs": [
    {
     "data": {
      "text/plain": "              date  date_block_num  shop_id  item_id  item_price  item_cnt_day\n0       2013-01-02               0       59    22154      999.00           1.0\n1       2013-01-03               0       25     2552      899.00           1.0\n2       2013-01-05               0       25     2552      899.00          -1.0\n3       2013-01-06               0       25     2554     1709.05           1.0\n4       2013-01-15               0       25     2555     1099.00           1.0\n...            ...             ...      ...      ...         ...           ...\n2935844 2015-10-10              33       25     7409      299.00           1.0\n2935845 2015-10-09              33       25     7460      299.00           1.0\n2935846 2015-10-14              33       25     7459      349.00           1.0\n2935847 2015-10-22              33       25     7440      299.00           1.0\n2935848 2015-10-03              33       25     7460      299.00           1.0\n\n[2935849 rows x 6 columns]",
      "text/html": "<div>\n<style scoped>\n    .dataframe tbody tr th:only-of-type {\n        vertical-align: middle;\n    }\n\n    .dataframe tbody tr th {\n        vertical-align: top;\n    }\n\n    .dataframe thead th {\n        text-align: right;\n    }\n</style>\n<table border=\"1\" class=\"dataframe\">\n  <thead>\n    <tr style=\"text-align: right;\">\n      <th></th>\n      <th>date</th>\n      <th>date_block_num</th>\n      <th>shop_id</th>\n      <th>item_id</th>\n      <th>item_price</th>\n      <th>item_cnt_day</th>\n    </tr>\n  </thead>\n  <tbody>\n    <tr>\n      <th>0</th>\n      <td>2013-01-02</td>\n      <td>0</td>\n      <td>59</td>\n      <td>22154</td>\n      <td>999.00</td>\n      <td>1.0</td>\n    </tr>\n    <tr>\n      <th>1</th>\n      <td>2013-01-03</td>\n      <td>0</td>\n      <td>25</td>\n      <td>2552</td>\n      <td>899.00</td>\n      <td>1.0</td>\n    </tr>\n    <tr>\n      <th>2</th>\n      <td>2013-01-05</td>\n      <td>0</td>\n      <td>25</td>\n      <td>2552</td>\n      <td>899.00</td>\n      <td>-1.0</td>\n    </tr>\n    <tr>\n      <th>3</th>\n      <td>2013-01-06</td>\n      <td>0</td>\n      <td>25</td>\n      <td>2554</td>\n      <td>1709.05</td>\n      <td>1.0</td>\n    </tr>\n    <tr>\n      <th>4</th>\n      <td>2013-01-15</td>\n      <td>0</td>\n      <td>25</td>\n      <td>2555</td>\n      <td>1099.00</td>\n      <td>1.0</td>\n    </tr>\n    <tr>\n      <th>...</th>\n      <td>...</td>\n      <td>...</td>\n      <td>...</td>\n      <td>...</td>\n      <td>...</td>\n      <td>...</td>\n    </tr>\n    <tr>\n      <th>2935844</th>\n      <td>2015-10-10</td>\n      <td>33</td>\n      <td>25</td>\n      <td>7409</td>\n      <td>299.00</td>\n      <td>1.0</td>\n    </tr>\n    <tr>\n      <th>2935845</th>\n      <td>2015-10-09</td>\n      <td>33</td>\n      <td>25</td>\n      <td>7460</td>\n      <td>299.00</td>\n      <td>1.0</td>\n    </tr>\n    <tr>\n      <th>2935846</th>\n      <td>2015-10-14</td>\n      <td>33</td>\n      <td>25</td>\n      <td>7459</td>\n      <td>349.00</td>\n      <td>1.0</td>\n    </tr>\n    <tr>\n      <th>2935847</th>\n      <td>2015-10-22</td>\n      <td>33</td>\n      <td>25</td>\n      <td>7440</td>\n      <td>299.00</td>\n      <td>1.0</td>\n    </tr>\n    <tr>\n      <th>2935848</th>\n      <td>2015-10-03</td>\n      <td>33</td>\n      <td>25</td>\n      <td>7460</td>\n      <td>299.00</td>\n      <td>1.0</td>\n    </tr>\n  </tbody>\n</table>\n<p>2935849 rows × 6 columns</p>\n</div>"
     },
     "execution_count": 6,
     "metadata": {},
     "output_type": "execute_result"
    }
   ],
   "source": [
    "sales"
   ],
   "metadata": {
    "collapsed": false,
    "pycharm": {
     "name": "#%%\n"
    }
   }
  },
  {
   "cell_type": "code",
   "execution_count": 7,
   "outputs": [
    {
     "data": {
      "text/plain": "                                            shop_name  shop_id\n0                  ! Yakutsk Ordzhonikidze, 56 francs        0\n1                         ! Yakutsk TC \"Central\" fran        1\n2                                    Adygea TC \"Mega\"        2\n3                     Balashikha TC \"Oktyabr-Kinomir\"        3\n4                               Volga TC \"Volga Mall\"        4\n5                              Vologda SEC \"Marmelad\"        5\n6                       Voronezh (Plekhanovskaya, 13)        6\n7                             Voronezh SEC \"Maksimir\"        7\n8                       Voronezh SEC City-Park \"Grad\"        8\n9                                      Outbound Trade        9\n10                         Zhukovsky st. Chkalov 39m?       10\n11                         Zhukovsky st. Chkalov 39m²       11\n12              Internet-shop of emergency situations       12\n13                                 Kazan TC \"Behetle\"       13\n14                            Kazan TC \"ParkHouse\" II       14\n15                            Kaluga TC \"XXI century\"       15\n16                                   Kolomna TC \"Rio\"       16\n17                     Krasnoyarsk TC \"Vzletka Plaza\"       17\n18                              Krasnoyarsk TC \"June\"       18\n19                           Kursk TC \" Pushkinskiy \"       19\n20                                     Moscow\" Sale \"       20\n21                            Moscow MTRC\" Afi Mall \"       21\n22                                    Moscow Shop C21       22\n23                   Moscow TK\" Budenovskiy \"(pav.A2)       23\n24                   Moscow TK\" Budenovskiy \"(pav.K7)       24\n25                               Moscow TEC\" Atrium \"       25\n26                      Moscow TTS\" Areal \"(Belyaevo)       26\n27                  Moscow TC\" MEGA Belaya Dacha II \"       27\n28                     Moscow TC\" MEGA Teply Stan \"II       28\n29                   Moscow TC\" New Age \"(Novokosino)       29\n30                             Moscow TC\" Perlovsky \"       30\n31                            Moscow TC\" Semenovsky \"       31\n32                      Moscow TC\" Serebryany House \"       32\n33                              Mytishchi SEC\" XL-3 \"       33\n34                              N.Novgorod SEC\" RIO \"       34\n35                          N.Novgorod SEC\" Fantasy \"       35\n36             Novosibirsk SEC\" Gallery Novosibirsk \"       36\n37                            Novosibirsk SEC\" Mega \"       37\n38                                    Omsk TC\" Mega \"       38\n39               RostovNaDonu SEC\" Megacenter Horizon       39\n40   RostovNaDon Megatsentr Gorizont Ostrovnoy sho...       40\n41                   RostovNaDon Mega shopping center       41\n42       St. Petersburg Nevsky Center shopping center       42\n43             St. Petersburg Sennaya shopping center       43\n44                      Samara Melody shopping center       44\n45                   Samara ParkHouse shopping center       45\n46                  Sergiev Posad 7Ya shopping center       46\n47                             Surgut SEC \"City Mall\"       47\n48                           Tomsk SEC \"Emerald City\"       48\n49                               Tyumen SEC \"Crystal\"       49\n50                               Tyumen SEC \"Goodwin\"       50\n51                           Tyumen TC \"Green Coast \"       51\n52                                  Ufa TC\" Central \"       52\n53                                  Ufa TC\" Family \"2       53\n54                                  Khimki TC\" Mega \"       54\n55                        Digital warehouse 1C-Online       55\n56                             Chekhov TC\" Karnaval \"       56\n57                          Yakutsk Ordzhonikidze, 56       57\n58                              Yakutsk TC\" Central \"       58\n59                             Yaroslavl TC\" Altair \"       59",
      "text/html": "<div>\n<style scoped>\n    .dataframe tbody tr th:only-of-type {\n        vertical-align: middle;\n    }\n\n    .dataframe tbody tr th {\n        vertical-align: top;\n    }\n\n    .dataframe thead th {\n        text-align: right;\n    }\n</style>\n<table border=\"1\" class=\"dataframe\">\n  <thead>\n    <tr style=\"text-align: right;\">\n      <th></th>\n      <th>shop_name</th>\n      <th>shop_id</th>\n    </tr>\n  </thead>\n  <tbody>\n    <tr>\n      <th>0</th>\n      <td>! Yakutsk Ordzhonikidze, 56 francs</td>\n      <td>0</td>\n    </tr>\n    <tr>\n      <th>1</th>\n      <td>! Yakutsk TC \"Central\" fran</td>\n      <td>1</td>\n    </tr>\n    <tr>\n      <th>2</th>\n      <td>Adygea TC \"Mega\"</td>\n      <td>2</td>\n    </tr>\n    <tr>\n      <th>3</th>\n      <td>Balashikha TC \"Oktyabr-Kinomir\"</td>\n      <td>3</td>\n    </tr>\n    <tr>\n      <th>4</th>\n      <td>Volga TC \"Volga Mall\"</td>\n      <td>4</td>\n    </tr>\n    <tr>\n      <th>5</th>\n      <td>Vologda SEC \"Marmelad\"</td>\n      <td>5</td>\n    </tr>\n    <tr>\n      <th>6</th>\n      <td>Voronezh (Plekhanovskaya, 13)</td>\n      <td>6</td>\n    </tr>\n    <tr>\n      <th>7</th>\n      <td>Voronezh SEC \"Maksimir\"</td>\n      <td>7</td>\n    </tr>\n    <tr>\n      <th>8</th>\n      <td>Voronezh SEC City-Park \"Grad\"</td>\n      <td>8</td>\n    </tr>\n    <tr>\n      <th>9</th>\n      <td>Outbound Trade</td>\n      <td>9</td>\n    </tr>\n    <tr>\n      <th>10</th>\n      <td>Zhukovsky st. Chkalov 39m?</td>\n      <td>10</td>\n    </tr>\n    <tr>\n      <th>11</th>\n      <td>Zhukovsky st. Chkalov 39m²</td>\n      <td>11</td>\n    </tr>\n    <tr>\n      <th>12</th>\n      <td>Internet-shop of emergency situations</td>\n      <td>12</td>\n    </tr>\n    <tr>\n      <th>13</th>\n      <td>Kazan TC \"Behetle\"</td>\n      <td>13</td>\n    </tr>\n    <tr>\n      <th>14</th>\n      <td>Kazan TC \"ParkHouse\" II</td>\n      <td>14</td>\n    </tr>\n    <tr>\n      <th>15</th>\n      <td>Kaluga TC \"XXI century\"</td>\n      <td>15</td>\n    </tr>\n    <tr>\n      <th>16</th>\n      <td>Kolomna TC \"Rio\"</td>\n      <td>16</td>\n    </tr>\n    <tr>\n      <th>17</th>\n      <td>Krasnoyarsk TC \"Vzletka Plaza\"</td>\n      <td>17</td>\n    </tr>\n    <tr>\n      <th>18</th>\n      <td>Krasnoyarsk TC \"June\"</td>\n      <td>18</td>\n    </tr>\n    <tr>\n      <th>19</th>\n      <td>Kursk TC \" Pushkinskiy \"</td>\n      <td>19</td>\n    </tr>\n    <tr>\n      <th>20</th>\n      <td>Moscow\" Sale \"</td>\n      <td>20</td>\n    </tr>\n    <tr>\n      <th>21</th>\n      <td>Moscow MTRC\" Afi Mall \"</td>\n      <td>21</td>\n    </tr>\n    <tr>\n      <th>22</th>\n      <td>Moscow Shop C21</td>\n      <td>22</td>\n    </tr>\n    <tr>\n      <th>23</th>\n      <td>Moscow TK\" Budenovskiy \"(pav.A2)</td>\n      <td>23</td>\n    </tr>\n    <tr>\n      <th>24</th>\n      <td>Moscow TK\" Budenovskiy \"(pav.K7)</td>\n      <td>24</td>\n    </tr>\n    <tr>\n      <th>25</th>\n      <td>Moscow TEC\" Atrium \"</td>\n      <td>25</td>\n    </tr>\n    <tr>\n      <th>26</th>\n      <td>Moscow TTS\" Areal \"(Belyaevo)</td>\n      <td>26</td>\n    </tr>\n    <tr>\n      <th>27</th>\n      <td>Moscow TC\" MEGA Belaya Dacha II \"</td>\n      <td>27</td>\n    </tr>\n    <tr>\n      <th>28</th>\n      <td>Moscow TC\" MEGA Teply Stan \"II</td>\n      <td>28</td>\n    </tr>\n    <tr>\n      <th>29</th>\n      <td>Moscow TC\" New Age \"(Novokosino)</td>\n      <td>29</td>\n    </tr>\n    <tr>\n      <th>30</th>\n      <td>Moscow TC\" Perlovsky \"</td>\n      <td>30</td>\n    </tr>\n    <tr>\n      <th>31</th>\n      <td>Moscow TC\" Semenovsky \"</td>\n      <td>31</td>\n    </tr>\n    <tr>\n      <th>32</th>\n      <td>Moscow TC\" Serebryany House \"</td>\n      <td>32</td>\n    </tr>\n    <tr>\n      <th>33</th>\n      <td>Mytishchi SEC\" XL-3 \"</td>\n      <td>33</td>\n    </tr>\n    <tr>\n      <th>34</th>\n      <td>N.Novgorod SEC\" RIO \"</td>\n      <td>34</td>\n    </tr>\n    <tr>\n      <th>35</th>\n      <td>N.Novgorod SEC\" Fantasy \"</td>\n      <td>35</td>\n    </tr>\n    <tr>\n      <th>36</th>\n      <td>Novosibirsk SEC\" Gallery Novosibirsk \"</td>\n      <td>36</td>\n    </tr>\n    <tr>\n      <th>37</th>\n      <td>Novosibirsk SEC\" Mega \"</td>\n      <td>37</td>\n    </tr>\n    <tr>\n      <th>38</th>\n      <td>Omsk TC\" Mega \"</td>\n      <td>38</td>\n    </tr>\n    <tr>\n      <th>39</th>\n      <td>RostovNaDonu SEC\" Megacenter Horizon</td>\n      <td>39</td>\n    </tr>\n    <tr>\n      <th>40</th>\n      <td>RostovNaDon Megatsentr Gorizont Ostrovnoy sho...</td>\n      <td>40</td>\n    </tr>\n    <tr>\n      <th>41</th>\n      <td>RostovNaDon Mega shopping center</td>\n      <td>41</td>\n    </tr>\n    <tr>\n      <th>42</th>\n      <td>St. Petersburg Nevsky Center shopping center</td>\n      <td>42</td>\n    </tr>\n    <tr>\n      <th>43</th>\n      <td>St. Petersburg Sennaya shopping center</td>\n      <td>43</td>\n    </tr>\n    <tr>\n      <th>44</th>\n      <td>Samara Melody shopping center</td>\n      <td>44</td>\n    </tr>\n    <tr>\n      <th>45</th>\n      <td>Samara ParkHouse shopping center</td>\n      <td>45</td>\n    </tr>\n    <tr>\n      <th>46</th>\n      <td>Sergiev Posad 7Ya shopping center</td>\n      <td>46</td>\n    </tr>\n    <tr>\n      <th>47</th>\n      <td>Surgut SEC \"City Mall\"</td>\n      <td>47</td>\n    </tr>\n    <tr>\n      <th>48</th>\n      <td>Tomsk SEC \"Emerald City\"</td>\n      <td>48</td>\n    </tr>\n    <tr>\n      <th>49</th>\n      <td>Tyumen SEC \"Crystal\"</td>\n      <td>49</td>\n    </tr>\n    <tr>\n      <th>50</th>\n      <td>Tyumen SEC \"Goodwin\"</td>\n      <td>50</td>\n    </tr>\n    <tr>\n      <th>51</th>\n      <td>Tyumen TC \"Green Coast \"</td>\n      <td>51</td>\n    </tr>\n    <tr>\n      <th>52</th>\n      <td>Ufa TC\" Central \"</td>\n      <td>52</td>\n    </tr>\n    <tr>\n      <th>53</th>\n      <td>Ufa TC\" Family \"2</td>\n      <td>53</td>\n    </tr>\n    <tr>\n      <th>54</th>\n      <td>Khimki TC\" Mega \"</td>\n      <td>54</td>\n    </tr>\n    <tr>\n      <th>55</th>\n      <td>Digital warehouse 1C-Online</td>\n      <td>55</td>\n    </tr>\n    <tr>\n      <th>56</th>\n      <td>Chekhov TC\" Karnaval \"</td>\n      <td>56</td>\n    </tr>\n    <tr>\n      <th>57</th>\n      <td>Yakutsk Ordzhonikidze, 56</td>\n      <td>57</td>\n    </tr>\n    <tr>\n      <th>58</th>\n      <td>Yakutsk TC\" Central \"</td>\n      <td>58</td>\n    </tr>\n    <tr>\n      <th>59</th>\n      <td>Yaroslavl TC\" Altair \"</td>\n      <td>59</td>\n    </tr>\n  </tbody>\n</table>\n</div>"
     },
     "execution_count": 7,
     "metadata": {},
     "output_type": "execute_result"
    }
   ],
   "source": [
    "shops"
   ],
   "metadata": {
    "collapsed": false,
    "pycharm": {
     "name": "#%%\n"
    }
   }
  },
  {
   "cell_type": "code",
   "execution_count": 5,
   "outputs": [
    {
     "data": {
      "text/plain": "              date  date_block_num  shop_id  item_id  item_price  \\\n0       2013-01-02               0       59    22154       999.0   \n1       2013-01-10               0       59    22151       399.0   \n2       2013-01-04               0       59     5603       699.0   \n3       2013-01-19               0       59     5587       199.0   \n4       2013-01-31               0       59     5613      5571.0   \n...            ...             ...      ...      ...         ...   \n2935844 2015-10-30              33       36    20231       169.0   \n2935845 2015-10-18              33       36    20334      1949.0   \n2935846 2015-10-31              33       36    20339      1549.0   \n2935847 2015-10-31              33       36    20352      1549.0   \n2935848 2015-10-18              33       36    20602      1549.0   \n\n         item_cnt_day                                shop_name  \n0                 1.0                   Yaroslavl TC\" Altair \"  \n1                 1.0                   Yaroslavl TC\" Altair \"  \n2                 1.0                   Yaroslavl TC\" Altair \"  \n3                 2.0                   Yaroslavl TC\" Altair \"  \n4                 1.0                   Yaroslavl TC\" Altair \"  \n...               ...                                      ...  \n2935844           1.0   Novosibirsk SEC\" Gallery Novosibirsk \"  \n2935845           1.0   Novosibirsk SEC\" Gallery Novosibirsk \"  \n2935846           1.0   Novosibirsk SEC\" Gallery Novosibirsk \"  \n2935847           1.0   Novosibirsk SEC\" Gallery Novosibirsk \"  \n2935848           1.0   Novosibirsk SEC\" Gallery Novosibirsk \"  \n\n[2935849 rows x 7 columns]",
      "text/html": "<div>\n<style scoped>\n    .dataframe tbody tr th:only-of-type {\n        vertical-align: middle;\n    }\n\n    .dataframe tbody tr th {\n        vertical-align: top;\n    }\n\n    .dataframe thead th {\n        text-align: right;\n    }\n</style>\n<table border=\"1\" class=\"dataframe\">\n  <thead>\n    <tr style=\"text-align: right;\">\n      <th></th>\n      <th>date</th>\n      <th>date_block_num</th>\n      <th>shop_id</th>\n      <th>item_id</th>\n      <th>item_price</th>\n      <th>item_cnt_day</th>\n      <th>shop_name</th>\n    </tr>\n  </thead>\n  <tbody>\n    <tr>\n      <th>0</th>\n      <td>2013-01-02</td>\n      <td>0</td>\n      <td>59</td>\n      <td>22154</td>\n      <td>999.0</td>\n      <td>1.0</td>\n      <td>Yaroslavl TC\" Altair \"</td>\n    </tr>\n    <tr>\n      <th>1</th>\n      <td>2013-01-10</td>\n      <td>0</td>\n      <td>59</td>\n      <td>22151</td>\n      <td>399.0</td>\n      <td>1.0</td>\n      <td>Yaroslavl TC\" Altair \"</td>\n    </tr>\n    <tr>\n      <th>2</th>\n      <td>2013-01-04</td>\n      <td>0</td>\n      <td>59</td>\n      <td>5603</td>\n      <td>699.0</td>\n      <td>1.0</td>\n      <td>Yaroslavl TC\" Altair \"</td>\n    </tr>\n    <tr>\n      <th>3</th>\n      <td>2013-01-19</td>\n      <td>0</td>\n      <td>59</td>\n      <td>5587</td>\n      <td>199.0</td>\n      <td>2.0</td>\n      <td>Yaroslavl TC\" Altair \"</td>\n    </tr>\n    <tr>\n      <th>4</th>\n      <td>2013-01-31</td>\n      <td>0</td>\n      <td>59</td>\n      <td>5613</td>\n      <td>5571.0</td>\n      <td>1.0</td>\n      <td>Yaroslavl TC\" Altair \"</td>\n    </tr>\n    <tr>\n      <th>...</th>\n      <td>...</td>\n      <td>...</td>\n      <td>...</td>\n      <td>...</td>\n      <td>...</td>\n      <td>...</td>\n      <td>...</td>\n    </tr>\n    <tr>\n      <th>2935844</th>\n      <td>2015-10-30</td>\n      <td>33</td>\n      <td>36</td>\n      <td>20231</td>\n      <td>169.0</td>\n      <td>1.0</td>\n      <td>Novosibirsk SEC\" Gallery Novosibirsk \"</td>\n    </tr>\n    <tr>\n      <th>2935845</th>\n      <td>2015-10-18</td>\n      <td>33</td>\n      <td>36</td>\n      <td>20334</td>\n      <td>1949.0</td>\n      <td>1.0</td>\n      <td>Novosibirsk SEC\" Gallery Novosibirsk \"</td>\n    </tr>\n    <tr>\n      <th>2935846</th>\n      <td>2015-10-31</td>\n      <td>33</td>\n      <td>36</td>\n      <td>20339</td>\n      <td>1549.0</td>\n      <td>1.0</td>\n      <td>Novosibirsk SEC\" Gallery Novosibirsk \"</td>\n    </tr>\n    <tr>\n      <th>2935847</th>\n      <td>2015-10-31</td>\n      <td>33</td>\n      <td>36</td>\n      <td>20352</td>\n      <td>1549.0</td>\n      <td>1.0</td>\n      <td>Novosibirsk SEC\" Gallery Novosibirsk \"</td>\n    </tr>\n    <tr>\n      <th>2935848</th>\n      <td>2015-10-18</td>\n      <td>33</td>\n      <td>36</td>\n      <td>20602</td>\n      <td>1549.0</td>\n      <td>1.0</td>\n      <td>Novosibirsk SEC\" Gallery Novosibirsk \"</td>\n    </tr>\n  </tbody>\n</table>\n<p>2935849 rows × 7 columns</p>\n</div>"
     },
     "execution_count": 5,
     "metadata": {},
     "output_type": "execute_result"
    }
   ],
   "source": [
    "sales.merge(shops, on='shop_id')"
   ],
   "metadata": {
    "collapsed": false,
    "pycharm": {
     "name": "#%%\n"
    }
   }
  },
  {
   "cell_type": "code",
   "source": [
    "df = sales.merge(shops, on='shop_id')\n",
    "df['year'] = pd.to_datetime(df['date']).dt.year\n",
    "mask_1 = df['shop_name'].str.contains('St. Petersburg Nevsky Center shopping center')\n",
    "mask_2 =  df['year'] == 2014\n",
    "df = df[mask_1 & mask_2]\n",
    "(df.groupby(by='date')['item_cnt_day'].sum()).idxmax()"
   ],
   "metadata": {
    "colab": {
     "base_uri": "https://localhost:8080/",
     "height": 36
    },
    "id": "ywDkwDzd0oqh",
    "outputId": "af1a7b40-e84e-4691-a934-156adcda16a9",
    "pycharm": {
     "name": "#%%\n"
    }
   },
   "execution_count": 10,
   "outputs": [
    {
     "data": {
      "text/plain": "Timestamp('2014-12-27 00:00:00')"
     },
     "execution_count": 10,
     "metadata": {},
     "output_type": "execute_result"
    }
   ]
  },
  {
   "cell_type": "markdown",
   "source": [
    "3"
   ],
   "metadata": {
    "id": "pao8Djm1n7pR",
    "pycharm": {
     "name": "#%% md\n"
    }
   }
  },
  {
   "cell_type": "markdown",
   "source": [
    "**Как я понял это задание**\n",
    "\n",
    "В каждом месяце у магазина есть лучший товар по продажам. \n",
    "\n",
    "Если для каждого магазина каждый месяц лучший товар один и тот же, то ответ да. \n",
    "\n",
    "Если хотя бы в одном магазине лучшие товары отличаютс, то ответ нет"
   ],
   "metadata": {
    "id": "HU20_9Rbn9AO",
    "pycharm": {
     "name": "#%% md\n"
    }
   }
  },
  {
   "cell_type": "code",
   "source": [
    "def get_best_item(x):\n",
    "  df = x.groupby('item_id')['item_cnt_day'].sum().idxmax()\n",
    "  return df\n",
    "\n",
    "\n",
    "df = sales\n",
    "res = df.groupby(['shop_id', 'date_block_num']).apply(get_best_item).reset_index(name='best_item')\n",
    "nunique = res.groupby('shop_id').apply(lambda x: x['best_item'].nunique())\n",
    "(nunique == 1).all()"
   ],
   "metadata": {
    "colab": {
     "base_uri": "https://localhost:8080/"
    },
    "id": "Y0qxYJYavuLC",
    "outputId": "5b0d8476-49e0-4964-8367-872a0075acc3",
    "pycharm": {
     "name": "#%%\n"
    }
   },
   "execution_count": 11,
   "outputs": [
    {
     "data": {
      "text/plain": "False"
     },
     "execution_count": 11,
     "metadata": {},
     "output_type": "execute_result"
    }
   ]
  },
  {
   "cell_type": "code",
   "execution_count": 12,
   "outputs": [
    {
     "data": {
      "text/plain": "      shop_id  date_block_num  best_item\n0           0               0      14433\n1           0               1      14752\n2           1               0      13351\n3           1               1      13354\n4           2               0       2808\n...       ...             ...        ...\n1581       59              29      20949\n1582       59              30      17717\n1583       59              31       6507\n1584       59              32       4719\n1585       59              33      10201\n\n[1586 rows x 3 columns]",
      "text/html": "<div>\n<style scoped>\n    .dataframe tbody tr th:only-of-type {\n        vertical-align: middle;\n    }\n\n    .dataframe tbody tr th {\n        vertical-align: top;\n    }\n\n    .dataframe thead th {\n        text-align: right;\n    }\n</style>\n<table border=\"1\" class=\"dataframe\">\n  <thead>\n    <tr style=\"text-align: right;\">\n      <th></th>\n      <th>shop_id</th>\n      <th>date_block_num</th>\n      <th>best_item</th>\n    </tr>\n  </thead>\n  <tbody>\n    <tr>\n      <th>0</th>\n      <td>0</td>\n      <td>0</td>\n      <td>14433</td>\n    </tr>\n    <tr>\n      <th>1</th>\n      <td>0</td>\n      <td>1</td>\n      <td>14752</td>\n    </tr>\n    <tr>\n      <th>2</th>\n      <td>1</td>\n      <td>0</td>\n      <td>13351</td>\n    </tr>\n    <tr>\n      <th>3</th>\n      <td>1</td>\n      <td>1</td>\n      <td>13354</td>\n    </tr>\n    <tr>\n      <th>4</th>\n      <td>2</td>\n      <td>0</td>\n      <td>2808</td>\n    </tr>\n    <tr>\n      <th>...</th>\n      <td>...</td>\n      <td>...</td>\n      <td>...</td>\n    </tr>\n    <tr>\n      <th>1581</th>\n      <td>59</td>\n      <td>29</td>\n      <td>20949</td>\n    </tr>\n    <tr>\n      <th>1582</th>\n      <td>59</td>\n      <td>30</td>\n      <td>17717</td>\n    </tr>\n    <tr>\n      <th>1583</th>\n      <td>59</td>\n      <td>31</td>\n      <td>6507</td>\n    </tr>\n    <tr>\n      <th>1584</th>\n      <td>59</td>\n      <td>32</td>\n      <td>4719</td>\n    </tr>\n    <tr>\n      <th>1585</th>\n      <td>59</td>\n      <td>33</td>\n      <td>10201</td>\n    </tr>\n  </tbody>\n</table>\n<p>1586 rows × 3 columns</p>\n</div>"
     },
     "execution_count": 12,
     "metadata": {},
     "output_type": "execute_result"
    }
   ],
   "source": [
    "res"
   ],
   "metadata": {
    "collapsed": false,
    "pycharm": {
     "name": "#%%\n"
    }
   }
  },
  {
   "cell_type": "markdown",
   "source": [
    "# Задание 2 (2 балла)"
   ],
   "metadata": {
    "id": "S6q5NDoCtO_F",
    "pycharm": {
     "name": "#%% md\n"
    }
   }
  },
  {
   "cell_type": "markdown",
   "source": [
    "1. Найдите топ-10 самых часто покупаемых товаров (не забудьте учесть столбец item_cnt_day).\n",
    "2. Оставьте только те из них, которые покупали все три года (2013, 2014, 2015)."
   ],
   "metadata": {
    "id": "dzuPVpMztO_F",
    "pycharm": {
     "name": "#%% md\n"
    }
   }
  },
  {
   "cell_type": "markdown",
   "source": [
    "1"
   ],
   "metadata": {
    "id": "3Kvz-cL4Eb9J",
    "pycharm": {
     "name": "#%% md\n"
    }
   }
  },
  {
   "cell_type": "code",
   "execution_count": 13,
   "outputs": [
    {
     "data": {
      "text/plain": "   item_id  sm_bought\n0    20949   187642.0\n1     2808    17245.0\n2     3732    16642.0\n3    17717    15830.0\n4     5822    14515.0\n5     3734    11688.0\n6     6675    10289.0\n7     3731    10099.0\n8     1855    10032.0\n9    16787     9227.0",
      "text/html": "<div>\n<style scoped>\n    .dataframe tbody tr th:only-of-type {\n        vertical-align: middle;\n    }\n\n    .dataframe tbody tr th {\n        vertical-align: top;\n    }\n\n    .dataframe thead th {\n        text-align: right;\n    }\n</style>\n<table border=\"1\" class=\"dataframe\">\n  <thead>\n    <tr style=\"text-align: right;\">\n      <th></th>\n      <th>item_id</th>\n      <th>sm_bought</th>\n    </tr>\n  </thead>\n  <tbody>\n    <tr>\n      <th>0</th>\n      <td>20949</td>\n      <td>187642.0</td>\n    </tr>\n    <tr>\n      <th>1</th>\n      <td>2808</td>\n      <td>17245.0</td>\n    </tr>\n    <tr>\n      <th>2</th>\n      <td>3732</td>\n      <td>16642.0</td>\n    </tr>\n    <tr>\n      <th>3</th>\n      <td>17717</td>\n      <td>15830.0</td>\n    </tr>\n    <tr>\n      <th>4</th>\n      <td>5822</td>\n      <td>14515.0</td>\n    </tr>\n    <tr>\n      <th>5</th>\n      <td>3734</td>\n      <td>11688.0</td>\n    </tr>\n    <tr>\n      <th>6</th>\n      <td>6675</td>\n      <td>10289.0</td>\n    </tr>\n    <tr>\n      <th>7</th>\n      <td>3731</td>\n      <td>10099.0</td>\n    </tr>\n    <tr>\n      <th>8</th>\n      <td>1855</td>\n      <td>10032.0</td>\n    </tr>\n    <tr>\n      <th>9</th>\n      <td>16787</td>\n      <td>9227.0</td>\n    </tr>\n  </tbody>\n</table>\n</div>"
     },
     "execution_count": 13,
     "metadata": {},
     "output_type": "execute_result"
    }
   ],
   "source": [
    "id_bought = sales.groupby('item_id')['item_cnt_day'].sum().reset_index(name='sm_bought')\n",
    "top10 = id_bought.sort_values('sm_bought', ascending=False).head(10).reset_index(drop=True)\n",
    "top10"
   ],
   "metadata": {
    "collapsed": false,
    "pycharm": {
     "name": "#%%\n"
    }
   }
  },
  {
   "cell_type": "code",
   "execution_count": 14,
   "metadata": {
    "id": "DLGUVxaDtO_F",
    "colab": {
     "base_uri": "https://localhost:8080/"
    },
    "outputId": "77f1c817-fb60-4725-cbb6-b5a119bac4da",
    "pycharm": {
     "name": "#%%\n"
    }
   },
   "outputs": [
    {
     "data": {
      "text/plain": "0    20949\n1     2808\n2     3732\n3    17717\n4     5822\n5     3734\n6     6675\n7     3731\n8     1855\n9    16787\nName: item_id, dtype: int64"
     },
     "execution_count": 14,
     "metadata": {},
     "output_type": "execute_result"
    }
   ],
   "source": [
    "id_bought = sales.groupby('item_id')['item_cnt_day'].sum().reset_index(name='sm_bought')\n",
    "top10 = id_bought.sort_values('sm_bought', ascending=False).head(10).reset_index(drop=True)\n",
    "top10 = top10['item_id']\n",
    "top10"
   ]
  },
  {
   "cell_type": "markdown",
   "source": [
    "2"
   ],
   "metadata": {
    "id": "y-yBrSBGEZgB",
    "pycharm": {
     "name": "#%% md\n"
    }
   }
  },
  {
   "cell_type": "code",
   "source": [
    "def is_saled(item_id):\n",
    "  expected_years = np.array([2013, 2014, 2015])\n",
    "  mask = sales['item_id'] == item_id\n",
    "  sale_years = sales.loc[mask, 'date'].dt.year.unique()\n",
    "  intersect = np.intersect1d(expected_years, sale_years)\n",
    "  return intersect.size == 3\n",
    "\n",
    "mask = top10.transform(is_saled)\n",
    "top10[mask]"
   ],
   "metadata": {
    "colab": {
     "base_uri": "https://localhost:8080/"
    },
    "id": "0RH6OI_C2K7Q",
    "outputId": "c413d342-de8c-4b67-dc24-174e9721969a",
    "pycharm": {
     "name": "#%%\n"
    }
   },
   "execution_count": 15,
   "outputs": [
    {
     "data": {
      "text/plain": "0    20949\n1     2808\n2     3732\n3    17717\n4     5822\n5     3734\n6     6675\n8     1855\n9    16787\nName: item_id, dtype: int64"
     },
     "execution_count": 15,
     "metadata": {},
     "output_type": "execute_result"
    }
   ]
  },
  {
   "cell_type": "markdown",
   "source": [
    "# Задание 3 (3 балла)"
   ],
   "metadata": {
    "id": "oaood23UKK5e",
    "pycharm": {
     "name": "#%% md\n"
    }
   }
  },
  {
   "cell_type": "markdown",
   "source": [
    "> При выполнении на pandas не используйте merge().\n",
    "\n",
    "1. Определите категорию товаров, в которой совершается минимальное число покупок. Выведите айди и название категории.\n",
    "2. Определите категорию товаров, в которой совершается максимальное число покупок. Выведите айди и название категории.\n",
    "\n",
    "*Если таких категорий несколько, выведите все.*"
   ],
   "metadata": {
    "id": "6fKaQTb0KK5f",
    "pycharm": {
     "name": "#%% md\n"
    }
   }
  },
  {
   "cell_type": "markdown",
   "source": [
    "1"
   ],
   "metadata": {
    "id": "n0i5OVl3Eirn",
    "pycharm": {
     "name": "#%% md\n"
    }
   }
  },
  {
   "cell_type": "code",
   "execution_count": 16,
   "metadata": {
    "id": "bc9NvOGjKK5g",
    "colab": {
     "base_uri": "https://localhost:8080/",
     "height": 1000
    },
    "outputId": "9f2857ee-0fd4-45e7-9ad8-94ad6fb6c562",
    "pycharm": {
     "name": "#%%\n"
    }
   },
   "outputs": [],
   "source": [
    "category_sum = defaultdict(lambda: 0)\n",
    "\n",
    "bought_sum = sales.groupby('item_id')['item_cnt_day'].sum()\n",
    "\n",
    "for row in items[['item_id', 'category_id']].itertuples():\n",
    "  item_id = row[1]\n",
    "  category = row[2]\n",
    "  category_sum[category] += bought_sum.get(item_id, 0)\n",
    "\n",
    "category_sum = pd.Series(category_sum)"
   ]
  },
  {
   "cell_type": "code",
   "execution_count": 17,
   "outputs": [
    {
     "data": {
      "text/plain": "            item_category_name  item_category_id\n0   PC - Headsets / Headphones                 0\n1            Accessories - PS2                 1\n2            Accessories - PS3                 2\n3            Accessories - PS4                 3\n4            Accessories - PSP                 4\n..                         ...               ...\n79                     Service                79\n80           Service - Tickets                80\n81         Blank media (spire)                81\n82        Blank media (piece)                 82\n83                   Batteries                83\n\n[84 rows x 2 columns]",
      "text/html": "<div>\n<style scoped>\n    .dataframe tbody tr th:only-of-type {\n        vertical-align: middle;\n    }\n\n    .dataframe tbody tr th {\n        vertical-align: top;\n    }\n\n    .dataframe thead th {\n        text-align: right;\n    }\n</style>\n<table border=\"1\" class=\"dataframe\">\n  <thead>\n    <tr style=\"text-align: right;\">\n      <th></th>\n      <th>item_category_name</th>\n      <th>item_category_id</th>\n    </tr>\n  </thead>\n  <tbody>\n    <tr>\n      <th>0</th>\n      <td>PC - Headsets / Headphones</td>\n      <td>0</td>\n    </tr>\n    <tr>\n      <th>1</th>\n      <td>Accessories - PS2</td>\n      <td>1</td>\n    </tr>\n    <tr>\n      <th>2</th>\n      <td>Accessories - PS3</td>\n      <td>2</td>\n    </tr>\n    <tr>\n      <th>3</th>\n      <td>Accessories - PS4</td>\n      <td>3</td>\n    </tr>\n    <tr>\n      <th>4</th>\n      <td>Accessories - PSP</td>\n      <td>4</td>\n    </tr>\n    <tr>\n      <th>...</th>\n      <td>...</td>\n      <td>...</td>\n    </tr>\n    <tr>\n      <th>79</th>\n      <td>Service</td>\n      <td>79</td>\n    </tr>\n    <tr>\n      <th>80</th>\n      <td>Service - Tickets</td>\n      <td>80</td>\n    </tr>\n    <tr>\n      <th>81</th>\n      <td>Blank media (spire)</td>\n      <td>81</td>\n    </tr>\n    <tr>\n      <th>82</th>\n      <td>Blank media (piece)</td>\n      <td>82</td>\n    </tr>\n    <tr>\n      <th>83</th>\n      <td>Batteries</td>\n      <td>83</td>\n    </tr>\n  </tbody>\n</table>\n<p>84 rows × 2 columns</p>\n</div>"
     },
     "execution_count": 17,
     "metadata": {},
     "output_type": "execute_result"
    }
   ],
   "source": [
    "categ"
   ],
   "metadata": {
    "collapsed": false,
    "pycharm": {
     "name": "#%%\n"
    }
   }
  },
  {
   "cell_type": "code",
   "execution_count": 18,
   "outputs": [],
   "source": [
    "def output_category(_id):\n",
    "  mask = categ['item_category_id'] == _id\n",
    "  return categ.loc[mask]"
   ],
   "metadata": {
    "collapsed": false,
    "pycharm": {
     "name": "#%%\n"
    }
   }
  },
  {
   "cell_type": "code",
   "execution_count": 19,
   "outputs": [
    {
     "data": {
      "text/plain": "51         1.0\n10         1.0\n1          2.0\n0          3.0\n50         3.0\n        ...   \n37    203284.0\n19    254887.0\n55    348591.0\n30    456540.0\n40    634171.0\nLength: 84, dtype: float64"
     },
     "execution_count": 19,
     "metadata": {},
     "output_type": "execute_result"
    }
   ],
   "source": [
    "category_sum.sort_values(ascending=True)"
   ],
   "metadata": {
    "collapsed": false,
    "pycharm": {
     "name": "#%%\n"
    }
   }
  },
  {
   "cell_type": "code",
   "execution_count": 20,
   "outputs": [],
   "source": [
    "min_indexes = category_sum[category_sum == category_sum.min()].index\n",
    "min_category_id1 = min_indexes[0]\n",
    "min_category_id2 = min_indexes[1]"
   ],
   "metadata": {
    "collapsed": false,
    "pycharm": {
     "name": "#%%\n"
    }
   }
  },
  {
   "cell_type": "code",
   "execution_count": 21,
   "outputs": [
    {
     "data": {
      "text/plain": "      item_category_name  item_category_id\n10   Game consoles - PS2                10",
      "text/html": "<div>\n<style scoped>\n    .dataframe tbody tr th:only-of-type {\n        vertical-align: middle;\n    }\n\n    .dataframe tbody tr th {\n        vertical-align: top;\n    }\n\n    .dataframe thead th {\n        text-align: right;\n    }\n</style>\n<table border=\"1\" class=\"dataframe\">\n  <thead>\n    <tr style=\"text-align: right;\">\n      <th></th>\n      <th>item_category_name</th>\n      <th>item_category_id</th>\n    </tr>\n  </thead>\n  <tbody>\n    <tr>\n      <th>10</th>\n      <td>Game consoles - PS2</td>\n      <td>10</td>\n    </tr>\n  </tbody>\n</table>\n</div>"
     },
     "execution_count": 21,
     "metadata": {},
     "output_type": "execute_result"
    }
   ],
   "source": [
    "output_category(min_category_id1)"
   ],
   "metadata": {
    "collapsed": false,
    "pycharm": {
     "name": "#%%\n"
    }
   }
  },
  {
   "cell_type": "code",
   "execution_count": 22,
   "outputs": [
    {
     "data": {
      "text/plain": "               item_category_name  item_category_id\n51   Books - Cognitive literature                51",
      "text/html": "<div>\n<style scoped>\n    .dataframe tbody tr th:only-of-type {\n        vertical-align: middle;\n    }\n\n    .dataframe tbody tr th {\n        vertical-align: top;\n    }\n\n    .dataframe thead th {\n        text-align: right;\n    }\n</style>\n<table border=\"1\" class=\"dataframe\">\n  <thead>\n    <tr style=\"text-align: right;\">\n      <th></th>\n      <th>item_category_name</th>\n      <th>item_category_id</th>\n    </tr>\n  </thead>\n  <tbody>\n    <tr>\n      <th>51</th>\n      <td>Books - Cognitive literature</td>\n      <td>51</td>\n    </tr>\n  </tbody>\n</table>\n</div>"
     },
     "execution_count": 22,
     "metadata": {},
     "output_type": "execute_result"
    }
   ],
   "source": [
    "output_category(min_category_id2)"
   ],
   "metadata": {
    "collapsed": false,
    "pycharm": {
     "name": "#%%\n"
    }
   }
  },
  {
   "cell_type": "code",
   "execution_count": 23,
   "outputs": [
    {
     "data": {
      "text/plain": "   item_category_name  item_category_id\n40       Cinema - DVD                40",
      "text/html": "<div>\n<style scoped>\n    .dataframe tbody tr th:only-of-type {\n        vertical-align: middle;\n    }\n\n    .dataframe tbody tr th {\n        vertical-align: top;\n    }\n\n    .dataframe thead th {\n        text-align: right;\n    }\n</style>\n<table border=\"1\" class=\"dataframe\">\n  <thead>\n    <tr style=\"text-align: right;\">\n      <th></th>\n      <th>item_category_name</th>\n      <th>item_category_id</th>\n    </tr>\n  </thead>\n  <tbody>\n    <tr>\n      <th>40</th>\n      <td>Cinema - DVD</td>\n      <td>40</td>\n    </tr>\n  </tbody>\n</table>\n</div>"
     },
     "execution_count": 23,
     "metadata": {},
     "output_type": "execute_result"
    }
   ],
   "source": [
    "max_category_id = category_sum.idxmax()\n",
    "output_category(max_category_id)"
   ],
   "metadata": {
    "collapsed": false,
    "pycharm": {
     "name": "#%%\n"
    }
   }
  },
  {
   "cell_type": "markdown",
   "source": [
    "# Задание 4 (3 балла)"
   ],
   "metadata": {
    "id": "a99rnQRwKLLR",
    "pycharm": {
     "name": "#%% md\n"
    }
   }
  },
  {
   "cell_type": "markdown",
   "source": [
    "1. Для категорий из задания 3 найдите среднее количество продаж каждого товара категории в 5 магазинах с наибольшими продажами. Оставьте в таблице только те товары, среднее количество продаж которых строго больше 100.\n",
    "2. Найдите месяц с максимальными продажами для каждого товара из пункта 1.\n"
   ],
   "metadata": {
    "id": "sxh1WWITKLLS",
    "pycharm": {
     "name": "#%% md\n"
    }
   }
  },
  {
   "cell_type": "code",
   "execution_count": 24,
   "outputs": [],
   "source": [
    "def get_only_category(category_id):\n",
    "  category_mask = items['category_id'] == category_id\n",
    "  only_category_items = items.loc[category_mask, ['item_id']]\n",
    "  only_category = pd.merge(sales, only_category_items, on='item_id')\n",
    "  return only_category"
   ],
   "metadata": {
    "collapsed": false,
    "pycharm": {
     "name": "#%%\n"
    }
   }
  },
  {
   "cell_type": "code",
   "execution_count": 25,
   "metadata": {
    "id": "MoRKW5P3KLLS",
    "pycharm": {
     "name": "#%%\n"
    }
   },
   "outputs": [],
   "source": [
    "def get_items_mean_lg_100( category_id):\n",
    "  # получаем топ 5 магазинов по продажам для категории\n",
    "  only_category = get_only_category(category_id)\n",
    "  shop_bought = only_category.groupby('shop_id')['item_cnt_day'].sum()\n",
    "  top5_shops = shop_bought.nlargest(5).index\n",
    "  # получаем продажи товаров категории только в топ 5\n",
    "  mask = only_category['shop_id'].isin(top5_shops)\n",
    "  df_only_top5 = only_category[mask]\n",
    "  # получаем предметы, у которых больше 100 в среднем по топ 5 магазинов\n",
    "  item_shop = df_only_top5.groupby(['item_id', 'shop_id'])['item_cnt_day'].sum()\n",
    "  item_mean = item_shop.groupby(level=0).mean()\n",
    "  res = list(item_mean[item_mean > 100].index)\n",
    "  return res"
   ]
  },
  {
   "cell_type": "code",
   "execution_count": 26,
   "outputs": [
    {
     "data": {
      "text/plain": "0        30\n1        32\n2      8415\n3      9781\n4      9862\n5      9983\n6     10292\n7     10298\n8     10376\n9     10487\n10    10497\n11    10956\n12    10991\n13    11457\n14    11496\n15    11921\n16    11922\n17    11966\n18    12020\n19    12361\n20    12362\n21    12734\n22    13811\n23    14019\n24    14305\n25    14447\n26    14574\n27    14730\n28    16450\n29    16454\n30    16501\n31    16581\n32    17782\n33    18622\n34    19065\n35    19116\n36    19196\n37    19771\n38    19811\n39    20088\n40    20231\n41    21376\n42    21377\n43    21384\n44    21404\n45    21427\n46    21440\n47    22020\n48    22058\ndtype: int64"
     },
     "execution_count": 26,
     "metadata": {},
     "output_type": "execute_result"
    }
   ],
   "source": [
    "gt_100_item_id = []\n",
    "gt_100_min1 = get_items_mean_lg_100(min_category_id1)\n",
    "gt_100_min2 = get_items_mean_lg_100(min_category_id2)\n",
    "gt_100_max = get_items_mean_lg_100(max_category_id)\n",
    "gt_100_item_id.extend(gt_100_min1 + gt_100_min2 + gt_100_max)\n",
    "gt_100_item_id = pd.Series(gt_100_item_id)\n",
    "gt_100_item_id"
   ],
   "metadata": {
    "collapsed": false,
    "pycharm": {
     "name": "#%%\n"
    }
   }
  },
  {
   "cell_type": "markdown",
   "source": [
    "2"
   ],
   "metadata": {
    "collapsed": false,
    "pycharm": {
     "name": "#%% md\n"
    }
   }
  },
  {
   "cell_type": "code",
   "execution_count": 40,
   "outputs": [
    {
     "data": {
      "text/plain": "    item_id  best_month\n0        30           1\n1        32           0\n2      8415          14\n3      9781           8\n4      9862          14\n5      9983           9\n6     10292           8\n7     10298          10\n8     10376          12\n9     10487          11\n10    10497          14\n11    10956           4\n12    10991           4\n13    11457           8\n14    11496           3\n15    11921          15\n16    11922          11\n17    11966           8\n18    12020          27\n19    12361          17\n20    12362          22\n21    12734           5\n22    13811           5\n23    14019           9\n24    14305          21\n25    14447           0\n26    14574           2\n27    14730           1\n28    16450           0\n29    16454           7\n30    16501           9\n31    16581           1\n32    17782           2\n33    18622           9\n34    19065          11\n35    19116          23\n36    19196           2\n37    19771           7\n38    19811           1\n39    20088          10\n40    20231           4\n41    21376           3\n42    21377          11\n43    21384          15\n44    21404          15\n45    21427           4\n46    21440           2\n47    22020           2\n48    22058           8",
      "text/html": "<div>\n<style scoped>\n    .dataframe tbody tr th:only-of-type {\n        vertical-align: middle;\n    }\n\n    .dataframe tbody tr th {\n        vertical-align: top;\n    }\n\n    .dataframe thead th {\n        text-align: right;\n    }\n</style>\n<table border=\"1\" class=\"dataframe\">\n  <thead>\n    <tr style=\"text-align: right;\">\n      <th></th>\n      <th>item_id</th>\n      <th>best_month</th>\n    </tr>\n  </thead>\n  <tbody>\n    <tr>\n      <th>0</th>\n      <td>30</td>\n      <td>1</td>\n    </tr>\n    <tr>\n      <th>1</th>\n      <td>32</td>\n      <td>0</td>\n    </tr>\n    <tr>\n      <th>2</th>\n      <td>8415</td>\n      <td>14</td>\n    </tr>\n    <tr>\n      <th>3</th>\n      <td>9781</td>\n      <td>8</td>\n    </tr>\n    <tr>\n      <th>4</th>\n      <td>9862</td>\n      <td>14</td>\n    </tr>\n    <tr>\n      <th>5</th>\n      <td>9983</td>\n      <td>9</td>\n    </tr>\n    <tr>\n      <th>6</th>\n      <td>10292</td>\n      <td>8</td>\n    </tr>\n    <tr>\n      <th>7</th>\n      <td>10298</td>\n      <td>10</td>\n    </tr>\n    <tr>\n      <th>8</th>\n      <td>10376</td>\n      <td>12</td>\n    </tr>\n    <tr>\n      <th>9</th>\n      <td>10487</td>\n      <td>11</td>\n    </tr>\n    <tr>\n      <th>10</th>\n      <td>10497</td>\n      <td>14</td>\n    </tr>\n    <tr>\n      <th>11</th>\n      <td>10956</td>\n      <td>4</td>\n    </tr>\n    <tr>\n      <th>12</th>\n      <td>10991</td>\n      <td>4</td>\n    </tr>\n    <tr>\n      <th>13</th>\n      <td>11457</td>\n      <td>8</td>\n    </tr>\n    <tr>\n      <th>14</th>\n      <td>11496</td>\n      <td>3</td>\n    </tr>\n    <tr>\n      <th>15</th>\n      <td>11921</td>\n      <td>15</td>\n    </tr>\n    <tr>\n      <th>16</th>\n      <td>11922</td>\n      <td>11</td>\n    </tr>\n    <tr>\n      <th>17</th>\n      <td>11966</td>\n      <td>8</td>\n    </tr>\n    <tr>\n      <th>18</th>\n      <td>12020</td>\n      <td>27</td>\n    </tr>\n    <tr>\n      <th>19</th>\n      <td>12361</td>\n      <td>17</td>\n    </tr>\n    <tr>\n      <th>20</th>\n      <td>12362</td>\n      <td>22</td>\n    </tr>\n    <tr>\n      <th>21</th>\n      <td>12734</td>\n      <td>5</td>\n    </tr>\n    <tr>\n      <th>22</th>\n      <td>13811</td>\n      <td>5</td>\n    </tr>\n    <tr>\n      <th>23</th>\n      <td>14019</td>\n      <td>9</td>\n    </tr>\n    <tr>\n      <th>24</th>\n      <td>14305</td>\n      <td>21</td>\n    </tr>\n    <tr>\n      <th>25</th>\n      <td>14447</td>\n      <td>0</td>\n    </tr>\n    <tr>\n      <th>26</th>\n      <td>14574</td>\n      <td>2</td>\n    </tr>\n    <tr>\n      <th>27</th>\n      <td>14730</td>\n      <td>1</td>\n    </tr>\n    <tr>\n      <th>28</th>\n      <td>16450</td>\n      <td>0</td>\n    </tr>\n    <tr>\n      <th>29</th>\n      <td>16454</td>\n      <td>7</td>\n    </tr>\n    <tr>\n      <th>30</th>\n      <td>16501</td>\n      <td>9</td>\n    </tr>\n    <tr>\n      <th>31</th>\n      <td>16581</td>\n      <td>1</td>\n    </tr>\n    <tr>\n      <th>32</th>\n      <td>17782</td>\n      <td>2</td>\n    </tr>\n    <tr>\n      <th>33</th>\n      <td>18622</td>\n      <td>9</td>\n    </tr>\n    <tr>\n      <th>34</th>\n      <td>19065</td>\n      <td>11</td>\n    </tr>\n    <tr>\n      <th>35</th>\n      <td>19116</td>\n      <td>23</td>\n    </tr>\n    <tr>\n      <th>36</th>\n      <td>19196</td>\n      <td>2</td>\n    </tr>\n    <tr>\n      <th>37</th>\n      <td>19771</td>\n      <td>7</td>\n    </tr>\n    <tr>\n      <th>38</th>\n      <td>19811</td>\n      <td>1</td>\n    </tr>\n    <tr>\n      <th>39</th>\n      <td>20088</td>\n      <td>10</td>\n    </tr>\n    <tr>\n      <th>40</th>\n      <td>20231</td>\n      <td>4</td>\n    </tr>\n    <tr>\n      <th>41</th>\n      <td>21376</td>\n      <td>3</td>\n    </tr>\n    <tr>\n      <th>42</th>\n      <td>21377</td>\n      <td>11</td>\n    </tr>\n    <tr>\n      <th>43</th>\n      <td>21384</td>\n      <td>15</td>\n    </tr>\n    <tr>\n      <th>44</th>\n      <td>21404</td>\n      <td>15</td>\n    </tr>\n    <tr>\n      <th>45</th>\n      <td>21427</td>\n      <td>4</td>\n    </tr>\n    <tr>\n      <th>46</th>\n      <td>21440</td>\n      <td>2</td>\n    </tr>\n    <tr>\n      <th>47</th>\n      <td>22020</td>\n      <td>2</td>\n    </tr>\n    <tr>\n      <th>48</th>\n      <td>22058</td>\n      <td>8</td>\n    </tr>\n  </tbody>\n</table>\n</div>"
     },
     "execution_count": 40,
     "metadata": {},
     "output_type": "execute_result"
    }
   ],
   "source": [
    "def get_best_month(item_id):\n",
    "  df_item = sales[sales['item_id'] == item_id]\n",
    "  return df_item.groupby('date_block_num')['item_cnt_day'].sum().idxmax()\n",
    "\n",
    "best_month = gt_100_item_id.transform(get_best_month)\n",
    "pd.DataFrame({'item_id': gt_100_item_id,\n",
    "              'best_month': best_month})"
   ],
   "metadata": {
    "collapsed": false,
    "pycharm": {
     "name": "#%%\n"
    }
   }
  },
  {
   "cell_type": "markdown",
   "source": [
    "Проверю, что результата логичен"
   ],
   "metadata": {
    "collapsed": false,
    "pycharm": {
     "name": "#%% md\n"
    }
   }
  },
  {
   "cell_type": "code",
   "execution_count": 41,
   "outputs": [
    {
     "data": {
      "text/plain": "date_block_num\n13     90.0\n14    920.0\n15    183.0\n16     64.0\n17     32.0\n18     65.0\n19     83.0\n20     61.0\n21     36.0\n22     29.0\n23     14.0\n24     11.0\n25      4.0\n26     13.0\n27     18.0\n28     15.0\n29      7.0\n30      7.0\n31      7.0\n32     12.0\n33     13.0\nName: item_cnt_day, dtype: float64"
     },
     "execution_count": 41,
     "metadata": {},
     "output_type": "execute_result"
    }
   ],
   "source": [
    "item_id = 9862\n",
    "df_item = sales[sales['item_id'] == item_id]\n",
    "df_item.groupby('date_block_num')['item_cnt_day'].sum()"
   ],
   "metadata": {
    "collapsed": false,
    "pycharm": {
     "name": "#%%\n"
    }
   }
  },
  {
   "cell_type": "markdown",
   "source": [
    "# Задание 5 (3 балла)"
   ],
   "metadata": {
    "id": "d11G2DP4KLUy",
    "pycharm": {
     "name": "#%% md\n"
    }
   }
  },
  {
   "cell_type": "markdown",
   "source": [
    "Пункт 1: «Для категорий из задания 3 найдите среднюю и медианную цену по (т.е. для каждого товара категории отдельно) категории в пределах каждого месяца (в котором товар продавался). Выведите топ-10 товаров по медиане из каждой категории (для каждого месяца)."
   ],
   "metadata": {
    "collapsed": false,
    "pycharm": {
     "name": "#%% md\n"
    }
   }
  },
  {
   "cell_type": "markdown",
   "source": [
    "1. Для категорий из задания 3 найдите среднюю и медианную цену по категории в пределах каждого месяца. Выведите топ-10 товаров по медиане из каждой категории.\n",
    "2. В каждом году найдите месяцы, в которых средняя цена меньше, чем в предыдущем и следующем месяце."
   ],
   "metadata": {
    "id": "RX3FC6lbKLUz",
    "pycharm": {
     "name": "#%% md\n"
    }
   }
  },
  {
   "cell_type": "markdown",
   "source": [
    "## 1"
   ],
   "metadata": {
    "collapsed": false,
    "pycharm": {
     "name": "#%% md\n"
    }
   }
  },
  {
   "cell_type": "code",
   "execution_count": 31,
   "outputs": [],
   "source": [
    "a = None\n",
    "\n",
    "\n",
    "def get_top10_by_median(category_id):\n",
    "  def top10_from_grouped(x):\n",
    "    x = x.groupby('item_id')['item_price'].agg(['mean', 'median'])\n",
    "    return x.nlargest(10, 'median')\n",
    "\n",
    "  only_category = get_only_category(category_id)\n",
    "  return only_category.groupby(['date_block_num']).apply(top10_from_grouped)"
   ],
   "metadata": {
    "collapsed": false,
    "pycharm": {
     "name": "#%%\n"
    }
   }
  },
  {
   "cell_type": "code",
   "execution_count": 32,
   "outputs": [],
   "source": [
    "a"
   ],
   "metadata": {
    "collapsed": false,
    "pycharm": {
     "name": "#%%\n"
    }
   }
  },
  {
   "cell_type": "code",
   "execution_count": 33,
   "metadata": {
    "id": "zpwSYpteKLU0",
    "pycharm": {
     "name": "#%%\n"
    }
   },
   "outputs": [
    {
     "data": {
      "text/plain": "                              mean  median\ndate_block_num item_id                    \n0              12686    958.285714   999.0\n               13993    999.000000   999.0\n               9601     849.000000   849.0\n               9618     802.000000   849.0\n               9640     849.000000   849.0\n...                            ...     ...\n33             14711    699.000000   699.0\n               20214    649.000000   649.0\n               12686    574.000000   574.0\n               8206     549.000000   549.0\n               11921    546.317073   549.0\n\n[340 rows x 2 columns]",
      "text/html": "<div>\n<style scoped>\n    .dataframe tbody tr th:only-of-type {\n        vertical-align: middle;\n    }\n\n    .dataframe tbody tr th {\n        vertical-align: top;\n    }\n\n    .dataframe thead th {\n        text-align: right;\n    }\n</style>\n<table border=\"1\" class=\"dataframe\">\n  <thead>\n    <tr style=\"text-align: right;\">\n      <th></th>\n      <th></th>\n      <th>mean</th>\n      <th>median</th>\n    </tr>\n    <tr>\n      <th>date_block_num</th>\n      <th>item_id</th>\n      <th></th>\n      <th></th>\n    </tr>\n  </thead>\n  <tbody>\n    <tr>\n      <th rowspan=\"5\" valign=\"top\">0</th>\n      <th>12686</th>\n      <td>958.285714</td>\n      <td>999.0</td>\n    </tr>\n    <tr>\n      <th>13993</th>\n      <td>999.000000</td>\n      <td>999.0</td>\n    </tr>\n    <tr>\n      <th>9601</th>\n      <td>849.000000</td>\n      <td>849.0</td>\n    </tr>\n    <tr>\n      <th>9618</th>\n      <td>802.000000</td>\n      <td>849.0</td>\n    </tr>\n    <tr>\n      <th>9640</th>\n      <td>849.000000</td>\n      <td>849.0</td>\n    </tr>\n    <tr>\n      <th>...</th>\n      <th>...</th>\n      <td>...</td>\n      <td>...</td>\n    </tr>\n    <tr>\n      <th rowspan=\"5\" valign=\"top\">33</th>\n      <th>14711</th>\n      <td>699.000000</td>\n      <td>699.0</td>\n    </tr>\n    <tr>\n      <th>20214</th>\n      <td>649.000000</td>\n      <td>649.0</td>\n    </tr>\n    <tr>\n      <th>12686</th>\n      <td>574.000000</td>\n      <td>574.0</td>\n    </tr>\n    <tr>\n      <th>8206</th>\n      <td>549.000000</td>\n      <td>549.0</td>\n    </tr>\n    <tr>\n      <th>11921</th>\n      <td>546.317073</td>\n      <td>549.0</td>\n    </tr>\n  </tbody>\n</table>\n<p>340 rows × 2 columns</p>\n</div>"
     },
     "execution_count": 33,
     "metadata": {},
     "output_type": "execute_result"
    }
   ],
   "source": [
    "get_top10_by_median(max_category_id)"
   ]
  },
  {
   "cell_type": "code",
   "execution_count": 34,
   "outputs": [
    {
     "data": {
      "text/plain": "                          mean  median\ndate_block_num item_id                \n3              6669     1998.0  1998.0",
      "text/html": "<div>\n<style scoped>\n    .dataframe tbody tr th:only-of-type {\n        vertical-align: middle;\n    }\n\n    .dataframe tbody tr th {\n        vertical-align: top;\n    }\n\n    .dataframe thead th {\n        text-align: right;\n    }\n</style>\n<table border=\"1\" class=\"dataframe\">\n  <thead>\n    <tr style=\"text-align: right;\">\n      <th></th>\n      <th></th>\n      <th>mean</th>\n      <th>median</th>\n    </tr>\n    <tr>\n      <th>date_block_num</th>\n      <th>item_id</th>\n      <th></th>\n      <th></th>\n    </tr>\n  </thead>\n  <tbody>\n    <tr>\n      <th>3</th>\n      <th>6669</th>\n      <td>1998.0</td>\n      <td>1998.0</td>\n    </tr>\n  </tbody>\n</table>\n</div>"
     },
     "execution_count": 34,
     "metadata": {},
     "output_type": "execute_result"
    }
   ],
   "source": [
    "get_top10_by_median(min_category_id1)"
   ],
   "metadata": {
    "collapsed": false,
    "pycharm": {
     "name": "#%%\n"
    }
   }
  },
  {
   "cell_type": "code",
   "execution_count": 35,
   "outputs": [
    {
     "data": {
      "text/plain": "                         mean  median\ndate_block_num item_id               \n18             17703    129.0   129.0",
      "text/html": "<div>\n<style scoped>\n    .dataframe tbody tr th:only-of-type {\n        vertical-align: middle;\n    }\n\n    .dataframe tbody tr th {\n        vertical-align: top;\n    }\n\n    .dataframe thead th {\n        text-align: right;\n    }\n</style>\n<table border=\"1\" class=\"dataframe\">\n  <thead>\n    <tr style=\"text-align: right;\">\n      <th></th>\n      <th></th>\n      <th>mean</th>\n      <th>median</th>\n    </tr>\n    <tr>\n      <th>date_block_num</th>\n      <th>item_id</th>\n      <th></th>\n      <th></th>\n    </tr>\n  </thead>\n  <tbody>\n    <tr>\n      <th>18</th>\n      <th>17703</th>\n      <td>129.0</td>\n      <td>129.0</td>\n    </tr>\n  </tbody>\n</table>\n</div>"
     },
     "execution_count": 35,
     "metadata": {},
     "output_type": "execute_result"
    }
   ],
   "source": [
    "get_top10_by_median(min_category_id2)"
   ],
   "metadata": {
    "collapsed": false,
    "pycharm": {
     "name": "#%%\n"
    }
   }
  },
  {
   "cell_type": "markdown",
   "source": [
    "## 2"
   ],
   "metadata": {
    "collapsed": false,
    "pycharm": {
     "name": "#%% md\n"
    }
   }
  },
  {
   "cell_type": "markdown",
   "source": [
    "В каждом году найдите месяцы, в которых средняя цена меньше, чем в предыдущем и следующем месяце."
   ],
   "metadata": {
    "collapsed": false,
    "pycharm": {
     "name": "#%% md\n"
    }
   }
  },
  {
   "cell_type": "code",
   "source": [
    "# means = get_top10_by_median(max_category_id)['mean']\n",
    "\n",
    "means = sales.groupby('date_block_num')['item_price'].mean()\n",
    "\n",
    "mean_center = means.iloc[1:-1].reset_index(drop=True)\n",
    "mean_left = means.iloc[:-2].reset_index(drop=True)\n",
    "mean_right = means.iloc[2:].reset_index(drop=True)\n",
    "is_local_min = (mean_center < mean_left) & (mean_center < mean_right)\n",
    "is_local_min"
   ],
   "metadata": {
    "collapsed": false,
    "pycharm": {
     "name": "#%%\n"
    }
   },
   "outputs": [
    {
     "data": {
      "text/plain": "0     False\n1     False\n2     False\n3      True\n4     False\n5      True\n6     False\n7     False\n8     False\n9     False\n10    False\n11     True\n12    False\n13    False\n14     True\n15    False\n16    False\n17     True\n18    False\n19    False\n20    False\n21    False\n22    False\n23    False\n24     True\n25    False\n26    False\n27    False\n28    False\n29    False\n30     True\n31    False\nName: item_price, dtype: bool"
     },
     "execution_count": 42,
     "metadata": {},
     "output_type": "execute_result"
    }
   ],
   "execution_count": 42
  },
  {
   "cell_type": "code",
   "execution_count": 43,
   "outputs": [
    {
     "data": {
      "text/plain": "    date_block  year\n3            4  2013\n5            6  2013\n11          12  2014\n14          15  2014\n17          18  2014\n24          25  2015\n30          31  2015",
      "text/html": "<div>\n<style scoped>\n    .dataframe tbody tr th:only-of-type {\n        vertical-align: middle;\n    }\n\n    .dataframe tbody tr th {\n        vertical-align: top;\n    }\n\n    .dataframe thead th {\n        text-align: right;\n    }\n</style>\n<table border=\"1\" class=\"dataframe\">\n  <thead>\n    <tr style=\"text-align: right;\">\n      <th></th>\n      <th>date_block</th>\n      <th>year</th>\n    </tr>\n  </thead>\n  <tbody>\n    <tr>\n      <th>3</th>\n      <td>4</td>\n      <td>2013</td>\n    </tr>\n    <tr>\n      <th>5</th>\n      <td>6</td>\n      <td>2013</td>\n    </tr>\n    <tr>\n      <th>11</th>\n      <td>12</td>\n      <td>2014</td>\n    </tr>\n    <tr>\n      <th>14</th>\n      <td>15</td>\n      <td>2014</td>\n    </tr>\n    <tr>\n      <th>17</th>\n      <td>18</td>\n      <td>2014</td>\n    </tr>\n    <tr>\n      <th>24</th>\n      <td>25</td>\n      <td>2015</td>\n    </tr>\n    <tr>\n      <th>30</th>\n      <td>31</td>\n      <td>2015</td>\n    </tr>\n  </tbody>\n</table>\n</div>"
     },
     "execution_count": 43,
     "metadata": {},
     "output_type": "execute_result"
    }
   ],
   "source": [
    "def add_months(sourcedate, months):\n",
    "  month = sourcedate.month - 1 + months\n",
    "  year = sourcedate.year + month // 12\n",
    "  month = month % 12 + 1\n",
    "  day = min(sourcedate.day, calendar.monthrange(year,month)[1])\n",
    "  return datetime.date(year, month, day)\n",
    "\n",
    "def get_year_by_date_block(date_block):\n",
    "  start_date = datetime.date(year=2013, day=1, month=1)\n",
    "  actual_date = add_months(start_date, date_block)\n",
    "  return actual_date.year\n",
    "\n",
    "date_blocks = pd.Series(range(1, is_local_min.shape[0]+1))\n",
    "date_blocks = date_blocks[is_local_min]\n",
    "years = date_blocks.transform(get_year_by_date_block)\n",
    "pd.DataFrame({'date_block': date_blocks, 'year': years})"
   ],
   "metadata": {
    "collapsed": false,
    "pycharm": {
     "name": "#%%\n"
    }
   }
  }
 ]
}