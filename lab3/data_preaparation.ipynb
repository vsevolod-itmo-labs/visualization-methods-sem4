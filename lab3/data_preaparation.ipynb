{
 "cells": [
  {
   "cell_type": "code",
   "execution_count": 1,
   "metadata": {
    "collapsed": true,
    "pycharm": {
     "name": "#%%\n"
    }
   },
   "outputs": [],
   "source": [
    "import pandas as pd\n",
    "import numpy as np\n",
    "import matplotlib.pyplot as plt\n",
    "import seaborn as sns\n",
    "import plotly.express as px\n",
    "import plotly.graph_objs as go\n",
    "import plotly.figure_factory as ff\n",
    "sns.set()"
   ]
  },
  {
   "cell_type": "code",
   "execution_count": 2,
   "outputs": [
    {
     "data": {
      "text/plain": "        Country Name Country Code  \\\n0              Aruba          ABW   \n1              Aruba          ABW   \n2              Aruba          ABW   \n3              Aruba          ABW   \n4              Aruba          ABW   \n...              ...          ...   \n1253387     Zimbabwe          ZWE   \n1253388     Zimbabwe          ZWE   \n1253389     Zimbabwe          ZWE   \n1253390     Zimbabwe          ZWE   \n1253391     Zimbabwe          ZWE   \n\n                                            Indicator Name     Indicator Code  \\\n0                 Urban population (% of total population)  SP.URB.TOTL.IN.ZS   \n1                                         Urban population        SP.URB.TOTL   \n2                       Urban population growth (annual %)        SP.URB.GROW   \n3                                        Population, total        SP.POP.TOTL   \n4                             Population growth (annual %)        SP.POP.GROW   \n...                                                    ...                ...   \n1253387  Rural land area where elevation is below 5 met...  AG.LND.EL5M.RU.ZS   \n1253388  Rural land area where elevation is below 5 met...  AG.LND.EL5M.RU.K2   \n1253389                       Arable land (% of land area)     AG.LND.ARBL.ZS   \n1253390                 Agricultural land (% of land area)     AG.LND.AGRI.ZS   \n1253391                         Agricultural land (sq. km)     AG.LND.AGRI.K2   \n\n         Year      Value  \n0        1960     50.776  \n1        1960  27728.000  \n2        1960        NaN  \n3        1960  54608.000  \n4        1960        NaN  \n...       ...        ...  \n1253387  2021        NaN  \n1253388  2021        NaN  \n1253389  2021        NaN  \n1253390  2021        NaN  \n1253391  2021        NaN  \n\n[1253392 rows x 6 columns]",
      "text/html": "<div>\n<style scoped>\n    .dataframe tbody tr th:only-of-type {\n        vertical-align: middle;\n    }\n\n    .dataframe tbody tr th {\n        vertical-align: top;\n    }\n\n    .dataframe thead th {\n        text-align: right;\n    }\n</style>\n<table border=\"1\" class=\"dataframe\">\n  <thead>\n    <tr style=\"text-align: right;\">\n      <th></th>\n      <th>Country Name</th>\n      <th>Country Code</th>\n      <th>Indicator Name</th>\n      <th>Indicator Code</th>\n      <th>Year</th>\n      <th>Value</th>\n    </tr>\n  </thead>\n  <tbody>\n    <tr>\n      <th>0</th>\n      <td>Aruba</td>\n      <td>ABW</td>\n      <td>Urban population (% of total population)</td>\n      <td>SP.URB.TOTL.IN.ZS</td>\n      <td>1960</td>\n      <td>50.776</td>\n    </tr>\n    <tr>\n      <th>1</th>\n      <td>Aruba</td>\n      <td>ABW</td>\n      <td>Urban population</td>\n      <td>SP.URB.TOTL</td>\n      <td>1960</td>\n      <td>27728.000</td>\n    </tr>\n    <tr>\n      <th>2</th>\n      <td>Aruba</td>\n      <td>ABW</td>\n      <td>Urban population growth (annual %)</td>\n      <td>SP.URB.GROW</td>\n      <td>1960</td>\n      <td>NaN</td>\n    </tr>\n    <tr>\n      <th>3</th>\n      <td>Aruba</td>\n      <td>ABW</td>\n      <td>Population, total</td>\n      <td>SP.POP.TOTL</td>\n      <td>1960</td>\n      <td>54608.000</td>\n    </tr>\n    <tr>\n      <th>4</th>\n      <td>Aruba</td>\n      <td>ABW</td>\n      <td>Population growth (annual %)</td>\n      <td>SP.POP.GROW</td>\n      <td>1960</td>\n      <td>NaN</td>\n    </tr>\n    <tr>\n      <th>...</th>\n      <td>...</td>\n      <td>...</td>\n      <td>...</td>\n      <td>...</td>\n      <td>...</td>\n      <td>...</td>\n    </tr>\n    <tr>\n      <th>1253387</th>\n      <td>Zimbabwe</td>\n      <td>ZWE</td>\n      <td>Rural land area where elevation is below 5 met...</td>\n      <td>AG.LND.EL5M.RU.ZS</td>\n      <td>2021</td>\n      <td>NaN</td>\n    </tr>\n    <tr>\n      <th>1253388</th>\n      <td>Zimbabwe</td>\n      <td>ZWE</td>\n      <td>Rural land area where elevation is below 5 met...</td>\n      <td>AG.LND.EL5M.RU.K2</td>\n      <td>2021</td>\n      <td>NaN</td>\n    </tr>\n    <tr>\n      <th>1253389</th>\n      <td>Zimbabwe</td>\n      <td>ZWE</td>\n      <td>Arable land (% of land area)</td>\n      <td>AG.LND.ARBL.ZS</td>\n      <td>2021</td>\n      <td>NaN</td>\n    </tr>\n    <tr>\n      <th>1253390</th>\n      <td>Zimbabwe</td>\n      <td>ZWE</td>\n      <td>Agricultural land (% of land area)</td>\n      <td>AG.LND.AGRI.ZS</td>\n      <td>2021</td>\n      <td>NaN</td>\n    </tr>\n    <tr>\n      <th>1253391</th>\n      <td>Zimbabwe</td>\n      <td>ZWE</td>\n      <td>Agricultural land (sq. km)</td>\n      <td>AG.LND.AGRI.K2</td>\n      <td>2021</td>\n      <td>NaN</td>\n    </tr>\n  </tbody>\n</table>\n<p>1253392 rows × 6 columns</p>\n</div>"
     },
     "execution_count": 2,
     "metadata": {},
     "output_type": "execute_result"
    }
   ],
   "source": [
    "df_main = pd.read_csv('climate_change_data/API_19_DS2_en_csv_v2_5361599.csv', sep=',', skiprows=4)\n",
    "df_main = df_main.iloc[:, :-1]\n",
    "\n",
    "id_columns = ['Country Name',\n",
    "              'Country Code',\n",
    "              'Indicator Name',\n",
    "              'Indicator Code']\n",
    "df_main = pd.melt(df_main, id_vars=id_columns,\n",
    "                  var_name='Year',\n",
    "                  value_name='Value')\n",
    "df_main['Year'] = pd.to_numeric(df_main['Year'])\n",
    "df_main"
   ],
   "metadata": {
    "collapsed": false,
    "pycharm": {
     "name": "#%%\n"
    }
   }
  },
  {
   "cell_type": "code",
   "execution_count": 3,
   "outputs": [],
   "source": [
    "meta_country_df = pd.read_csv('climate_change_data/Metadata_Country_API_19_DS2_en_csv_v2_5361599.csv')\n",
    "meta_country_df = meta_country_df.iloc[:, :-1]"
   ],
   "metadata": {
    "collapsed": false,
    "pycharm": {
     "name": "#%%\n"
    }
   }
  },
  {
   "cell_type": "code",
   "execution_count": 4,
   "outputs": [],
   "source": [
    "meta_indicators_df = pd.read_csv('climate_change_data/Metadata_Indicator_API_19_DS2_en_csv_v2_5361599.csv')\n",
    "meta_indicators_df.columns = meta_indicators_df.columns.str.lower()\n",
    "meta_indicators_df.sort_values(['indicator_code'], inplace=True)\n",
    "meta_indicators_df = meta_indicators_df.reset_index(drop=True)\n",
    "meta_indicators_df = meta_indicators_df.iloc[:, :-1]"
   ],
   "metadata": {
    "collapsed": false,
    "pycharm": {
     "name": "#%%\n"
    }
   }
  },
  {
   "cell_type": "code",
   "execution_count": 5,
   "outputs": [],
   "source": [
    "mask = (df_main['Year'] >= 1990) & (df_main['Year'] <= 2012)\n",
    "df_main = df_main[mask]\n",
    "selected_metrics = [\"Renewable electricity output (% of total electricity output)\",\n",
    "                    \"Energy use (kg of oil equivalent per capita)\",\n",
    "                    \"Electric power consumption (kWh per capita)\",\n",
    "                    \"Electricity production from renewable sources, excluding hydroelectric (kWh)\",\n",
    "                    \"Electricity production from coal sources (% of total)\",\n",
    "                    \"Electricity production from hydroelectric sources (% of total)\",\n",
    "                    \"Electricity production from natural gas sources (% of total)\",\n",
    "                    \"Electricity production from nuclear sources (% of total)\",\n",
    "                    \"Electricity production from oil sources (% of total)\",\n",
    "                    \"Electricity production from renewable sources, excluding hydroelectric (% of total)\",\n",
    "                    \"Population, total\",\n",
    "                    \"Population growth (annual %)\",\n",
    "                    \"Urban population (% of total population)\",\n",
    "                    \"Urban population growth (annual %)\",\n",
    "                    \"Foreign direct investment, net inflows (% of GDP)\",\n",
    "                    \"Mortality rate, under-5 (per 1,000 live births)\",\n",
    "                    \"Agricultural land (% of land area)\",\n",
    "                    \"Forest area (% of land area)\",\n",
    "                    \"Arable land (% of land area)\",\n",
    "                    \"Agriculture, forestry, and fishing, value added (% of GDP)\",\n",
    "                    \"Methane emissions (kt of CO2 equivalent)\",\n",
    "                    \"Nitrous oxide emissions (thousand metric tons of CO2 equivalent)\",\n",
    "                    \"Other greenhouse gas emissions, HFC, PFC and SF6 (thousand metric tons of CO2 equivalent)\",\n",
    "                    \"CO2 emissions (metric tons per capita)\",\n",
    "                    \"CO2 emissions from liquid fuel consumption (% of total)\",\n",
    "                    \"CO2 emissions from solid fuel consumption (% of total)\",\n",
    "                    \"CO2 emissions from gaseous fuel consumption (% of total)\"]\n",
    "\n",
    "\n",
    "df_main = df_main[df_main['Indicator Name'].isin(selected_metrics)]\n",
    "meta_indicators_df = meta_indicators_df[meta_indicators_df['indicator_name'].isin(selected_metrics)]\n",
    "\n",
    "\n",
    "# Переименовывание столбцоы\n",
    "cols = ['country_name', 'country_code', 'indicator_name', 'indicator_code', 'year', 'value']\n",
    "df_main.columns = cols\n",
    "df_main\n",
    "\n",
    "# Сводная таблицы\n",
    "df_pivot = pd.pivot_table(df_main,\n",
    "                          index=['country_name','country_code', 'year'],\n",
    "                          columns='indicator_code',\n",
    "                          values=['value'])\n",
    "df_pivot = df_pivot.reset_index()\n",
    "cols = list(df_pivot.columns.get_level_values(1))\n",
    "cols[:3] = ['country_name', 'country_code', 'year']\n",
    "df_pivot.columns = cols\n",
    "df_pivot\n",
    "\n",
    "\n",
    "# Добавление incomeGroup\n",
    "income_data = meta_country_df[['Country Code', 'IncomeGroup']]\n",
    "df_pivot = df_pivot.merge(income_data,\n",
    "                          how='left',\n",
    "                          left_on='country_code',\n",
    "                          right_on='Country Code')\n",
    "df_pivot.drop('Country Code', axis=1, inplace=True)\n",
    "\n",
    "\n",
    "# Тольк страны"
   ],
   "metadata": {
    "collapsed": false,
    "pycharm": {
     "name": "#%%\n"
    }
   }
  },
  {
   "cell_type": "code",
   "execution_count": 6,
   "outputs": [
    {
     "data": {
      "text/plain": "{'Africa Eastern and Southern',\n 'Africa Western and Central',\n 'Caribbean small states',\n 'Central Europe and the Baltics',\n 'East Asia & Pacific',\n 'East Asia & Pacific (IDA & IBRD)',\n 'East Asia & Pacific (excluding high income)',\n 'Euro area',\n 'Europe & Central Asia',\n 'Europe & Central Asia (IDA & IBRD)',\n 'Europe & Central Asia (excluding high income)',\n 'European Union',\n 'Latin America & Caribbean',\n 'Latin America & Caribbean (IDA & IBRD)',\n 'Latin America & Caribbean (excluding high income)',\n 'Middle East & North Africa',\n 'Middle East & North Africa (IDA & IBRD)',\n 'Middle East & North Africa (excluding high income)',\n 'North America',\n 'Other small states',\n 'Pacific island small states',\n 'Small states',\n 'South Asia',\n 'South Asia (IDA & IBRD)',\n 'Sub-Saharan Africa',\n 'Sub-Saharan Africa (IDA & IBRD)',\n 'Sub-Saharan Africa (excluding high income)',\n 'World'}"
     },
     "execution_count": 6,
     "metadata": {},
     "output_type": "execute_result"
    }
   ],
   "source": [
    "region_nan_mask = meta_country_df['Region'].isna()\n",
    "\n",
    "aggregate_cols = meta_country_df.loc[region_nan_mask, 'TableName']\n",
    "aggregate_cols\n",
    "\n",
    "union_aggregate = {'Arab World',\n",
    "                   'European Union'\n",
    "                   'IBRD only',\n",
    "                   'IDA & IBRD total',\n",
    "                   'IBRD only',\n",
    "                   'IDA total',\n",
    "                   'IDA blend',\n",
    "                   'IDA only',\n",
    "                   'OECD members'}\n",
    "\n",
    "\n",
    "poor_aggregate = {\n",
    "    'Fragile and conflict affected situations',\n",
    "    'Heavily indebted poor countries (HIPC)',\n",
    "    'Least developed countries: UN classification'}\n",
    "\n",
    "income_aggregate = {'Low income',\n",
    "                    'Lower middle income',\n",
    "                    'Low & middle income',\n",
    "                    'Upper middle income',\n",
    "                    'Middle income',\n",
    "                    'High income'}\n",
    "\n",
    "dividend_aggregate = {'Early-demographic dividend',\n",
    "                      'Late-demographic dividend',\n",
    "                      'Pre-demographic dividend',\n",
    "                      'Post-demographic dividend'}\n",
    "\n",
    "all_without_region = union_aggregate.union(poor_aggregate).union(income_aggregate).union(dividend_aggregate)\n",
    "\n",
    "\n",
    "region_aggregate = set(aggregate_cols.to_list()).difference(all_without_region)\n",
    "region_aggregate"
   ],
   "metadata": {
    "collapsed": false,
    "pycharm": {
     "name": "#%%\n"
    }
   }
  },
  {
   "cell_type": "code",
   "execution_count": 7,
   "outputs": [
    {
     "data": {
      "text/plain": "1                            Africa Eastern and Southern\n3                             Africa Western and Central\n7                                             Arab World\n36                        Central Europe and the Baltics\n49                                Caribbean small states\n61           East Asia & Pacific (excluding high income)\n62                            Early-demographic dividend\n63                                   East Asia & Pacific\n64         Europe & Central Asia (excluding high income)\n65                                 Europe & Central Asia\n68                                             Euro area\n73                                        European Union\n74              Fragile and conflict affected situations\n95                                           High income\n98                Heavily indebted poor countries (HIPC)\n102                                            IBRD only\n103                                     IDA & IBRD total\n104                                            IDA total\n105                                            IDA blend\n107                                             IDA only\n127    Latin America & Caribbean (excluding high income)\n133                            Latin America & Caribbean\n134         Least developed countries: UN classification\n135                                           Low income\n138                                  Lower middle income\n139                                  Low & middle income\n141                            Late-demographic dividend\n152                           Middle East & North Africa\n155                                        Middle income\n160    Middle East & North Africa (excluding high inc...\n169                                        North America\n180                                         OECD members\n182                                   Other small states\n190                             Pre-demographic dividend\n196                          Pacific island small states\n197                            Post-demographic dividend\n203                                           South Asia\n214           Sub-Saharan Africa (excluding high income)\n216                                   Sub-Saharan Africa\n217                                         Small states\n229                     East Asia & Pacific (IDA & IBRD)\n230                   Europe & Central Asia (IDA & IBRD)\n235               Latin America & Caribbean (IDA & IBRD)\n237              Middle East & North Africa (IDA & IBRD)\n239                              South Asia (IDA & IBRD)\n240                      Sub-Saharan Africa (IDA & IBRD)\n248                                  Upper middle income\n258                                                World\nName: TableName, dtype: object"
     },
     "execution_count": 7,
     "metadata": {},
     "output_type": "execute_result"
    }
   ],
   "source": [
    "aggregate_cols"
   ],
   "metadata": {
    "collapsed": false,
    "pycharm": {
     "name": "#%%\n"
    }
   }
  },
  {
   "cell_type": "code",
   "execution_count": 8,
   "outputs": [],
   "source": [
    "# убираем aggreagetive cols\n",
    "df_pivot = df_pivot[~df_pivot['country_name'].isin(aggregate_cols)]"
   ],
   "metadata": {
    "collapsed": false,
    "pycharm": {
     "name": "#%%\n"
    }
   }
  },
  {
   "cell_type": "markdown",
   "source": [
    "## GPD add"
   ],
   "metadata": {
    "collapsed": false,
    "pycharm": {
     "name": "#%% md\n"
    }
   }
  },
  {
   "cell_type": "code",
   "execution_count": 9,
   "outputs": [
    {
     "data": {
      "text/plain": "                      country_name country_code  year               gdp\n532                          Aruba          ABW  1960               NaN\n533    Africa Eastern and Southern          AFE  1960  21291524631.3606\n534                    Afghanistan          AFG  1960  537777811.111111\n535     Africa Western and Central          AFW  1960    10404135069.15\n536                         Angola          AGO  1960               NaN\n...                            ...          ...   ...               ...\n17285                       Kosovo          XKX  2022               NaN\n17286                  Yemen, Rep.          YEM  2022               NaN\n17287                 South Africa          ZAF  2022               NaN\n17288                       Zambia          ZMB  2022               NaN\n17289                     Zimbabwe          ZWE  2022               NaN\n\n[16758 rows x 4 columns]",
      "text/html": "<div>\n<style scoped>\n    .dataframe tbody tr th:only-of-type {\n        vertical-align: middle;\n    }\n\n    .dataframe tbody tr th {\n        vertical-align: top;\n    }\n\n    .dataframe thead th {\n        text-align: right;\n    }\n</style>\n<table border=\"1\" class=\"dataframe\">\n  <thead>\n    <tr style=\"text-align: right;\">\n      <th></th>\n      <th>country_name</th>\n      <th>country_code</th>\n      <th>year</th>\n      <th>gdp</th>\n    </tr>\n  </thead>\n  <tbody>\n    <tr>\n      <th>532</th>\n      <td>Aruba</td>\n      <td>ABW</td>\n      <td>1960</td>\n      <td>NaN</td>\n    </tr>\n    <tr>\n      <th>533</th>\n      <td>Africa Eastern and Southern</td>\n      <td>AFE</td>\n      <td>1960</td>\n      <td>21291524631.3606</td>\n    </tr>\n    <tr>\n      <th>534</th>\n      <td>Afghanistan</td>\n      <td>AFG</td>\n      <td>1960</td>\n      <td>537777811.111111</td>\n    </tr>\n    <tr>\n      <th>535</th>\n      <td>Africa Western and Central</td>\n      <td>AFW</td>\n      <td>1960</td>\n      <td>10404135069.15</td>\n    </tr>\n    <tr>\n      <th>536</th>\n      <td>Angola</td>\n      <td>AGO</td>\n      <td>1960</td>\n      <td>NaN</td>\n    </tr>\n    <tr>\n      <th>...</th>\n      <td>...</td>\n      <td>...</td>\n      <td>...</td>\n      <td>...</td>\n    </tr>\n    <tr>\n      <th>17285</th>\n      <td>Kosovo</td>\n      <td>XKX</td>\n      <td>2022</td>\n      <td>NaN</td>\n    </tr>\n    <tr>\n      <th>17286</th>\n      <td>Yemen, Rep.</td>\n      <td>YEM</td>\n      <td>2022</td>\n      <td>NaN</td>\n    </tr>\n    <tr>\n      <th>17287</th>\n      <td>South Africa</td>\n      <td>ZAF</td>\n      <td>2022</td>\n      <td>NaN</td>\n    </tr>\n    <tr>\n      <th>17288</th>\n      <td>Zambia</td>\n      <td>ZMB</td>\n      <td>2022</td>\n      <td>NaN</td>\n    </tr>\n    <tr>\n      <th>17289</th>\n      <td>Zimbabwe</td>\n      <td>ZWE</td>\n      <td>2022</td>\n      <td>NaN</td>\n    </tr>\n  </tbody>\n</table>\n<p>16758 rows × 4 columns</p>\n</div>"
     },
     "execution_count": 9,
     "metadata": {},
     "output_type": "execute_result"
    }
   ],
   "source": [
    "gdp_df = pd.read_csv('climate_change_data/GDP_data.csv', sep=',', skiprows=4)\n",
    "\n",
    "id_columns = ['Country Name',\n",
    "              'Country Code']\n",
    "gdp_df = pd.melt(gdp_df, id_vars=id_columns,\n",
    "                 var_name='Year',\n",
    "                 value_name='Value')\n",
    "\n",
    "numeric_year_mask = gdp_df['Year'].str.isnumeric()\n",
    "gdp_df = gdp_df[numeric_year_mask]\n",
    "gdp_df['Year'] = pd.to_numeric(gdp_df['Year'])\n",
    "\n",
    "cols = ['country_name', 'country_code', 'year', 'gdp']\n",
    "gdp_df.columns = cols\n",
    "gdp_df"
   ],
   "metadata": {
    "collapsed": false,
    "pycharm": {
     "name": "#%%\n"
    }
   }
  },
  {
   "cell_type": "markdown",
   "source": [
    "### merge gdp wit main"
   ],
   "metadata": {
    "collapsed": false,
    "pycharm": {
     "name": "#%% md\n"
    }
   }
  },
  {
   "cell_type": "code",
   "execution_count": 10,
   "outputs": [],
   "source": [
    "df_merged = df_pivot.merge(gdp_df[['year', 'country_code', 'gdp']], on=['year', 'country_code'], how='left')"
   ],
   "metadata": {
    "collapsed": false,
    "pycharm": {
     "name": "#%%\n"
    }
   }
  },
  {
   "cell_type": "code",
   "execution_count": 11,
   "outputs": [
    {
     "data": {
      "text/plain": "Index(['country_name', 'country_code', 'year', 'AG.LND.AGRI.ZS',\n       'AG.LND.ARBL.ZS', 'AG.LND.FRST.ZS', 'BX.KLT.DINV.WD.GD.ZS',\n       'EG.ELC.COAL.ZS', 'EG.ELC.HYRO.ZS', 'EG.ELC.NGAS.ZS', 'EG.ELC.NUCL.ZS',\n       'EG.ELC.PETR.ZS', 'EG.ELC.RNEW.ZS', 'EG.ELC.RNWX.KH', 'EG.ELC.RNWX.ZS',\n       'EG.USE.ELEC.KH.PC', 'EG.USE.PCAP.KG.OE', 'EN.ATM.CO2E.GF.ZS',\n       'EN.ATM.CO2E.LF.ZS', 'EN.ATM.CO2E.PC', 'EN.ATM.CO2E.SF.ZS',\n       'EN.ATM.GHGO.KT.CE', 'EN.ATM.METH.KT.CE', 'EN.ATM.NOXE.KT.CE',\n       'NV.AGR.TOTL.ZS', 'SH.DYN.MORT', 'SP.POP.GROW', 'SP.POP.TOTL',\n       'SP.URB.GROW', 'SP.URB.TOTL.IN.ZS', 'IncomeGroup', 'gdp'],\n      dtype='object')"
     },
     "execution_count": 11,
     "metadata": {},
     "output_type": "execute_result"
    }
   ],
   "source": [
    "df_merged.columns"
   ],
   "metadata": {
    "collapsed": false,
    "pycharm": {
     "name": "#%%\n"
    }
   }
  },
  {
   "cell_type": "code",
   "execution_count": 15,
   "outputs": [],
   "source": [
    "df_merged.to_csv('dashboard_data.csv', sep=';', decimal=',')"
   ],
   "metadata": {
    "collapsed": false,
    "pycharm": {
     "name": "#%%\n"
    }
   }
  },
  {
   "cell_type": "code",
   "execution_count": 12,
   "outputs": [],
   "source": [],
   "metadata": {
    "collapsed": false,
    "pycharm": {
     "name": "#%%\n"
    }
   }
  }
 ],
 "metadata": {
  "kernelspec": {
   "display_name": "Python 3",
   "language": "python",
   "name": "python3"
  },
  "language_info": {
   "codemirror_mode": {
    "name": "ipython",
    "version": 2
   },
   "file_extension": ".py",
   "mimetype": "text/x-python",
   "name": "python",
   "nbconvert_exporter": "python",
   "pygments_lexer": "ipython2",
   "version": "2.7.6"
  }
 },
 "nbformat": 4,
 "nbformat_minor": 0
}