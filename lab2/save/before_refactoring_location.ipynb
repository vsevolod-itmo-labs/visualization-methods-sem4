{
 "nbformat": 4,
 "nbformat_minor": 0,
 "metadata": {
  "colab": {
   "provenance": []
  },
  "kernelspec": {
   "name": "python3",
   "display_name": "Python 3"
  },
  "language_info": {
   "name": "python"
  }
 },
 "cells": [
  {
   "cell_type": "markdown",
   "source": [
    "В этой работе вам предстоит исследовать неточности в данных и устранить их. В конце – проанализировать результаты.\n",
    "\n",
    "Все необходимые этапы предобработки данных описаны в задании, ваша задача – реализовать их."
   ],
   "metadata": {
    "id": "kIHX2GOQPy3k",
    "pycharm": {
     "name": "#%% md\n"
    }
   }
  },
  {
   "cell_type": "markdown",
   "source": [
    "# Данные\n",
    "\n",
    "[Monster.com jobs](https://www.kaggle.com/code/ankkur13/perfect-dataset-to-get-the-hands-dirty/data) - датасет о вакансиях, данные в котором намеренно не предобработаны. Есть несколько сомнительных столбцов с 1 уникальным значением, тип работы не стандартизирован, расположение может содержать штат, город и почтовый индекс или только часть из этих данных, или совершенно неясные данные вроде \"Contact name Tony Zerio\" или \"Sr. Process Engineer, Manufacturing\", в графе с зарплатой помимо зарплаты есть вещи вроде \"Excellent Pay and Incentives\" и другие проблемы.\n",
    "\n",
    "Практически все столбцы в датасете нельзя использовать для анализа без предобработки.\n",
    "\n",
    "К датасету на kaggle приложен блокнот с примером его очистки. Рекомендуется ознакомиться с ним после выполнения задания, чтобы оценить сходства и различия в подходах.\n",
    "\n",
    "Целью обработки датасета будем считать использование для многостороннего изучения данных в дальнейшем, то есть мы обработаем данные таким образом чтобы их удобно было использовать для широкого спекра задач анализа данных."
   ],
   "metadata": {
    "id": "zO5hOF9ptPbI",
    "pycharm": {
     "name": "#%% md\n"
    }
   }
  },
  {
   "cell_type": "markdown",
   "source": [
    "### Изучение датасета"
   ],
   "metadata": {
    "id": "SA63ZXNBkUde",
    "pycharm": {
     "name": "#%% md\n"
    }
   }
  },
  {
   "cell_type": "code",
   "execution_count": 262,
   "metadata": {
    "id": "eZIcPcPutJ7k",
    "pycharm": {
     "name": "#%%\n"
    }
   },
   "outputs": [],
   "source": [
    "# эти модули, вероятнее всего, понадобятся вам в работе\n",
    "# если в процессе захотите использовать что-то еще, можно добавить\n",
    "import re\n",
    "import numpy as np\n",
    "import pandas as pd\n",
    "import missingno as msno\n",
    "from matplotlib import pyplot as plt\n",
    "import seaborn as sns\n",
    "from itertools import chain, combinations"
   ]
  },
  {
   "cell_type": "markdown",
   "source": [
    "Загрузите датасет и выведите случайные несколько строк из него. Постарайтесь понять, что из себя представляют данные в столбцах."
   ],
   "metadata": {
    "id": "h6KmpcvkRLok",
    "pycharm": {
     "name": "#%% md\n"
    }
   }
  },
  {
   "cell_type": "code",
   "source": [
    "monster = pd.read_csv('monster_com-job_sample.csv')\n",
    "monster.head()"
   ],
   "metadata": {
    "id": "Pg3YapMnEEDH",
    "pycharm": {
     "name": "#%%\n"
    }
   },
   "execution_count": 263,
   "outputs": [
    {
     "data": {
      "text/plain": "                    country country_code date_added has_expired  \\\n0  United States of America           US        NaN          No   \n1  United States of America           US        NaN          No   \n2  United States of America           US        NaN          No   \n3  United States of America           US        NaN          No   \n4  United States of America           US        NaN          No   \n\n          job_board                                    job_description  \\\n0  jobs.monster.com  TeamSoft is seeing an IT Support Specialist to...   \n1  jobs.monster.com  The Wisconsin State Journal is seeking a flexi...   \n2  jobs.monster.com  Report this job About the Job DePuy Synthes Co...   \n3  jobs.monster.com  Why Join Altec? If you’re considering a career...   \n4  jobs.monster.com  Position ID#  76162 # Positions  1 State  CT C...   \n\n                                           job_title             job_type  \\\n0               IT Support Technician Job in Madison   Full Time Employee   \n1            Business Reporter/Editor Job in Madison            Full Time   \n2  Johnson & Johnson Family of Companies Job Appl...  Full Time, Employee   \n3                    Engineer - Quality Job in Dixon            Full Time   \n4       Shift Supervisor - Part-Time Job in Camphill   Full Time Employee   \n\n                                            location  \\\n0                                  Madison, WI 53702   \n1                                  Madison, WI 53708   \n2  DePuy Synthes Companies is a member of Johnson...   \n3                                          Dixon, CA   \n4                                       Camphill, PA   \n\n                      organization  \\\n0                              NaN   \n1          Printing and Publishing   \n2  Personal and Household Services   \n3                 Altec Industries   \n4                           Retail   \n\n                                            page_url salary  \\\n0  http://jobview.monster.com/it-support-technici...    NaN   \n1  http://jobview.monster.com/business-reporter-e...    NaN   \n2  http://jobview.monster.com/senior-training-lea...    NaN   \n3  http://jobview.monster.com/engineer-quality-jo...    NaN   \n4  http://jobview.monster.com/shift-supervisor-pa...    NaN   \n\n                       sector                           uniq_id  \n0     IT/Software Development  11d599f229a80023d2f40e7c52cd941e  \n1                         NaN  e4cbb126dabf22159aff90223243ff2a  \n2                         NaN  839106b353877fa3d896ffb9c1fe01c0  \n3   Experienced (Non-Manager)  58435fcab804439efdcaa7ecca0fd783  \n4  Project/Program Management  64d0272dc8496abfd9523a8df63c184c  ",
      "text/html": "<div>\n<style scoped>\n    .dataframe tbody tr th:only-of-type {\n        vertical-align: middle;\n    }\n\n    .dataframe tbody tr th {\n        vertical-align: top;\n    }\n\n    .dataframe thead th {\n        text-align: right;\n    }\n</style>\n<table border=\"1\" class=\"dataframe\">\n  <thead>\n    <tr style=\"text-align: right;\">\n      <th></th>\n      <th>country</th>\n      <th>country_code</th>\n      <th>date_added</th>\n      <th>has_expired</th>\n      <th>job_board</th>\n      <th>job_description</th>\n      <th>job_title</th>\n      <th>job_type</th>\n      <th>location</th>\n      <th>organization</th>\n      <th>page_url</th>\n      <th>salary</th>\n      <th>sector</th>\n      <th>uniq_id</th>\n    </tr>\n  </thead>\n  <tbody>\n    <tr>\n      <th>0</th>\n      <td>United States of America</td>\n      <td>US</td>\n      <td>NaN</td>\n      <td>No</td>\n      <td>jobs.monster.com</td>\n      <td>TeamSoft is seeing an IT Support Specialist to...</td>\n      <td>IT Support Technician Job in Madison</td>\n      <td>Full Time Employee</td>\n      <td>Madison, WI 53702</td>\n      <td>NaN</td>\n      <td>http://jobview.monster.com/it-support-technici...</td>\n      <td>NaN</td>\n      <td>IT/Software Development</td>\n      <td>11d599f229a80023d2f40e7c52cd941e</td>\n    </tr>\n    <tr>\n      <th>1</th>\n      <td>United States of America</td>\n      <td>US</td>\n      <td>NaN</td>\n      <td>No</td>\n      <td>jobs.monster.com</td>\n      <td>The Wisconsin State Journal is seeking a flexi...</td>\n      <td>Business Reporter/Editor Job in Madison</td>\n      <td>Full Time</td>\n      <td>Madison, WI 53708</td>\n      <td>Printing and Publishing</td>\n      <td>http://jobview.monster.com/business-reporter-e...</td>\n      <td>NaN</td>\n      <td>NaN</td>\n      <td>e4cbb126dabf22159aff90223243ff2a</td>\n    </tr>\n    <tr>\n      <th>2</th>\n      <td>United States of America</td>\n      <td>US</td>\n      <td>NaN</td>\n      <td>No</td>\n      <td>jobs.monster.com</td>\n      <td>Report this job About the Job DePuy Synthes Co...</td>\n      <td>Johnson &amp; Johnson Family of Companies Job Appl...</td>\n      <td>Full Time, Employee</td>\n      <td>DePuy Synthes Companies is a member of Johnson...</td>\n      <td>Personal and Household Services</td>\n      <td>http://jobview.monster.com/senior-training-lea...</td>\n      <td>NaN</td>\n      <td>NaN</td>\n      <td>839106b353877fa3d896ffb9c1fe01c0</td>\n    </tr>\n    <tr>\n      <th>3</th>\n      <td>United States of America</td>\n      <td>US</td>\n      <td>NaN</td>\n      <td>No</td>\n      <td>jobs.monster.com</td>\n      <td>Why Join Altec? If you’re considering a career...</td>\n      <td>Engineer - Quality Job in Dixon</td>\n      <td>Full Time</td>\n      <td>Dixon, CA</td>\n      <td>Altec Industries</td>\n      <td>http://jobview.monster.com/engineer-quality-jo...</td>\n      <td>NaN</td>\n      <td>Experienced (Non-Manager)</td>\n      <td>58435fcab804439efdcaa7ecca0fd783</td>\n    </tr>\n    <tr>\n      <th>4</th>\n      <td>United States of America</td>\n      <td>US</td>\n      <td>NaN</td>\n      <td>No</td>\n      <td>jobs.monster.com</td>\n      <td>Position ID#  76162 # Positions  1 State  CT C...</td>\n      <td>Shift Supervisor - Part-Time Job in Camphill</td>\n      <td>Full Time Employee</td>\n      <td>Camphill, PA</td>\n      <td>Retail</td>\n      <td>http://jobview.monster.com/shift-supervisor-pa...</td>\n      <td>NaN</td>\n      <td>Project/Program Management</td>\n      <td>64d0272dc8496abfd9523a8df63c184c</td>\n    </tr>\n  </tbody>\n</table>\n</div>"
     },
     "execution_count": 263,
     "metadata": {},
     "output_type": "execute_result"
    }
   ]
  },
  {
   "cell_type": "markdown",
   "source": [
    "**Задание**\n",
    "\n",
    "Составьте таблицу, в которой будет содержаться название столбца, тип данных в нем и краткое описание проблем, которые вы заметили при первом взгляде на данные.\n",
    "\n",
    "(Таблицу можно представить в виде текстового поля, датафрейма или картинки – формат неважен, важно содержание)"
   ],
   "metadata": {
    "id": "YLByumEvRyO2",
    "pycharm": {
     "name": "#%% md\n"
    }
   }
  },
  {
   "cell_type": "markdown",
   "source": [
    "|Столбец        |Тип данных|Описание проблемы                                                |\n",
    "|---------------|----------|-----------------------------------------------------------------|\n",
    "|country        |строка    |1 уникальное значение                                            |\n",
    "|country_code   |строка    |1 уникальное значение                                            |\n",
    "|date_added     |строка    |99.45% данных na. Диапазон дат - 1 год                           |\n",
    "|has_expired    |строка    |1 уникальное значени(No)                                         |\n",
    "|job_board      |строка    |1 уникальное значение                                            |\n",
    "|job_description|строка    |Имеется 3256 дублируемых строк. Возможно это дублирующиеся записи|\n",
    "|job_title      |строка    |                                                                 |\n",
    "|job_type       |строка    |Различные форматы записи одинаковой информации                   |\n",
    "|location       |строка    |Различные форматы записи одинаковой информации                   |\n",
    "|organization   |строка    |31% данных na                                                    |\n",
    "|page_url       |строка    |Данные неактуальны для анализа                                   |\n",
    "|salary         |строка    |84% данных na. Различные форматы записи                          |\n",
    "|sector         |строка    |24% данных nan. Могут быть различные виды записи одного сектора  |\n",
    "|uniq_id        |строка    |Данные бесполезны для анализа                                    |"
   ],
   "metadata": {
    "collapsed": false,
    "pycharm": {
     "name": "#%% md\n"
    }
   }
  },
  {
   "cell_type": "markdown",
   "source": [
    "#### Пустые значения"
   ],
   "metadata": {
    "id": "iUV-fNE6Js4w",
    "pycharm": {
     "name": "#%% md\n"
    }
   }
  },
  {
   "cell_type": "markdown",
   "source": [
    "Начнем работу: проанализируем пустые ячейки.\n",
    "Выясните, в каких столбцах и в каком количестве отсутствуют данные.\n",
    "\n",
    "> Помимо создания таблички, воспользуйтесь библиотекой `missingno` и визуально оцените количество пропущенных данных."
   ],
   "metadata": {
    "id": "qMPChGv8SO2a",
    "pycharm": {
     "name": "#%% md\n"
    }
   }
  },
  {
   "cell_type": "code",
   "source": [
    "monster.notna().sum(axis=0)"
   ],
   "metadata": {
    "id": "D0dHrjUYHl9f",
    "pycharm": {
     "name": "#%%\n"
    }
   },
   "execution_count": 264,
   "outputs": [
    {
     "data": {
      "text/plain": "country            22000\ncountry_code       22000\ndate_added           122\nhas_expired        22000\njob_board          22000\njob_description    22000\njob_title          22000\njob_type           20372\nlocation           22000\norganization       15133\npage_url           22000\nsalary              3446\nsector             16806\nuniq_id            22000\ndtype: int64"
     },
     "execution_count": 264,
     "metadata": {},
     "output_type": "execute_result"
    }
   ]
  },
  {
   "cell_type": "code",
   "execution_count": 265,
   "outputs": [
    {
     "data": {
      "text/plain": "<Axes: >"
     },
     "execution_count": 265,
     "metadata": {},
     "output_type": "execute_result"
    },
    {
     "data": {
      "text/plain": "<Figure size 2500x1000 with 3 Axes>",
      "image/png": "[encoded data removed]"
     },
     "metadata": {},
     "output_type": "display_data"
    }
   ],
   "source": [
    "msno.bar(monster)"
   ],
   "metadata": {
    "collapsed": false,
    "pycharm": {
     "name": "#%%\n"
    }
   }
  },
  {
   "cell_type": "code",
   "execution_count": 266,
   "outputs": [
    {
     "data": {
      "text/plain": "<Axes: ylabel='Count'>"
     },
     "execution_count": 266,
     "metadata": {},
     "output_type": "execute_result"
    },
    {
     "data": {
      "text/plain": "<Figure size 640x480 with 1 Axes>",
      "image/png": "[encoded data removed]"
     },
     "metadata": {},
     "output_type": "display_data"
    }
   ],
   "source": [
    "sns.histplot(monster.isna().sum(axis=1))"
   ],
   "metadata": {
    "collapsed": false,
    "pycharm": {
     "name": "#%%\n"
    }
   }
  },
  {
   "cell_type": "markdown",
   "source": [
    "Проверьте, как изменится размер датасета, если мы примем решение удалить все строки, где есть пустые значения. Сделайте выводы."
   ],
   "metadata": {
    "id": "7_wex_yPS2t_",
    "pycharm": {
     "name": "#%% md\n"
    }
   }
  },
  {
   "cell_type": "code",
   "source": [
    "monster.dropna(axis=0)"
   ],
   "metadata": {
    "id": "H2anBRV8NezM",
    "pycharm": {
     "name": "#%%\n"
    }
   },
   "execution_count": 267,
   "outputs": [
    {
     "data": {
      "text/plain": "                        country country_code date_added has_expired  \\\n279    United States of America           US  6/10/2016          No   \n7419   United States of America           US  4/27/2016          No   \n17048  United States of America           US   8/5/2016          No   \n17052  United States of America           US   8/2/2016          No   \n18709  United States of America           US  3/11/2016          No   \n\n              job_board                                    job_description  \\\n279    jobs.monster.com  At American Family Insurance, we're firmly com...   \n7419   jobs.monster.com  A CUSTOMER SERVICE JOB … that might become a c...   \n17048  jobs.monster.com  At American Family Insurance, we're firmly com...   \n17052  jobs.monster.com  At American Family Insurance, we're firmly com...   \n18709  jobs.monster.com  There's No Place Like The Neighborhood!It's a ...   \n\n                                               job_title             job_type  \\\n279    Insurance Sales - Customer Service Job in Eden...   Full Time Employee   \n7419    Customer Service Representative Job in Las Vegas   Full Time Employee   \n17048  Licensed Insurance Sales Assistant (Customer S...   Full Time Employee   \n17052  Customer Service Agent / Insurance Sales Assis...   Full Time Employee   \n18709         Restaurant Manager - Applebee's Parsippany  Full Time, Employee   \n\n                     location               organization  \\\n279    Eden Prairie, MN 55344                  Insurance   \n7419      Las Vegas, NV 89129  Business Services - Other   \n17048           Covington, GA                  Insurance   \n17052    Alpharetta, GA 30009                  Insurance   \n18709    Parsippany, NJ 07054   Restaurant/Food Services   \n\n                                                page_url  \\\n279    http://jobview.monster.com/insurance-sales-cus...   \n7419   http://jobview.local-jobs.monster.com/Customer...   \n17048  http://jobview.monster.com/licensed-insurance-...   \n17052  http://jobview.monster.com/customer-service-ag...   \n18709  http://jobview.monster.com/Restaurant-Manager-...   \n\n                      salary                             sector  \\\n279    15.00 - 21.00 $ /hour       Accounting/Finance/Insurance   \n7419           $10.50+ /hour       Customer Support/Client Care   \n17048          $10.50+ /hour  Sales/Retail/Business Development   \n17052  11.00 - 15.00 $ /hour  Sales/Retail/Business Development   \n18709  50.00 - 65.00 $ /year          Food Services/Hospitality   \n\n                                uniq_id  \n279    64a597e5dd17740aadf4b0e8047b51a5  \n7419   7baad80eae733c2518f0a500609c1e90  \n17048  c486cae7c4c1105a85e50448fb9c0dd0  \n17052  6ddfdf91eb991d9d31f3cd2ee4492eb9  \n18709  4fb8c68e3b6efcec902801a96f2cb004  ",
      "text/html": "<div>\n<style scoped>\n    .dataframe tbody tr th:only-of-type {\n        vertical-align: middle;\n    }\n\n    .dataframe tbody tr th {\n        vertical-align: top;\n    }\n\n    .dataframe thead th {\n        text-align: right;\n    }\n</style>\n<table border=\"1\" class=\"dataframe\">\n  <thead>\n    <tr style=\"text-align: right;\">\n      <th></th>\n      <th>country</th>\n      <th>country_code</th>\n      <th>date_added</th>\n      <th>has_expired</th>\n      <th>job_board</th>\n      <th>job_description</th>\n      <th>job_title</th>\n      <th>job_type</th>\n      <th>location</th>\n      <th>organization</th>\n      <th>page_url</th>\n      <th>salary</th>\n      <th>sector</th>\n      <th>uniq_id</th>\n    </tr>\n  </thead>\n  <tbody>\n    <tr>\n      <th>279</th>\n      <td>United States of America</td>\n      <td>US</td>\n      <td>6/10/2016</td>\n      <td>No</td>\n      <td>jobs.monster.com</td>\n      <td>At American Family Insurance, we're firmly com...</td>\n      <td>Insurance Sales - Customer Service Job in Eden...</td>\n      <td>Full Time Employee</td>\n      <td>Eden Prairie, MN 55344</td>\n      <td>Insurance</td>\n      <td>http://jobview.monster.com/insurance-sales-cus...</td>\n      <td>15.00 - 21.00 $ /hour</td>\n      <td>Accounting/Finance/Insurance</td>\n      <td>64a597e5dd17740aadf4b0e8047b51a5</td>\n    </tr>\n    <tr>\n      <th>7419</th>\n      <td>United States of America</td>\n      <td>US</td>\n      <td>4/27/2016</td>\n      <td>No</td>\n      <td>jobs.monster.com</td>\n      <td>A CUSTOMER SERVICE JOB … that might become a c...</td>\n      <td>Customer Service Representative Job in Las Vegas</td>\n      <td>Full Time Employee</td>\n      <td>Las Vegas, NV 89129</td>\n      <td>Business Services - Other</td>\n      <td>http://jobview.local-jobs.monster.com/Customer...</td>\n      <td>$10.50+ /hour</td>\n      <td>Customer Support/Client Care</td>\n      <td>7baad80eae733c2518f0a500609c1e90</td>\n    </tr>\n    <tr>\n      <th>17048</th>\n      <td>United States of America</td>\n      <td>US</td>\n      <td>8/5/2016</td>\n      <td>No</td>\n      <td>jobs.monster.com</td>\n      <td>At American Family Insurance, we're firmly com...</td>\n      <td>Licensed Insurance Sales Assistant (Customer S...</td>\n      <td>Full Time Employee</td>\n      <td>Covington, GA</td>\n      <td>Insurance</td>\n      <td>http://jobview.monster.com/licensed-insurance-...</td>\n      <td>$10.50+ /hour</td>\n      <td>Sales/Retail/Business Development</td>\n      <td>c486cae7c4c1105a85e50448fb9c0dd0</td>\n    </tr>\n    <tr>\n      <th>17052</th>\n      <td>United States of America</td>\n      <td>US</td>\n      <td>8/2/2016</td>\n      <td>No</td>\n      <td>jobs.monster.com</td>\n      <td>At American Family Insurance, we're firmly com...</td>\n      <td>Customer Service Agent / Insurance Sales Assis...</td>\n      <td>Full Time Employee</td>\n      <td>Alpharetta, GA 30009</td>\n      <td>Insurance</td>\n      <td>http://jobview.monster.com/customer-service-ag...</td>\n      <td>11.00 - 15.00 $ /hour</td>\n      <td>Sales/Retail/Business Development</td>\n      <td>6ddfdf91eb991d9d31f3cd2ee4492eb9</td>\n    </tr>\n    <tr>\n      <th>18709</th>\n      <td>United States of America</td>\n      <td>US</td>\n      <td>3/11/2016</td>\n      <td>No</td>\n      <td>jobs.monster.com</td>\n      <td>There's No Place Like The Neighborhood!It's a ...</td>\n      <td>Restaurant Manager - Applebee's Parsippany</td>\n      <td>Full Time, Employee</td>\n      <td>Parsippany, NJ 07054</td>\n      <td>Restaurant/Food Services</td>\n      <td>http://jobview.monster.com/Restaurant-Manager-...</td>\n      <td>50.00 - 65.00 $ /year</td>\n      <td>Food Services/Hospitality</td>\n      <td>4fb8c68e3b6efcec902801a96f2cb004</td>\n    </tr>\n  </tbody>\n</table>\n</div>"
     },
     "execution_count": 267,
     "metadata": {},
     "output_type": "execute_result"
    }
   ]
  },
  {
   "cell_type": "markdown",
   "source": [
    "Вывод: остается только 5 строк. Удаление недопустимо"
   ],
   "metadata": {
    "collapsed": false,
    "pycharm": {
     "name": "#%% md\n"
    }
   }
  },
  {
   "cell_type": "markdown",
   "source": [
    "Принимаем решение сохранить как можно больше данных, удалять все – плохой план. Если удалить все, можем потерять важную информацию."
   ],
   "metadata": {
    "id": "F90_2yTzTJB0",
    "pycharm": {
     "name": "#%% md\n"
    }
   }
  },
  {
   "cell_type": "markdown",
   "source": [
    "#### Нерелевантные колонки"
   ],
   "metadata": {
    "id": "msyy7idiKbax",
    "pycharm": {
     "name": "#%% md\n"
    }
   }
  },
  {
   "cell_type": "markdown",
   "source": [
    "Оценим, какие столбцы необходимо оставить, а какие можно удалить.\n",
    "Рассмотрите следующие идеи:\n",
    "1. Есть ли столбцы, в которых встречается всего одно значение? Как их можно использовать в анализе?\n",
    "2. Есть ли столбцы, в которых содержатся данные, которые есть еще в каком-то столбце?\n",
    "3. Какие столбцы содержательно нерелевантны? Обоснуйте."
   ],
   "metadata": {
    "id": "1Vx9OuX_TcVy",
    "pycharm": {
     "name": "#%% md\n"
    }
   }
  },
  {
   "cell_type": "markdown",
   "source": [
    "##### 1. Одно значение"
   ],
   "metadata": {
    "collapsed": false,
    "pycharm": {
     "name": "#%% md\n"
    }
   }
  },
  {
   "cell_type": "markdown",
   "source": [
    "Найдем столбцы с одним значением и их значение"
   ],
   "metadata": {
    "collapsed": false,
    "pycharm": {
     "name": "#%% md\n"
    }
   }
  },
  {
   "cell_type": "code",
   "source": [
    "one_value = monster.nunique() == 1\n",
    "monster.loc[0, one_value]"
   ],
   "metadata": {
    "id": "AxBO7ljdKgO5",
    "pycharm": {
     "name": "#%%\n"
    }
   },
   "execution_count": 268,
   "outputs": [
    {
     "data": {
      "text/plain": "country         United States of America\ncountry_code                          US\nhas_expired                           No\njob_board               jobs.monster.com\nName: 0, dtype: object"
     },
     "execution_count": 268,
     "metadata": {},
     "output_type": "execute_result"
    }
   ]
  },
  {
   "cell_type": "markdown",
   "source": [
    "Можно использовать в качестве метаданных"
   ],
   "metadata": {
    "collapsed": false,
    "pycharm": {
     "name": "#%% md\n"
    }
   }
  },
  {
   "cell_type": "markdown",
   "source": [
    "##### 2. Данные, которые есть еще в каком-то столбце"
   ],
   "metadata": {
    "collapsed": false,
    "pycharm": {
     "name": "#%% md\n"
    }
   }
  },
  {
   "cell_type": "code",
   "execution_count": 269,
   "outputs": [
    {
     "data": {
      "text/plain": "                                               job_title  \\\n0                   IT Support Technician Job in Madison   \n1                Business Reporter/Editor Job in Madison   \n2      Johnson & Johnson Family of Companies Job Appl...   \n3                        Engineer - Quality Job in Dixon   \n4           Shift Supervisor - Part-Time Job in Camphill   \n...                                                  ...   \n21995  Assistant Vice President - Controller Job in C...   \n21996                       Accountant Job in Cincinnati   \n21997                    AEM/CQ developer Job in Chicago   \n21998  Electrician - Experienced Forging Electrician ...   \n21999           Contract Administrator Job in Cincinnati   \n\n                                                location  \\\n0                                      Madison, WI 53702   \n1                                      Madison, WI 53708   \n2      DePuy Synthes Companies is a member of Johnson...   \n3                                              Dixon, CA   \n4                                           Camphill, PA   \n...                                                  ...   \n21995                                     Cincinnati, OH   \n21996                               Cincinnati, OH 45236   \n21997                                  Chicago, IL 60602   \n21998                                  Chicago, IL 60609   \n21999                                     Cincinnati, OH   \n\n                                         job_description  \n0      TeamSoft is seeing an IT Support Specialist to...  \n1      The Wisconsin State Journal is seeking a flexi...  \n2      Report this job About the Job DePuy Synthes Co...  \n3      Why Join Altec? If you’re considering a career...  \n4      Position ID#  76162 # Positions  1 State  CT C...  \n...                                                  ...  \n21995  This is a major premier Cincinnati based finan...  \n21996  Luxury homebuilder in Cincinnati seeking multi...  \n21997  RE: Adobe AEM-          Client -          Loca...  \n21998  Jernberg Industries was established in 1937 an...  \n21999  Contract AdministratorCan you be the point per...  \n\n[22000 rows x 3 columns]",
      "text/html": "<div>\n<style scoped>\n    .dataframe tbody tr th:only-of-type {\n        vertical-align: middle;\n    }\n\n    .dataframe tbody tr th {\n        vertical-align: top;\n    }\n\n    .dataframe thead th {\n        text-align: right;\n    }\n</style>\n<table border=\"1\" class=\"dataframe\">\n  <thead>\n    <tr style=\"text-align: right;\">\n      <th></th>\n      <th>job_title</th>\n      <th>location</th>\n      <th>job_description</th>\n    </tr>\n  </thead>\n  <tbody>\n    <tr>\n      <th>0</th>\n      <td>IT Support Technician Job in Madison</td>\n      <td>Madison, WI 53702</td>\n      <td>TeamSoft is seeing an IT Support Specialist to...</td>\n    </tr>\n    <tr>\n      <th>1</th>\n      <td>Business Reporter/Editor Job in Madison</td>\n      <td>Madison, WI 53708</td>\n      <td>The Wisconsin State Journal is seeking a flexi...</td>\n    </tr>\n    <tr>\n      <th>2</th>\n      <td>Johnson &amp; Johnson Family of Companies Job Appl...</td>\n      <td>DePuy Synthes Companies is a member of Johnson...</td>\n      <td>Report this job About the Job DePuy Synthes Co...</td>\n    </tr>\n    <tr>\n      <th>3</th>\n      <td>Engineer - Quality Job in Dixon</td>\n      <td>Dixon, CA</td>\n      <td>Why Join Altec? If you’re considering a career...</td>\n    </tr>\n    <tr>\n      <th>4</th>\n      <td>Shift Supervisor - Part-Time Job in Camphill</td>\n      <td>Camphill, PA</td>\n      <td>Position ID#  76162 # Positions  1 State  CT C...</td>\n    </tr>\n    <tr>\n      <th>...</th>\n      <td>...</td>\n      <td>...</td>\n      <td>...</td>\n    </tr>\n    <tr>\n      <th>21995</th>\n      <td>Assistant Vice President - Controller Job in C...</td>\n      <td>Cincinnati, OH</td>\n      <td>This is a major premier Cincinnati based finan...</td>\n    </tr>\n    <tr>\n      <th>21996</th>\n      <td>Accountant Job in Cincinnati</td>\n      <td>Cincinnati, OH 45236</td>\n      <td>Luxury homebuilder in Cincinnati seeking multi...</td>\n    </tr>\n    <tr>\n      <th>21997</th>\n      <td>AEM/CQ developer Job in Chicago</td>\n      <td>Chicago, IL 60602</td>\n      <td>RE: Adobe AEM-          Client -          Loca...</td>\n    </tr>\n    <tr>\n      <th>21998</th>\n      <td>Electrician - Experienced Forging Electrician ...</td>\n      <td>Chicago, IL 60609</td>\n      <td>Jernberg Industries was established in 1937 an...</td>\n    </tr>\n    <tr>\n      <th>21999</th>\n      <td>Contract Administrator Job in Cincinnati</td>\n      <td>Cincinnati, OH</td>\n      <td>Contract AdministratorCan you be the point per...</td>\n    </tr>\n  </tbody>\n</table>\n<p>22000 rows × 3 columns</p>\n</div>"
     },
     "execution_count": 269,
     "metadata": {},
     "output_type": "execute_result"
    }
   ],
   "source": [
    "monster[['job_title', 'location', 'job_description']]"
   ],
   "metadata": {
    "collapsed": false,
    "pycharm": {
     "name": "#%%\n"
    }
   }
  },
  {
   "cell_type": "markdown",
   "source": [
    "`job_title` и `location`. В `job_title` можно найти город"
   ],
   "metadata": {
    "collapsed": false,
    "pycharm": {
     "name": "#%% md\n"
    }
   }
  },
  {
   "cell_type": "markdown",
   "source": [
    "По  `job_description` можно определить `job_title`. В `job_descrtiption` содержится информация о `job_title`"
   ],
   "metadata": {
    "collapsed": false,
    "pycharm": {
     "name": "#%% md\n"
    }
   }
  },
  {
   "cell_type": "markdown",
   "source": [
    "Иногда по `job_description` можно определить `organization`"
   ],
   "metadata": {
    "collapsed": false,
    "pycharm": {
     "name": "#%% md\n"
    }
   }
  },
  {
   "cell_type": "markdown",
   "source": [
    "По `job_title` можно определить `sector`"
   ],
   "metadata": {
    "collapsed": false,
    "pycharm": {
     "name": "#%% md\n"
    }
   }
  },
  {
   "cell_type": "markdown",
   "source": [
    "##### 3. Нерелевантные данные"
   ],
   "metadata": {
    "collapsed": false,
    "pycharm": {
     "name": "#%% md\n"
    }
   }
  },
  {
   "cell_type": "code",
   "execution_count": 270,
   "outputs": [
    {
     "data": {
      "text/plain": "0        http://jobview.monster.com/it-support-technici...\n1        http://jobview.monster.com/business-reporter-e...\n2        http://jobview.monster.com/senior-training-lea...\n3        http://jobview.monster.com/engineer-quality-jo...\n4        http://jobview.monster.com/shift-supervisor-pa...\n                               ...                        \n21995    http://jobview.monster.com/Assistant-Vice-Pres...\n21996    http://jobview.monster.com/Accountant-Job-Cinc...\n21997    http://jobview.monster.com/AEM-CQ5-developer-J...\n21998    http://jobview.monster.com/Electrician-Experie...\n21999    http://jobview.monster.com/Contract-Administra...\nName: page_url, Length: 22000, dtype: object"
     },
     "execution_count": 270,
     "metadata": {},
     "output_type": "execute_result"
    }
   ],
   "source": [
    "monster['page_url']"
   ],
   "metadata": {
    "collapsed": false,
    "pycharm": {
     "name": "#%%\n"
    }
   }
  },
  {
   "cell_type": "markdown",
   "source": [
    "Нерелевантные столбцы:\n",
    "`page_url` - Так как:\n",
    "* Данные берутся с одного сайта как мы можем узнать из job_board\n",
    "* Ссылка содержит только название вакансии, которая уже есть в `job_title`\n",
    "\n",
    "`uniq_id` - Идентификатор на сайте бесполезен для анализа"
   ],
   "metadata": {
    "collapsed": false,
    "pycharm": {
     "name": "#%% md\n"
    }
   }
  },
  {
   "cell_type": "markdown",
   "source": [
    "#### Дублирование данных"
   ],
   "metadata": {
    "id": "AnlzCkfNL9Zp",
    "pycharm": {
     "name": "#%% md\n"
    }
   }
  },
  {
   "cell_type": "markdown",
   "source": [
    "Определите столбцы, по которым можно однозначно идентифицировать запись в датасете. Одинаковыми будем считать строки, в которых значения в этих столбцах совпадает.\n",
    "\n",
    "Удалите одно из двух повторений и сравните, как изменились характеристики датасета."
   ],
   "metadata": {
    "id": "o5ee6oWjUPrt",
    "pycharm": {
     "name": "#%% md\n"
    }
   }
  },
  {
   "cell_type": "markdown",
   "source": [
    "Запись в датасете можно однозначно идентифицировать по:\n",
    "* job_title\n",
    "* location\n",
    "* salary"
   ],
   "metadata": {
    "collapsed": false,
    "pycharm": {
     "name": "#%% md\n"
    }
   }
  },
  {
   "cell_type": "markdown",
   "source": [
    "Проблема: salary - na в 80% случаев. Часто будет возникать ситуация, что мы не знаем salary, а location и job_title совпадают.\n",
    "\n",
    "Решение: посмотрим на данных, в которых salary не na насколько часто при одинаковом location и job_title строка дублируется\n"
   ],
   "metadata": {
    "collapsed": false,
    "pycharm": {
     "name": "#%% md\n"
    }
   }
  },
  {
   "cell_type": "markdown",
   "source": [
    "Посмотрим сколько дубликатов в not na:\n",
    "* С учетом salary\n",
    "* Без учета salary\n",
    "\n",
    "Это позволит нам понять насколько часто дублируется job_title и location с различной salary"
   ],
   "metadata": {
    "collapsed": false,
    "pycharm": {
     "name": "#%% md\n"
    }
   }
  },
  {
   "cell_type": "code",
   "execution_count": 271,
   "outputs": [
    {
     "data": {
      "text/plain": "3446"
     },
     "execution_count": 271,
     "metadata": {},
     "output_type": "execute_result"
    }
   ],
   "source": [
    "sum(monster['salary'].notna())"
   ],
   "metadata": {
    "collapsed": false,
    "pycharm": {
     "name": "#%%\n"
    }
   }
  },
  {
   "cell_type": "code",
   "execution_count": 272,
   "outputs": [
    {
     "data": {
      "text/plain": "                        country country_code date_added has_expired  \\\n13     United States of America           US        NaN          No   \n14     United States of America           US        NaN          No   \n19     United States of America           US        NaN          No   \n23     United States of America           US        NaN          No   \n29     United States of America           US        NaN          No   \n...                         ...          ...        ...         ...   \n21987  United States of America           US        NaN          No   \n21995  United States of America           US        NaN          No   \n21996  United States of America           US        NaN          No   \n21998  United States of America           US        NaN          No   \n21999  United States of America           US        NaN          No   \n\n              job_board                                    job_description  \\\n13     jobs.monster.com  Launch your teaching career with the Leader in...   \n14     jobs.monster.com  Construction Professional For more than 15 yea...   \n19     jobs.monster.com  Competitive compensation package, excellent co...   \n23     jobs.monster.com   Well respected, rapidly growing, and expandin...   \n29     jobs.monster.com  Experis is working with a Pharmaceutical start...   \n...                 ...                                                ...   \n21987  jobs.monster.com  Own Your TerritoryAsk yourself these questions...   \n21995  jobs.monster.com  This is a major premier Cincinnati based finan...   \n21996  jobs.monster.com  Luxury homebuilder in Cincinnati seeking multi...   \n21998  jobs.monster.com  Jernberg Industries was established in 1937 an...   \n21999  jobs.monster.com  Contract AdministratorCan you be the point per...   \n\n                                               job_title            job_type  \\\n13     Primrose Private Preschool Teacher Job in Houston           Full Time   \n14                         Superintendent Job in Houston  Full Time Employee   \n19     Technician - Robot & Multi-Axis CNC Field Serv...           Full Time   \n23                Estimator - Construction Job in Denver           Full Time   \n29                                  Sr. Process Engineer  Full Time Employee   \n...                                                  ...                 ...   \n21987                        Experienced Territory Sales           Full Time   \n21995  Assistant Vice President - Controller Job in C...           Full Time   \n21996                       Accountant Job in Cincinnati           Full Time   \n21998  Electrician - Experienced Forging Electrician ...  Full Time Employee   \n21999           Contract Administrator Job in Cincinnati           Full Time   \n\n                                  location  \\\n13                       Houston, TX 77098   \n14                             Houston, TX   \n19                   Carter Lake, IA 51510   \n23                        Denver, CO 80215   \n29     Sr. Process Engineer, Manufacturing   \n...                                    ...   \n21987                    Chicago, IL 60602   \n21995                       Cincinnati, OH   \n21996                 Cincinnati, OH 45236   \n21998                    Chicago, IL 60609   \n21999                       Cincinnati, OH   \n\n                                            organization  \\\n13                                             Education   \n14     Construction - Industrial Facilities and Infra...   \n19                                                   NaN   \n23                                                   NaN   \n29                                           Chicago, IL   \n...                                                  ...   \n21987                                                NaN   \n21995                                                NaN   \n21996     Construction - Residential & Commercial/Office   \n21998                          Jernberg Industries, Inc.   \n21999                                                NaN   \n\n                                                page_url  \\\n13     http://jobview.monster.com/Primrose-Private-Pr...   \n14     http://jobview.monster.com/Superintendent-Job-...   \n19     http://jobview.monster.com/Technician-Robot-Mu...   \n23     http://jobview.monster.com/Estimator-Construct...   \n29     http://jobview.monster.com/Sr-Process-Engineer...   \n...                                                  ...   \n21987  http://jobview.monster.com/Experienced-Territo...   \n21995  http://jobview.monster.com/Assistant-Vice-Pres...   \n21996  http://jobview.monster.com/Accountant-Job-Cinc...   \n21998  http://jobview.monster.com/Electrician-Experie...   \n21999  http://jobview.monster.com/Contract-Administra...   \n\n                                                  salary  \\\n13                                  9.00 - 13.00 $ /hour   \n14                         80,000.00 - 95,000.00 $ /year   \n19                         60,000.00 - 72,000.00 $ /year   \n23                          Excellent Pay and Incentives   \n29                        70,000.00 - 100,000.00 $ /year   \n...                                                  ...   \n21987                                  $80,000.00+ /year   \n21995               120,000.00 - 160,000.00 $ /yearbonus   \n21996                      45,000.00 - 60,000.00 $ /year   \n21998                              25.00 - 28.00 $ /hour   \n21999  40,000.00 - 46,000.00 $ /year+ annual bonus (u...   \n\n                                      sector                           uniq_id  \n13                               Entry Level  b43c077756d5a326c4854e1399fd2464  \n14      Building Construction/Skilled Trades  d8491fcefe14d1398de419984dccf427  \n19                 Experienced (Non-Manager)  3bef462fc38d743c7fbce17cf50ee7d5  \n23                                       NaN  c552f63b5497f720942aaf943d629b1c  \n29                               Engineering  779bb4c9bf038b7fb775134736d36fd4  \n...                                      ...                               ...  \n21987              Experienced (Non-Manager)  a696d26d6db9c5abe572117b9483e847  \n21995                                    NaN  a80bc8cc3a90c17eef418963803bc640  \n21996  Manager (Manager/Supervisor of Staff)  419a3714be2b30a10f628de207d041de  \n21998        Installation/Maintenance/Repair  40161cf61c283af9dc2b0a62947a5f1b  \n21999              Experienced (Non-Manager)  cb49f16ad72627b109e434e0cac97f7a  \n\n[3446 rows x 14 columns]",
      "text/html": "<div>\n<style scoped>\n    .dataframe tbody tr th:only-of-type {\n        vertical-align: middle;\n    }\n\n    .dataframe tbody tr th {\n        vertical-align: top;\n    }\n\n    .dataframe thead th {\n        text-align: right;\n    }\n</style>\n<table border=\"1\" class=\"dataframe\">\n  <thead>\n    <tr style=\"text-align: right;\">\n      <th></th>\n      <th>country</th>\n      <th>country_code</th>\n      <th>date_added</th>\n      <th>has_expired</th>\n      <th>job_board</th>\n      <th>job_description</th>\n      <th>job_title</th>\n      <th>job_type</th>\n      <th>location</th>\n      <th>organization</th>\n      <th>page_url</th>\n      <th>salary</th>\n      <th>sector</th>\n      <th>uniq_id</th>\n    </tr>\n  </thead>\n  <tbody>\n    <tr>\n      <th>13</th>\n      <td>United States of America</td>\n      <td>US</td>\n      <td>NaN</td>\n      <td>No</td>\n      <td>jobs.monster.com</td>\n      <td>Launch your teaching career with the Leader in...</td>\n      <td>Primrose Private Preschool Teacher Job in Houston</td>\n      <td>Full Time</td>\n      <td>Houston, TX 77098</td>\n      <td>Education</td>\n      <td>http://jobview.monster.com/Primrose-Private-Pr...</td>\n      <td>9.00 - 13.00 $ /hour</td>\n      <td>Entry Level</td>\n      <td>b43c077756d5a326c4854e1399fd2464</td>\n    </tr>\n    <tr>\n      <th>14</th>\n      <td>United States of America</td>\n      <td>US</td>\n      <td>NaN</td>\n      <td>No</td>\n      <td>jobs.monster.com</td>\n      <td>Construction Professional For more than 15 yea...</td>\n      <td>Superintendent Job in Houston</td>\n      <td>Full Time Employee</td>\n      <td>Houston, TX</td>\n      <td>Construction - Industrial Facilities and Infra...</td>\n      <td>http://jobview.monster.com/Superintendent-Job-...</td>\n      <td>80,000.00 - 95,000.00 $ /year</td>\n      <td>Building Construction/Skilled Trades</td>\n      <td>d8491fcefe14d1398de419984dccf427</td>\n    </tr>\n    <tr>\n      <th>19</th>\n      <td>United States of America</td>\n      <td>US</td>\n      <td>NaN</td>\n      <td>No</td>\n      <td>jobs.monster.com</td>\n      <td>Competitive compensation package, excellent co...</td>\n      <td>Technician - Robot &amp; Multi-Axis CNC Field Serv...</td>\n      <td>Full Time</td>\n      <td>Carter Lake, IA 51510</td>\n      <td>NaN</td>\n      <td>http://jobview.monster.com/Technician-Robot-Mu...</td>\n      <td>60,000.00 - 72,000.00 $ /year</td>\n      <td>Experienced (Non-Manager)</td>\n      <td>3bef462fc38d743c7fbce17cf50ee7d5</td>\n    </tr>\n    <tr>\n      <th>23</th>\n      <td>United States of America</td>\n      <td>US</td>\n      <td>NaN</td>\n      <td>No</td>\n      <td>jobs.monster.com</td>\n      <td>Well respected, rapidly growing, and expandin...</td>\n      <td>Estimator - Construction Job in Denver</td>\n      <td>Full Time</td>\n      <td>Denver, CO 80215</td>\n      <td>NaN</td>\n      <td>http://jobview.monster.com/Estimator-Construct...</td>\n      <td>Excellent Pay and Incentives</td>\n      <td>NaN</td>\n      <td>c552f63b5497f720942aaf943d629b1c</td>\n    </tr>\n    <tr>\n      <th>29</th>\n      <td>United States of America</td>\n      <td>US</td>\n      <td>NaN</td>\n      <td>No</td>\n      <td>jobs.monster.com</td>\n      <td>Experis is working with a Pharmaceutical start...</td>\n      <td>Sr. Process Engineer</td>\n      <td>Full Time Employee</td>\n      <td>Sr. Process Engineer, Manufacturing</td>\n      <td>Chicago, IL</td>\n      <td>http://jobview.monster.com/Sr-Process-Engineer...</td>\n      <td>70,000.00 - 100,000.00 $ /year</td>\n      <td>Engineering</td>\n      <td>779bb4c9bf038b7fb775134736d36fd4</td>\n    </tr>\n    <tr>\n      <th>...</th>\n      <td>...</td>\n      <td>...</td>\n      <td>...</td>\n      <td>...</td>\n      <td>...</td>\n      <td>...</td>\n      <td>...</td>\n      <td>...</td>\n      <td>...</td>\n      <td>...</td>\n      <td>...</td>\n      <td>...</td>\n      <td>...</td>\n      <td>...</td>\n    </tr>\n    <tr>\n      <th>21987</th>\n      <td>United States of America</td>\n      <td>US</td>\n      <td>NaN</td>\n      <td>No</td>\n      <td>jobs.monster.com</td>\n      <td>Own Your TerritoryAsk yourself these questions...</td>\n      <td>Experienced Territory Sales</td>\n      <td>Full Time</td>\n      <td>Chicago, IL 60602</td>\n      <td>NaN</td>\n      <td>http://jobview.monster.com/Experienced-Territo...</td>\n      <td>$80,000.00+ /year</td>\n      <td>Experienced (Non-Manager)</td>\n      <td>a696d26d6db9c5abe572117b9483e847</td>\n    </tr>\n    <tr>\n      <th>21995</th>\n      <td>United States of America</td>\n      <td>US</td>\n      <td>NaN</td>\n      <td>No</td>\n      <td>jobs.monster.com</td>\n      <td>This is a major premier Cincinnati based finan...</td>\n      <td>Assistant Vice President - Controller Job in C...</td>\n      <td>Full Time</td>\n      <td>Cincinnati, OH</td>\n      <td>NaN</td>\n      <td>http://jobview.monster.com/Assistant-Vice-Pres...</td>\n      <td>120,000.00 - 160,000.00 $ /yearbonus</td>\n      <td>NaN</td>\n      <td>a80bc8cc3a90c17eef418963803bc640</td>\n    </tr>\n    <tr>\n      <th>21996</th>\n      <td>United States of America</td>\n      <td>US</td>\n      <td>NaN</td>\n      <td>No</td>\n      <td>jobs.monster.com</td>\n      <td>Luxury homebuilder in Cincinnati seeking multi...</td>\n      <td>Accountant Job in Cincinnati</td>\n      <td>Full Time</td>\n      <td>Cincinnati, OH 45236</td>\n      <td>Construction - Residential &amp; Commercial/Office</td>\n      <td>http://jobview.monster.com/Accountant-Job-Cinc...</td>\n      <td>45,000.00 - 60,000.00 $ /year</td>\n      <td>Manager (Manager/Supervisor of Staff)</td>\n      <td>419a3714be2b30a10f628de207d041de</td>\n    </tr>\n    <tr>\n      <th>21998</th>\n      <td>United States of America</td>\n      <td>US</td>\n      <td>NaN</td>\n      <td>No</td>\n      <td>jobs.monster.com</td>\n      <td>Jernberg Industries was established in 1937 an...</td>\n      <td>Electrician - Experienced Forging Electrician ...</td>\n      <td>Full Time Employee</td>\n      <td>Chicago, IL 60609</td>\n      <td>Jernberg Industries, Inc.</td>\n      <td>http://jobview.monster.com/Electrician-Experie...</td>\n      <td>25.00 - 28.00 $ /hour</td>\n      <td>Installation/Maintenance/Repair</td>\n      <td>40161cf61c283af9dc2b0a62947a5f1b</td>\n    </tr>\n    <tr>\n      <th>21999</th>\n      <td>United States of America</td>\n      <td>US</td>\n      <td>NaN</td>\n      <td>No</td>\n      <td>jobs.monster.com</td>\n      <td>Contract AdministratorCan you be the point per...</td>\n      <td>Contract Administrator Job in Cincinnati</td>\n      <td>Full Time</td>\n      <td>Cincinnati, OH</td>\n      <td>NaN</td>\n      <td>http://jobview.monster.com/Contract-Administra...</td>\n      <td>40,000.00 - 46,000.00 $ /year+ annual bonus (u...</td>\n      <td>Experienced (Non-Manager)</td>\n      <td>cb49f16ad72627b109e434e0cac97f7a</td>\n    </tr>\n  </tbody>\n</table>\n<p>3446 rows × 14 columns</p>\n</div>"
     },
     "execution_count": 272,
     "metadata": {},
     "output_type": "execute_result"
    }
   ],
   "source": [
    "salary_not_na = monster[monster['salary'].notna()]\n",
    "salary_not_na"
   ],
   "metadata": {
    "collapsed": false,
    "pycharm": {
     "name": "#%%\n"
    }
   }
  },
  {
   "cell_type": "code",
   "execution_count": 273,
   "outputs": [
    {
     "data": {
      "text/plain": "0.801762114537445"
     },
     "execution_count": 273,
     "metadata": {},
     "output_type": "execute_result"
    }
   ],
   "source": [
    "without_salary = sum(salary_not_na[['job_title', 'location']].duplicated())\n",
    "with_salary = sum(salary_not_na[['job_title', 'location', 'salary']].duplicated())\n",
    "with_salary / without_salary"
   ],
   "metadata": {
    "collapsed": false,
    "pycharm": {
     "name": "#%%\n"
    }
   }
  },
  {
   "cell_type": "markdown",
   "source": [
    "Видим, что в 80% случаев, если job_title и location совпадают, то это дублирующиеся записи"
   ],
   "metadata": {
    "collapsed": false,
    "pycharm": {
     "name": "#%% md\n"
    }
   }
  },
  {
   "cell_type": "markdown",
   "source": [
    "Проблема: salary может быть записана в разных форматах, поэтому одинаковая зар.плата будет считаться различной при df.duplicate()\n",
    "\n",
    "Решени: визуально просмотрим при совпадении job_title и location отличаются ли типы записи зар. платы"
   ],
   "metadata": {
    "collapsed": false,
    "pycharm": {
     "name": "#%% md\n"
    }
   }
  },
  {
   "cell_type": "code",
   "execution_count": 274,
   "outputs": [
    {
     "data": {
      "text/plain": "job_title                                                       location                  \n./hr Experienced RN supervisor (Smithtown) Job in Smithtown     Smithtown, NY 11787  3806             40.00 - 40.00 $ /year\n                                                                                     19461            40.00 - 40.00 $ /year\nAccounts Payable Job in Dallas                                  Dallas, TX 75206     17374    40,000.00 - 55,000.00 $ /year\n                                                                                     17384    40,000.00 - 55,000.00 $ /year\nAccounts Payable Specialist Job in Dallas                       DallasTX             5991              0.00 - 20.00 $ /hour\n                                                                                                          ...              \nopen house monday // Job in Seminole                            Seminole, FL 33777   15453            11.41 - 12.95 $ /hour\nst Time Manager: Entry Level Business Management Job in Dallas  Dallas, TX           17656    35,000.00 - 55,000.00 $ /year\n                                                                                     17983    35,000.00 - 55,000.00 $ /year\nst and nd Shift Window Assembler Job in Schofield               Schofield, WI 54476  9969                     $12.00+ /hour\n                                                                                     10361                    $12.00+ /hour\nName: salary, Length: 411, dtype: object"
     },
     "execution_count": 274,
     "metadata": {},
     "output_type": "execute_result"
    }
   ],
   "source": [
    "def larger_than_one(df):\n",
    "    return df.shape[0] > 1\n",
    "\n",
    "have_duplicates =salary_not_na.groupby(['job_title', 'location']).filter(larger_than_one)\n",
    "have_duplicates.groupby(['job_title', 'location']).apply(lambda x: x['salary'])"
   ],
   "metadata": {
    "collapsed": false,
    "pycharm": {
     "name": "#%%\n"
    }
   }
  },
  {
   "cell_type": "markdown",
   "source": [
    "Из данных одинаковом job_title и location видно:\n",
    "* тип записи зар.платы не отличается\n",
    "* Если зар.плата иотличается, то буквально на 5-10%, что говорит в пользу удаления дубликатов, несмотря на большое количество nan в salary"
   ],
   "metadata": {
    "collapsed": false,
    "pycharm": {
     "name": "#%% md\n"
    }
   }
  },
  {
   "cell_type": "markdown",
   "source": [
    "Вывод: можем удалить дубликаты по признакам (job_title, location, salary), несмотра на большое количество nan в salary"
   ],
   "metadata": {
    "collapsed": false,
    "pycharm": {
     "name": "#%% md\n"
    }
   }
  },
  {
   "cell_type": "code",
   "execution_count": 274,
   "outputs": [],
   "source": [],
   "metadata": {
    "collapsed": false,
    "pycharm": {
     "name": "#%%\n"
    }
   }
  },
  {
   "cell_type": "markdown",
   "source": [
    "### Обработка датасета"
   ],
   "metadata": {
    "id": "KfnT9b7KkbGV",
    "pycharm": {
     "name": "#%% md\n"
    }
   }
  },
  {
   "cell_type": "markdown",
   "source": [
    "#### Первичная обработка\n",
    "\n",
    "Выше мы оценили, какие есть проблемы с дубликатами и отсутствующими значениями.\n",
    "\n",
    "Первым делом устраним их. Удалим все, что можно удалить без потери данных. На всякий случай сохраним копию датасета. В конце нам понадобится оценивать результаты. Она пригодится."
   ],
   "metadata": {
    "id": "A7O2qNCNk7oC",
    "pycharm": {
     "name": "#%% md\n"
    }
   }
  },
  {
   "cell_type": "code",
   "source": [
    "# put your code here\n",
    "monster_clear = monster.copy()"
   ],
   "metadata": {
    "id": "EnE1Z_LTmXs2",
    "pycharm": {
     "name": "#%%\n"
    }
   },
   "execution_count": 275,
   "outputs": []
  },
  {
   "cell_type": "code",
   "source": [
    "# Удаление строк или столбцы с пустыми ячейками\n",
    "monster_clear.drop('date_added', axis=1, inplace=True)"
   ],
   "metadata": {
    "id": "i5fNRyNiOk1r",
    "pycharm": {
     "name": "#%%\n"
    }
   },
   "execution_count": 276,
   "outputs": []
  },
  {
   "cell_type": "code",
   "source": [
    "# Удаление нерелевантных столбцов\n",
    "monster_clear.drop(['country', 'country_code', 'has_expired', 'job_board', 'page_url', 'uniq_id'], axis=1, inplace=True)"
   ],
   "metadata": {
    "id": "K-xEJ-lClIeL",
    "pycharm": {
     "name": "#%%\n"
    }
   },
   "execution_count": 277,
   "outputs": []
  },
  {
   "cell_type": "code",
   "source": [
    "# Удаление дубликатов\n",
    "duplicates = monster_clear[['salary', 'job_title', 'location']].duplicated()\n",
    "monster_clear = monster_clear[~duplicates]"
   ],
   "metadata": {
    "id": "FBf382IflZ6O",
    "pycharm": {
     "name": "#%%\n"
    }
   },
   "execution_count": 278,
   "outputs": []
  },
  {
   "cell_type": "markdown",
   "source": [
    "#### Обработка колонки location"
   ],
   "metadata": {
    "id": "bysSIV-E6Qo2",
    "pycharm": {
     "name": "#%% md\n"
    }
   }
  },
  {
   "cell_type": "markdown",
   "source": [
    "Я иначе подошел к выполнению задания. Сразу вытащил всю информацию по штату, городу и индексу из данных, учитывая все возможные форматы. Только потом перешел к визуализации полученных результатов."
   ],
   "metadata": {
    "collapsed": false,
    "pycharm": {
     "name": "#%% md\n"
    }
   }
  },
  {
   "cell_type": "markdown",
   "source": [
    "##### Получим всю релеветную информацию"
   ],
   "metadata": {
    "collapsed": false,
    "pycharm": {
     "name": "#%% md\n"
    }
   }
  },
  {
   "cell_type": "markdown",
   "source": [
    "Виды форматов:\n",
    "* Город штат индекс\n",
    "* Город штат\n",
    "* Город индекс\n",
    "* Индекс\n",
    "* Штат"
   ],
   "metadata": {
    "collapsed": false,
    "pycharm": {
     "name": "#%% md\n"
    }
   }
  },
  {
   "cell_type": "code",
   "execution_count": 279,
   "outputs": [],
   "source": [
    "spaces_b_w = r'\\s*(?=[A-Za-z])'\n",
    "spaces_b_wd = r'\\s*(?=(?:\\w))'\n",
    "spaces_b_c = r'\\s*(?=,)'\n",
    "word_with_possible_dot = '[A-Za-z]+.?'\n",
    "city = fr'\"?{word_with_possible_dot}(?:\\s*{word_with_possible_dot}){{0,2}}\"?'\n",
    "after_city = fr'{spaces_b_c},{spaces_b_wd}'\n",
    "state_no_del = r'[A-Za-z]{2}'\n",
    "index_no_del = r'\\d{5}'\n",
    "\n",
    "city_state_no_del = fr'(?P<city>{city}){after_city}(?P<state>{state_no_del})'\n",
    "city_state = fr'^{city_state_no_del}$'\n",
    "city_state_index = fr'^{city_state_no_del}{spaces_b_wd}(?P<index>{index_no_del})$'\n",
    "city_index = fr'^(?P<city>{city}){spaces_b_wd}(?P<index>{index_no_del})$'\n",
    "index = fr'^(?P<index>{index_no_del})$'\n",
    "state = fr'^(?P<state>{state_no_del})$'\n",
    "\n",
    "regexs = [city_state_index, city_state, city_index, index, state]"
   ],
   "metadata": {
    "collapsed": false,
    "pycharm": {
     "name": "#%%\n"
    }
   }
  },
  {
   "cell_type": "code",
   "execution_count": 280,
   "outputs": [
    {
     "data": {
      "text/plain": "                                         job_description  \\\n0      TeamSoft is seeing an IT Support Specialist to...   \n1      The Wisconsin State Journal is seeking a flexi...   \n2      Report this job About the Job DePuy Synthes Co...   \n3      Why Join Altec? If you’re considering a career...   \n4      Position ID#  76162 # Positions  1 State  CT C...   \n...                                                  ...   \n21995  This is a major premier Cincinnati based finan...   \n21996  Luxury homebuilder in Cincinnati seeking multi...   \n21997  RE: Adobe AEM-          Client -          Loca...   \n21998  Jernberg Industries was established in 1937 an...   \n21999  Contract AdministratorCan you be the point per...   \n\n                                               job_title             job_type  \\\n0                   IT Support Technician Job in Madison   Full Time Employee   \n1                Business Reporter/Editor Job in Madison            Full Time   \n2      Johnson & Johnson Family of Companies Job Appl...  Full Time, Employee   \n3                        Engineer - Quality Job in Dixon            Full Time   \n4           Shift Supervisor - Part-Time Job in Camphill   Full Time Employee   \n...                                                  ...                  ...   \n21995  Assistant Vice President - Controller Job in C...            Full Time   \n21996                       Accountant Job in Cincinnati            Full Time   \n21997                    AEM/CQ developer Job in Chicago            Full Time   \n21998  Electrician - Experienced Forging Electrician ...   Full Time Employee   \n21999           Contract Administrator Job in Cincinnati            Full Time   \n\n                                                location  \\\n0                                      Madison, WI 53702   \n1                                      Madison, WI 53708   \n2      DePuy Synthes Companies is a member of Johnson...   \n3                                              Dixon, CA   \n4                                           Camphill, PA   \n...                                                  ...   \n21995                                     Cincinnati, OH   \n21996                               Cincinnati, OH 45236   \n21997                                  Chicago, IL 60602   \n21998                                  Chicago, IL 60609   \n21999                                     Cincinnati, OH   \n\n                                         organization  \\\n0                                                 NaN   \n1                             Printing and Publishing   \n2                     Personal and Household Services   \n3                                    Altec Industries   \n4                                              Retail   \n...                                               ...   \n21995                                             NaN   \n21996  Construction - Residential & Commercial/Office   \n21997                                             NaN   \n21998                       Jernberg Industries, Inc.   \n21999                                             NaN   \n\n                                                  salary  \\\n0                                                    NaN   \n1                                                    NaN   \n2                                                    NaN   \n3                                                    NaN   \n4                                                    NaN   \n...                                                  ...   \n21995               120,000.00 - 160,000.00 $ /yearbonus   \n21996                      45,000.00 - 60,000.00 $ /year   \n21997                                                NaN   \n21998                              25.00 - 28.00 $ /hour   \n21999  40,000.00 - 46,000.00 $ /year+ annual bonus (u...   \n\n                                      sector        city  index state  \n0                    IT/Software Development     Madison  53702    WI  \n1                                        NaN     Madison  53708    WI  \n2                                        NaN         NaN    NaN   NaN  \n3                  Experienced (Non-Manager)       Dixon    NaN    CA  \n4                 Project/Program Management    Camphill    NaN    PA  \n...                                      ...         ...    ...   ...  \n21995                                    NaN  Cincinnati    NaN    OH  \n21996  Manager (Manager/Supervisor of Staff)  Cincinnati  45236    OH  \n21997                                    NaN     Chicago  60602    IL  \n21998        Installation/Maintenance/Repair     Chicago  60609    IL  \n21999              Experienced (Non-Manager)  Cincinnati    NaN    OH  \n\n[19953 rows x 10 columns]",
      "text/html": "<div>\n<style scoped>\n    .dataframe tbody tr th:only-of-type {\n        vertical-align: middle;\n    }\n\n    .dataframe tbody tr th {\n        vertical-align: top;\n    }\n\n    .dataframe thead th {\n        text-align: right;\n    }\n</style>\n<table border=\"1\" class=\"dataframe\">\n  <thead>\n    <tr style=\"text-align: right;\">\n      <th></th>\n      <th>job_description</th>\n      <th>job_title</th>\n      <th>job_type</th>\n      <th>location</th>\n      <th>organization</th>\n      <th>salary</th>\n      <th>sector</th>\n      <th>city</th>\n      <th>index</th>\n      <th>state</th>\n    </tr>\n  </thead>\n  <tbody>\n    <tr>\n      <th>0</th>\n      <td>TeamSoft is seeing an IT Support Specialist to...</td>\n      <td>IT Support Technician Job in Madison</td>\n      <td>Full Time Employee</td>\n      <td>Madison, WI 53702</td>\n      <td>NaN</td>\n      <td>NaN</td>\n      <td>IT/Software Development</td>\n      <td>Madison</td>\n      <td>53702</td>\n      <td>WI</td>\n    </tr>\n    <tr>\n      <th>1</th>\n      <td>The Wisconsin State Journal is seeking a flexi...</td>\n      <td>Business Reporter/Editor Job in Madison</td>\n      <td>Full Time</td>\n      <td>Madison, WI 53708</td>\n      <td>Printing and Publishing</td>\n      <td>NaN</td>\n      <td>NaN</td>\n      <td>Madison</td>\n      <td>53708</td>\n      <td>WI</td>\n    </tr>\n    <tr>\n      <th>2</th>\n      <td>Report this job About the Job DePuy Synthes Co...</td>\n      <td>Johnson &amp; Johnson Family of Companies Job Appl...</td>\n      <td>Full Time, Employee</td>\n      <td>DePuy Synthes Companies is a member of Johnson...</td>\n      <td>Personal and Household Services</td>\n      <td>NaN</td>\n      <td>NaN</td>\n      <td>NaN</td>\n      <td>NaN</td>\n      <td>NaN</td>\n    </tr>\n    <tr>\n      <th>3</th>\n      <td>Why Join Altec? If you’re considering a career...</td>\n      <td>Engineer - Quality Job in Dixon</td>\n      <td>Full Time</td>\n      <td>Dixon, CA</td>\n      <td>Altec Industries</td>\n      <td>NaN</td>\n      <td>Experienced (Non-Manager)</td>\n      <td>Dixon</td>\n      <td>NaN</td>\n      <td>CA</td>\n    </tr>\n    <tr>\n      <th>4</th>\n      <td>Position ID#  76162 # Positions  1 State  CT C...</td>\n      <td>Shift Supervisor - Part-Time Job in Camphill</td>\n      <td>Full Time Employee</td>\n      <td>Camphill, PA</td>\n      <td>Retail</td>\n      <td>NaN</td>\n      <td>Project/Program Management</td>\n      <td>Camphill</td>\n      <td>NaN</td>\n      <td>PA</td>\n    </tr>\n    <tr>\n      <th>...</th>\n      <td>...</td>\n      <td>...</td>\n      <td>...</td>\n      <td>...</td>\n      <td>...</td>\n      <td>...</td>\n      <td>...</td>\n      <td>...</td>\n      <td>...</td>\n      <td>...</td>\n    </tr>\n    <tr>\n      <th>21995</th>\n      <td>This is a major premier Cincinnati based finan...</td>\n      <td>Assistant Vice President - Controller Job in C...</td>\n      <td>Full Time</td>\n      <td>Cincinnati, OH</td>\n      <td>NaN</td>\n      <td>120,000.00 - 160,000.00 $ /yearbonus</td>\n      <td>NaN</td>\n      <td>Cincinnati</td>\n      <td>NaN</td>\n      <td>OH</td>\n    </tr>\n    <tr>\n      <th>21996</th>\n      <td>Luxury homebuilder in Cincinnati seeking multi...</td>\n      <td>Accountant Job in Cincinnati</td>\n      <td>Full Time</td>\n      <td>Cincinnati, OH 45236</td>\n      <td>Construction - Residential &amp; Commercial/Office</td>\n      <td>45,000.00 - 60,000.00 $ /year</td>\n      <td>Manager (Manager/Supervisor of Staff)</td>\n      <td>Cincinnati</td>\n      <td>45236</td>\n      <td>OH</td>\n    </tr>\n    <tr>\n      <th>21997</th>\n      <td>RE: Adobe AEM-          Client -          Loca...</td>\n      <td>AEM/CQ developer Job in Chicago</td>\n      <td>Full Time</td>\n      <td>Chicago, IL 60602</td>\n      <td>NaN</td>\n      <td>NaN</td>\n      <td>NaN</td>\n      <td>Chicago</td>\n      <td>60602</td>\n      <td>IL</td>\n    </tr>\n    <tr>\n      <th>21998</th>\n      <td>Jernberg Industries was established in 1937 an...</td>\n      <td>Electrician - Experienced Forging Electrician ...</td>\n      <td>Full Time Employee</td>\n      <td>Chicago, IL 60609</td>\n      <td>Jernberg Industries, Inc.</td>\n      <td>25.00 - 28.00 $ /hour</td>\n      <td>Installation/Maintenance/Repair</td>\n      <td>Chicago</td>\n      <td>60609</td>\n      <td>IL</td>\n    </tr>\n    <tr>\n      <th>21999</th>\n      <td>Contract AdministratorCan you be the point per...</td>\n      <td>Contract Administrator Job in Cincinnati</td>\n      <td>Full Time</td>\n      <td>Cincinnati, OH</td>\n      <td>NaN</td>\n      <td>40,000.00 - 46,000.00 $ /year+ annual bonus (u...</td>\n      <td>Experienced (Non-Manager)</td>\n      <td>Cincinnati</td>\n      <td>NaN</td>\n      <td>OH</td>\n    </tr>\n  </tbody>\n</table>\n<p>19953 rows × 10 columns</p>\n</div>"
     },
     "execution_count": 280,
     "metadata": {},
     "output_type": "execute_result"
    }
   ],
   "source": [
    "monster_tmp = monster_clear.copy()\n",
    "monster_tmp['city'] = None\n",
    "monster_tmp['index'] = None\n",
    "monster_tmp['state'] = None\n",
    "\n",
    "for reg in regexs:\n",
    "    extract = monster_clear['location'].str.extract(reg)\n",
    "    extract.dropna(inplace=True)\n",
    "    monster_tmp.fillna(extract, inplace=True)\n",
    "\n",
    "\n",
    "invalid_mask = monster_tmp[['city', 'index', 'state']].isna().all(axis=1)\n",
    "monster_valid_location = monster_tmp[~invalid_mask]\n",
    "monster_invalid_location = monster_tmp[invalid_mask]\n",
    "\n",
    "monster_tmp"
   ],
   "metadata": {
    "collapsed": false,
    "pycharm": {
     "name": "#%%\n"
    }
   }
  },
  {
   "cell_type": "markdown",
   "source": [
    "Выведем исходный столбец location в адекватных и неадекватных данных"
   ],
   "metadata": {
    "collapsed": false,
    "pycharm": {
     "name": "#%% md\n"
    }
   }
  },
  {
   "cell_type": "code",
   "execution_count": 281,
   "outputs": [
    {
     "data": {
      "text/plain": "0           Madison, WI 53702\n1           Madison, WI 53708\n3                   Dixon, CA\n4                Camphill, PA\n5         Charlottesville, VA\n                 ...         \n21995          Cincinnati, OH\n21996    Cincinnati, OH 45236\n21997       Chicago, IL 60602\n21998       Chicago, IL 60609\n21999          Cincinnati, OH\nName: location, Length: 17523, dtype: object"
     },
     "execution_count": 281,
     "metadata": {},
     "output_type": "execute_result"
    }
   ],
   "source": [
    "monster_valid_location['location']"
   ],
   "metadata": {
    "collapsed": false,
    "pycharm": {
     "name": "#%%\n"
    }
   }
  },
  {
   "cell_type": "code",
   "execution_count": 282,
   "outputs": [
    {
     "data": {
      "text/plain": "2        DePuy Synthes Companies is a member of Johnson...\n6                                  Contact name Tony Zerio\n29                     Sr. Process Engineer, Manufacturing\n36                     RF System Technician, Field Service\n38                         Bi-Lingual Editorial Strategist\n                               ...                        \n21899    Associate Customer Business Manager Location: ...\n21933                                            Location:\n21944    Maintenance Planner-16150DescriptionLocation: ...\n21967                                            Location:\n21983                                            Location:\nName: location, Length: 2430, dtype: object"
     },
     "execution_count": 282,
     "metadata": {},
     "output_type": "execute_result"
    }
   ],
   "source": [
    "monster_invalid_location['location']"
   ],
   "metadata": {
    "collapsed": false,
    "pycharm": {
     "name": "#%%\n"
    }
   }
  },
  {
   "cell_type": "markdown",
   "source": [
    "Видим, что в invalid_location остались только непригодные для анализа данные. Это значит, что мы сделали все правильно"
   ],
   "metadata": {
    "collapsed": false,
    "pycharm": {
     "name": "#%% md\n"
    }
   }
  },
  {
   "cell_type": "markdown",
   "source": [
    "Вставим полученные данные в monster_clear"
   ],
   "metadata": {
    "collapsed": false,
    "pycharm": {
     "name": "#%% md\n"
    }
   }
  },
  {
   "cell_type": "code",
   "execution_count": 283,
   "outputs": [],
   "source": [
    "monster_clear = monster_tmp"
   ],
   "metadata": {
    "collapsed": false,
    "pycharm": {
     "name": "#%%\n"
    }
   }
  },
  {
   "cell_type": "code",
   "execution_count": 284,
   "outputs": [
    {
     "data": {
      "text/plain": "                                         job_description  \\\n0      TeamSoft is seeing an IT Support Specialist to...   \n1      The Wisconsin State Journal is seeking a flexi...   \n2      Report this job About the Job DePuy Synthes Co...   \n3      Why Join Altec? If you’re considering a career...   \n4      Position ID#  76162 # Positions  1 State  CT C...   \n...                                                  ...   \n21995  This is a major premier Cincinnati based finan...   \n21996  Luxury homebuilder in Cincinnati seeking multi...   \n21997  RE: Adobe AEM-          Client -          Loca...   \n21998  Jernberg Industries was established in 1937 an...   \n21999  Contract AdministratorCan you be the point per...   \n\n                                               job_title             job_type  \\\n0                   IT Support Technician Job in Madison   Full Time Employee   \n1                Business Reporter/Editor Job in Madison            Full Time   \n2      Johnson & Johnson Family of Companies Job Appl...  Full Time, Employee   \n3                        Engineer - Quality Job in Dixon            Full Time   \n4           Shift Supervisor - Part-Time Job in Camphill   Full Time Employee   \n...                                                  ...                  ...   \n21995  Assistant Vice President - Controller Job in C...            Full Time   \n21996                       Accountant Job in Cincinnati            Full Time   \n21997                    AEM/CQ developer Job in Chicago            Full Time   \n21998  Electrician - Experienced Forging Electrician ...   Full Time Employee   \n21999           Contract Administrator Job in Cincinnati            Full Time   \n\n                                                location  \\\n0                                      Madison, WI 53702   \n1                                      Madison, WI 53708   \n2      DePuy Synthes Companies is a member of Johnson...   \n3                                              Dixon, CA   \n4                                           Camphill, PA   \n...                                                  ...   \n21995                                     Cincinnati, OH   \n21996                               Cincinnati, OH 45236   \n21997                                  Chicago, IL 60602   \n21998                                  Chicago, IL 60609   \n21999                                     Cincinnati, OH   \n\n                                         organization  \\\n0                                                 NaN   \n1                             Printing and Publishing   \n2                     Personal and Household Services   \n3                                    Altec Industries   \n4                                              Retail   \n...                                               ...   \n21995                                             NaN   \n21996  Construction - Residential & Commercial/Office   \n21997                                             NaN   \n21998                       Jernberg Industries, Inc.   \n21999                                             NaN   \n\n                                                  salary  \\\n0                                                    NaN   \n1                                                    NaN   \n2                                                    NaN   \n3                                                    NaN   \n4                                                    NaN   \n...                                                  ...   \n21995               120,000.00 - 160,000.00 $ /yearbonus   \n21996                      45,000.00 - 60,000.00 $ /year   \n21997                                                NaN   \n21998                              25.00 - 28.00 $ /hour   \n21999  40,000.00 - 46,000.00 $ /year+ annual bonus (u...   \n\n                                      sector        city  index state  \n0                    IT/Software Development     Madison  53702    WI  \n1                                        NaN     Madison  53708    WI  \n2                                        NaN         NaN    NaN   NaN  \n3                  Experienced (Non-Manager)       Dixon    NaN    CA  \n4                 Project/Program Management    Camphill    NaN    PA  \n...                                      ...         ...    ...   ...  \n21995                                    NaN  Cincinnati    NaN    OH  \n21996  Manager (Manager/Supervisor of Staff)  Cincinnati  45236    OH  \n21997                                    NaN     Chicago  60602    IL  \n21998        Installation/Maintenance/Repair     Chicago  60609    IL  \n21999              Experienced (Non-Manager)  Cincinnati    NaN    OH  \n\n[19953 rows x 10 columns]",
      "text/html": "<div>\n<style scoped>\n    .dataframe tbody tr th:only-of-type {\n        vertical-align: middle;\n    }\n\n    .dataframe tbody tr th {\n        vertical-align: top;\n    }\n\n    .dataframe thead th {\n        text-align: right;\n    }\n</style>\n<table border=\"1\" class=\"dataframe\">\n  <thead>\n    <tr style=\"text-align: right;\">\n      <th></th>\n      <th>job_description</th>\n      <th>job_title</th>\n      <th>job_type</th>\n      <th>location</th>\n      <th>organization</th>\n      <th>salary</th>\n      <th>sector</th>\n      <th>city</th>\n      <th>index</th>\n      <th>state</th>\n    </tr>\n  </thead>\n  <tbody>\n    <tr>\n      <th>0</th>\n      <td>TeamSoft is seeing an IT Support Specialist to...</td>\n      <td>IT Support Technician Job in Madison</td>\n      <td>Full Time Employee</td>\n      <td>Madison, WI 53702</td>\n      <td>NaN</td>\n      <td>NaN</td>\n      <td>IT/Software Development</td>\n      <td>Madison</td>\n      <td>53702</td>\n      <td>WI</td>\n    </tr>\n    <tr>\n      <th>1</th>\n      <td>The Wisconsin State Journal is seeking a flexi...</td>\n      <td>Business Reporter/Editor Job in Madison</td>\n      <td>Full Time</td>\n      <td>Madison, WI 53708</td>\n      <td>Printing and Publishing</td>\n      <td>NaN</td>\n      <td>NaN</td>\n      <td>Madison</td>\n      <td>53708</td>\n      <td>WI</td>\n    </tr>\n    <tr>\n      <th>2</th>\n      <td>Report this job About the Job DePuy Synthes Co...</td>\n      <td>Johnson &amp; Johnson Family of Companies Job Appl...</td>\n      <td>Full Time, Employee</td>\n      <td>DePuy Synthes Companies is a member of Johnson...</td>\n      <td>Personal and Household Services</td>\n      <td>NaN</td>\n      <td>NaN</td>\n      <td>NaN</td>\n      <td>NaN</td>\n      <td>NaN</td>\n    </tr>\n    <tr>\n      <th>3</th>\n      <td>Why Join Altec? If you’re considering a career...</td>\n      <td>Engineer - Quality Job in Dixon</td>\n      <td>Full Time</td>\n      <td>Dixon, CA</td>\n      <td>Altec Industries</td>\n      <td>NaN</td>\n      <td>Experienced (Non-Manager)</td>\n      <td>Dixon</td>\n      <td>NaN</td>\n      <td>CA</td>\n    </tr>\n    <tr>\n      <th>4</th>\n      <td>Position ID#  76162 # Positions  1 State  CT C...</td>\n      <td>Shift Supervisor - Part-Time Job in Camphill</td>\n      <td>Full Time Employee</td>\n      <td>Camphill, PA</td>\n      <td>Retail</td>\n      <td>NaN</td>\n      <td>Project/Program Management</td>\n      <td>Camphill</td>\n      <td>NaN</td>\n      <td>PA</td>\n    </tr>\n    <tr>\n      <th>...</th>\n      <td>...</td>\n      <td>...</td>\n      <td>...</td>\n      <td>...</td>\n      <td>...</td>\n      <td>...</td>\n      <td>...</td>\n      <td>...</td>\n      <td>...</td>\n      <td>...</td>\n    </tr>\n    <tr>\n      <th>21995</th>\n      <td>This is a major premier Cincinnati based finan...</td>\n      <td>Assistant Vice President - Controller Job in C...</td>\n      <td>Full Time</td>\n      <td>Cincinnati, OH</td>\n      <td>NaN</td>\n      <td>120,000.00 - 160,000.00 $ /yearbonus</td>\n      <td>NaN</td>\n      <td>Cincinnati</td>\n      <td>NaN</td>\n      <td>OH</td>\n    </tr>\n    <tr>\n      <th>21996</th>\n      <td>Luxury homebuilder in Cincinnati seeking multi...</td>\n      <td>Accountant Job in Cincinnati</td>\n      <td>Full Time</td>\n      <td>Cincinnati, OH 45236</td>\n      <td>Construction - Residential &amp; Commercial/Office</td>\n      <td>45,000.00 - 60,000.00 $ /year</td>\n      <td>Manager (Manager/Supervisor of Staff)</td>\n      <td>Cincinnati</td>\n      <td>45236</td>\n      <td>OH</td>\n    </tr>\n    <tr>\n      <th>21997</th>\n      <td>RE: Adobe AEM-          Client -          Loca...</td>\n      <td>AEM/CQ developer Job in Chicago</td>\n      <td>Full Time</td>\n      <td>Chicago, IL 60602</td>\n      <td>NaN</td>\n      <td>NaN</td>\n      <td>NaN</td>\n      <td>Chicago</td>\n      <td>60602</td>\n      <td>IL</td>\n    </tr>\n    <tr>\n      <th>21998</th>\n      <td>Jernberg Industries was established in 1937 an...</td>\n      <td>Electrician - Experienced Forging Electrician ...</td>\n      <td>Full Time Employee</td>\n      <td>Chicago, IL 60609</td>\n      <td>Jernberg Industries, Inc.</td>\n      <td>25.00 - 28.00 $ /hour</td>\n      <td>Installation/Maintenance/Repair</td>\n      <td>Chicago</td>\n      <td>60609</td>\n      <td>IL</td>\n    </tr>\n    <tr>\n      <th>21999</th>\n      <td>Contract AdministratorCan you be the point per...</td>\n      <td>Contract Administrator Job in Cincinnati</td>\n      <td>Full Time</td>\n      <td>Cincinnati, OH</td>\n      <td>NaN</td>\n      <td>40,000.00 - 46,000.00 $ /year+ annual bonus (u...</td>\n      <td>Experienced (Non-Manager)</td>\n      <td>Cincinnati</td>\n      <td>NaN</td>\n      <td>OH</td>\n    </tr>\n  </tbody>\n</table>\n<p>19953 rows × 10 columns</p>\n</div>"
     },
     "execution_count": 284,
     "metadata": {},
     "output_type": "execute_result"
    }
   ],
   "source": [
    "monster_clear"
   ],
   "metadata": {
    "collapsed": false,
    "pycharm": {
     "name": "#%%\n"
    }
   }
  },
  {
   "cell_type": "markdown",
   "source": [
    "##### Визуализируем результат"
   ],
   "metadata": {
    "collapsed": false,
    "pycharm": {
     "name": "#%% md\n"
    }
   }
  },
  {
   "cell_type": "code",
   "execution_count": 285,
   "outputs": [],
   "source": [
    "def powerset(iterable):\n",
    "    s = list(iterable)\n",
    "    return chain.from_iterable(combinations(s, r) for r in range(len(s)+1))"
   ],
   "metadata": {
    "collapsed": false,
    "pycharm": {
     "name": "#%%\n"
    }
   }
  },
  {
   "cell_type": "code",
   "execution_count": 286,
   "outputs": [],
   "source": [
    "cols = ['city', 'index', 'state']\n",
    "cnts = []\n",
    "names = []\n",
    "for combination in powerset(cols):\n",
    "    combination = list(combination)\n",
    "    if combination:\n",
    "        name = '+'.join(combination)\n",
    "    else:\n",
    "        name = 'all nans'\n",
    "    remained = list(set(cols).difference(combination))\n",
    "\n",
    "    no_na_where_needed = monster_clear[combination].notna().all(axis=1)\n",
    "    na_where_needed = monster_clear[remained].isna().all(axis=1)\n",
    "\n",
    "    cnt = (na_where_needed & no_na_where_needed).sum()\n",
    "\n",
    "    names.append(name)\n",
    "    cnts.append(cnt)"
   ],
   "metadata": {
    "collapsed": false,
    "pycharm": {
     "name": "#%%\n"
    }
   }
  },
  {
   "cell_type": "code",
   "execution_count": 287,
   "outputs": [
    {
     "data": {
      "text/plain": "<Figure size 640x480 with 1 Axes>",
      "image/png": "[encoded data removed]"
     },
     "metadata": {},
     "output_type": "display_data"
    }
   ],
   "source": [
    "sns.barplot(x=names, y=cnts)\n",
    "plt.xticks(rotation=45);"
   ],
   "metadata": {
    "collapsed": false,
    "pycharm": {
     "name": "#%%\n"
    }
   }
  },
  {
   "cell_type": "markdown",
   "source": [
    "#### Обработка колонки salary"
   ],
   "metadata": {
    "id": "jnaCe7umCrCM",
    "pycharm": {
     "name": "#%% md\n"
    }
   }
  },
  {
   "cell_type": "markdown",
   "source": [
    "Выясните, какие форматы значений есть в столбце `salary`. Сделайте выводы. При необходимости – стройте графики."
   ],
   "metadata": {
    "id": "pODtqlog_v7l",
    "pycharm": {
     "name": "#%% md\n"
    }
   }
  },
  {
   "cell_type": "code",
   "execution_count": 288,
   "outputs": [],
   "source": [
    "def series_to_float(series):\n",
    "    series = series.str.replace(',', '')\n",
    "    return series.astype(float)"
   ],
   "metadata": {
    "collapsed": false,
    "pycharm": {
     "name": "#%%\n"
    }
   }
  },
  {
   "cell_type": "code",
   "source": [
    "mask = monster_clear['salary'].notna()\n",
    "salary = monster_clear.loc[mask, 'salary'].copy()\n",
    "salary = salary.str.replace('$', '', regex=False)\n",
    "salary"
   ],
   "metadata": {
    "id": "62JbulyKA7kS",
    "pycharm": {
     "name": "#%%\n"
    }
   },
   "execution_count": 289,
   "outputs": [
    {
     "data": {
      "text/plain": "13                                     9.00 - 13.00  /hour\n14                            80,000.00 - 95,000.00  /year\n19                            60,000.00 - 72,000.00  /year\n23                            Excellent Pay and Incentives\n29                           70,000.00 - 100,000.00  /year\n                               ...                        \n21987                                     80,000.00+ /year\n21995                  120,000.00 - 160,000.00  /yearbonus\n21996                         45,000.00 - 60,000.00  /year\n21998                                 25.00 - 28.00  /hour\n21999    40,000.00 - 46,000.00  /year+ annual bonus (up...\nName: salary, Length: 3264, dtype: object"
     },
     "execution_count": 289,
     "metadata": {},
     "output_type": "execute_result"
    }
   ]
  },
  {
   "cell_type": "markdown",
   "source": [
    "У вас должны получиться следующие форматы:\n",
    "1. 10.00 - 20.00 &dollar; &sol;hour\n",
    "2. 10,000.00 - 20,000.00 &dollar; &sol;year\n",
    "3. &dollar;10.00 &sol;hour\n",
    "4. &dollar;10,000.00+ &sol;year\n",
    "5. Up to &dollar;20,000.00"
   ],
   "metadata": {
    "id": "-r0LpzdbDPq2",
    "pycharm": {
     "name": "#%% md\n"
    }
   }
  },
  {
   "cell_type": "markdown",
   "source": [
    "##### Напишем регулярные выражения для всех типов"
   ],
   "metadata": {
    "collapsed": false,
    "pycharm": {
     "name": "#%% md\n"
    }
   }
  },
  {
   "cell_type": "code",
   "execution_count": 290,
   "outputs": [],
   "source": [
    "def check_and_print(name, matches, reg):\n",
    "    print(f'{name}:')\n",
    "    mistakes = list(filter(lambda x: not bool(re.search(reg, x)), matches))\n",
    "    if mistakes:\n",
    "        print(reg)\n",
    "        for mistake in mistakes:\n",
    "            print(mistake)\n",
    "\n",
    "    else:\n",
    "        print('no mistakes')"
   ],
   "metadata": {
    "collapsed": false,
    "pycharm": {
     "name": "#%%\n"
    }
   }
  },
  {
   "cell_type": "code",
   "execution_count": 291,
   "outputs": [
    {
     "name": "stdout",
     "output_type": "stream",
     "text": [
      "interval:\n",
      "no mistakes\n",
      "single:\n",
      "no mistakes\n",
      "type1:\n",
      "no mistakes\n",
      "type2:\n",
      "no mistakes\n",
      "type3:\n",
      "no mistakes\n",
      "type4:\n",
      "no mistakes\n",
      "type5:\n",
      "no mistakes\n"
     ]
    }
   ],
   "source": [
    "money_r = '\\d+,?\\d*\\.\\d{2}'\n",
    "s_r = '\\s*'\n",
    "min_max= f'{s_r}-{s_r}'\n",
    "dollar_or_spaces  = ''\n",
    "time_interval_r = '\\/[a-zA-Z]{4}'\n",
    "\n",
    "interval_group =  f'(?P<interval>{time_interval_r})'\n",
    "\n",
    "type_1_2 = fr'(?P<from>{money_r}){min_max}(?P<to>{money_r}){s_r}{interval_group}{s_r}'\n",
    "type_3 = fr'(?P<from>{money_r}){s_r}{interval_group}{s_r}'\n",
    "type_4 = fr'(?P<from>{money_r})\\+{s_r}{interval_group}{s_r}'\n",
    "type_5= fr'(?i)up{s_r}to{s_r}(?P<from>{money_r})'\n",
    "\n",
    "without_date_interval = fr'^(?P<from>{money_r}){min_max}(?P<to>{money_r}){s_r}(?!{time_interval_r}){s_r}$'\n",
    "without_date_single = fr'^(?P<from>{money_r}){s_r}(?!{time_interval_r}){s_r}$'\n",
    "\n",
    "check_and_print('interval', ['9.00 - 13.00'], without_date_interval)\n",
    "check_and_print('single', ['9.00'], without_date_single)\n",
    "\n",
    "\n",
    "\n",
    "\n",
    "\n",
    "def tests():\n",
    "    type_1_matches = ['10.00 - 20.00 $ /hour', '9.00 - 13.00  /hour', ]\n",
    "    type_2_matches = ['10,000.00 - 20,000.00 $ /year']\n",
    "    type_3_matches = ['$10.00 /hour']\n",
    "    type_4_matches = ['$10,000.00+ /year']\n",
    "    type_5_matches = ['Up to $20,000.00']\n",
    "\n",
    "    to_check = [('type1', type_1_matches, type_1_2),\n",
    "                ('type2', type_2_matches, type_1_2),\n",
    "                ('type3', type_3_matches, type_3),\n",
    "                ('type4', type_4_matches, type_4),\n",
    "                ('type5', type_5_matches, type_5)]\n",
    "    for name, matches, reg in to_check:\n",
    "\n",
    "        matches = list(map(lambda x:x.replace('$', ''), matches))\n",
    "        check_and_print(name, matches, reg)\n",
    "\n",
    "tests()"
   ],
   "metadata": {
    "collapsed": false,
    "pycharm": {
     "name": "#%%\n"
    }
   }
  },
  {
   "cell_type": "markdown",
   "source": [
    "##### Отберем данные без интервала и разграничим дневную плату от годовой"
   ],
   "metadata": {
    "collapsed": false,
    "pycharm": {
     "name": "#%% md\n"
    }
   }
  },
  {
   "cell_type": "code",
   "execution_count": 292,
   "outputs": [
    {
     "data": {
      "text/plain": "2424     108887.00\n9144         10.30\n9437          9.00\n10024        11.00\n10322        10.21\n17122     31054.00\n17170        13.00\n17523         8.00\n17602        12.50\n17637        12.50\n17663         8.00\n17972     40000.00\n18123     31054.00\nName: from, dtype: float64"
     },
     "execution_count": 292,
     "metadata": {},
     "output_type": "execute_result"
    }
   ],
   "source": [
    "tmp = salary.copy()\n",
    "tmp = salary.str.extract(without_date_interval)\n",
    "tmp = tmp.fillna(salary.str.extract(without_date_single))\n",
    "values = series_to_float(tmp['from'].dropna())\n",
    "values"
   ],
   "metadata": {
    "collapsed": false,
    "pycharm": {
     "name": "#%%\n"
    }
   }
  },
  {
   "cell_type": "markdown",
   "source": [
    "Так как данных такого типа мало, то удобнее посмотреть на них вблизи\n",
    "\n",
    "Зар.плата больше 10000 будет считать зар.платой за год"
   ],
   "metadata": {
    "collapsed": false,
    "pycharm": {
     "name": "#%% md\n"
    }
   }
  },
  {
   "cell_type": "markdown",
   "source": [
    "##### Запишем данные в таблицу"
   ],
   "metadata": {
    "collapsed": false,
    "pycharm": {
     "name": "#%% md\n"
    }
   }
  },
  {
   "cell_type": "markdown",
   "source": [
    "Бонус - это все, что останется после сбора данных регулярками. В некотрых случаях туда могут попасть нерелевантные данные вроде \"salary\". Отбирать данные такого типа возможно только вручную или более сложными алгоритмами"
   ],
   "metadata": {
    "collapsed": false,
    "pycharm": {
     "name": "#%% md\n"
    }
   }
  },
  {
   "cell_type": "code",
   "execution_count": 293,
   "outputs": [
    {
     "data": {
      "text/plain": "                                         job_description  \\\n13     Launch your teaching career with the Leader in...   \n14     Construction Professional For more than 15 yea...   \n19     Competitive compensation package, excellent co...   \n23      Well respected, rapidly growing, and expandin...   \n29     Experis is working with a Pharmaceutical start...   \n...                                                  ...   \n21987  Own Your TerritoryAsk yourself these questions...   \n21995  This is a major premier Cincinnati based finan...   \n21996  Luxury homebuilder in Cincinnati seeking multi...   \n21998  Jernberg Industries was established in 1937 an...   \n21999  Contract AdministratorCan you be the point per...   \n\n                                               job_title            job_type  \\\n13     Primrose Private Preschool Teacher Job in Houston           Full Time   \n14                         Superintendent Job in Houston  Full Time Employee   \n19     Technician - Robot & Multi-Axis CNC Field Serv...           Full Time   \n23                Estimator - Construction Job in Denver           Full Time   \n29                                  Sr. Process Engineer  Full Time Employee   \n...                                                  ...                 ...   \n21987                        Experienced Territory Sales           Full Time   \n21995  Assistant Vice President - Controller Job in C...           Full Time   \n21996                       Accountant Job in Cincinnati           Full Time   \n21998  Electrician - Experienced Forging Electrician ...  Full Time Employee   \n21999           Contract Administrator Job in Cincinnati           Full Time   \n\n                                  location  \\\n13                       Houston, TX 77098   \n14                             Houston, TX   \n19                   Carter Lake, IA 51510   \n23                        Denver, CO 80215   \n29     Sr. Process Engineer, Manufacturing   \n...                                    ...   \n21987                    Chicago, IL 60602   \n21995                       Cincinnati, OH   \n21996                 Cincinnati, OH 45236   \n21998                    Chicago, IL 60609   \n21999                       Cincinnati, OH   \n\n                                            organization  \\\n13                                             Education   \n14     Construction - Industrial Facilities and Infra...   \n19                                                   NaN   \n23                                                   NaN   \n29                                           Chicago, IL   \n...                                                  ...   \n21987                                                NaN   \n21995                                                NaN   \n21996     Construction - Residential & Commercial/Office   \n21998                          Jernberg Industries, Inc.   \n21999                                                NaN   \n\n                                                  salary  \\\n13                                  9.00 - 13.00 $ /hour   \n14                         80,000.00 - 95,000.00 $ /year   \n19                         60,000.00 - 72,000.00 $ /year   \n23                          Excellent Pay and Incentives   \n29                        70,000.00 - 100,000.00 $ /year   \n...                                                  ...   \n21987                                  $80,000.00+ /year   \n21995               120,000.00 - 160,000.00 $ /yearbonus   \n21996                      45,000.00 - 60,000.00 $ /year   \n21998                              25.00 - 28.00 $ /hour   \n21999  40,000.00 - 46,000.00 $ /year+ annual bonus (u...   \n\n                                      sector         city  index state  \\\n13                               Entry Level      Houston  77098    TX   \n14      Building Construction/Skilled Trades      Houston    NaN    TX   \n19                 Experienced (Non-Manager)  Carter Lake  51510    IA   \n23                                       NaN       Denver  80215    CO   \n29                               Engineering          NaN    NaN   NaN   \n...                                      ...          ...    ...   ...   \n21987              Experienced (Non-Manager)      Chicago  60602    IL   \n21995                                    NaN   Cincinnati    NaN    OH   \n21996  Manager (Manager/Supervisor of Staff)   Cincinnati  45236    OH   \n21998        Installation/Maintenance/Repair      Chicago  60609    IL   \n21999              Experienced (Non-Manager)   Cincinnati    NaN    OH   \n\n             from          to interval                               bonuses  \\\n13           9.00       13.00    /hour                                   NaN   \n14      80,000.00   95,000.00    /year                                   NaN   \n19      60,000.00   72,000.00    /year                                   NaN   \n23            NaN         NaN      NaN          Excellent Pay and Incentives   \n29      70,000.00  100,000.00    /year                                   NaN   \n...           ...         ...      ...                                   ...   \n21987   80,000.00         NaN    /year                                   NaN   \n21995  120,000.00  160,000.00    /year                                 bonus   \n21996   45,000.00   60,000.00    /year                                   NaN   \n21998       25.00       28.00    /hour                                   NaN   \n21999   40,000.00   46,000.00    /year  + annual bonus (up to 15% of salary)   \n\n      offer_type  \n13       from_to  \n14       from_to  \n19       from_to  \n23           NaN  \n29       from_to  \n...          ...  \n21987       from  \n21995    from_to  \n21996    from_to  \n21998    from_to  \n21999    from_to  \n\n[3264 rows x 15 columns]",
      "text/html": "<div>\n<style scoped>\n    .dataframe tbody tr th:only-of-type {\n        vertical-align: middle;\n    }\n\n    .dataframe tbody tr th {\n        vertical-align: top;\n    }\n\n    .dataframe thead th {\n        text-align: right;\n    }\n</style>\n<table border=\"1\" class=\"dataframe\">\n  <thead>\n    <tr style=\"text-align: right;\">\n      <th></th>\n      <th>job_description</th>\n      <th>job_title</th>\n      <th>job_type</th>\n      <th>location</th>\n      <th>organization</th>\n      <th>salary</th>\n      <th>sector</th>\n      <th>city</th>\n      <th>index</th>\n      <th>state</th>\n      <th>from</th>\n      <th>to</th>\n      <th>interval</th>\n      <th>bonuses</th>\n      <th>offer_type</th>\n    </tr>\n  </thead>\n  <tbody>\n    <tr>\n      <th>13</th>\n      <td>Launch your teaching career with the Leader in...</td>\n      <td>Primrose Private Preschool Teacher Job in Houston</td>\n      <td>Full Time</td>\n      <td>Houston, TX 77098</td>\n      <td>Education</td>\n      <td>9.00 - 13.00 $ /hour</td>\n      <td>Entry Level</td>\n      <td>Houston</td>\n      <td>77098</td>\n      <td>TX</td>\n      <td>9.00</td>\n      <td>13.00</td>\n      <td>/hour</td>\n      <td>NaN</td>\n      <td>from_to</td>\n    </tr>\n    <tr>\n      <th>14</th>\n      <td>Construction Professional For more than 15 yea...</td>\n      <td>Superintendent Job in Houston</td>\n      <td>Full Time Employee</td>\n      <td>Houston, TX</td>\n      <td>Construction - Industrial Facilities and Infra...</td>\n      <td>80,000.00 - 95,000.00 $ /year</td>\n      <td>Building Construction/Skilled Trades</td>\n      <td>Houston</td>\n      <td>NaN</td>\n      <td>TX</td>\n      <td>80,000.00</td>\n      <td>95,000.00</td>\n      <td>/year</td>\n      <td>NaN</td>\n      <td>from_to</td>\n    </tr>\n    <tr>\n      <th>19</th>\n      <td>Competitive compensation package, excellent co...</td>\n      <td>Technician - Robot &amp; Multi-Axis CNC Field Serv...</td>\n      <td>Full Time</td>\n      <td>Carter Lake, IA 51510</td>\n      <td>NaN</td>\n      <td>60,000.00 - 72,000.00 $ /year</td>\n      <td>Experienced (Non-Manager)</td>\n      <td>Carter Lake</td>\n      <td>51510</td>\n      <td>IA</td>\n      <td>60,000.00</td>\n      <td>72,000.00</td>\n      <td>/year</td>\n      <td>NaN</td>\n      <td>from_to</td>\n    </tr>\n    <tr>\n      <th>23</th>\n      <td>Well respected, rapidly growing, and expandin...</td>\n      <td>Estimator - Construction Job in Denver</td>\n      <td>Full Time</td>\n      <td>Denver, CO 80215</td>\n      <td>NaN</td>\n      <td>Excellent Pay and Incentives</td>\n      <td>NaN</td>\n      <td>Denver</td>\n      <td>80215</td>\n      <td>CO</td>\n      <td>NaN</td>\n      <td>NaN</td>\n      <td>NaN</td>\n      <td>Excellent Pay and Incentives</td>\n      <td>NaN</td>\n    </tr>\n    <tr>\n      <th>29</th>\n      <td>Experis is working with a Pharmaceutical start...</td>\n      <td>Sr. Process Engineer</td>\n      <td>Full Time Employee</td>\n      <td>Sr. Process Engineer, Manufacturing</td>\n      <td>Chicago, IL</td>\n      <td>70,000.00 - 100,000.00 $ /year</td>\n      <td>Engineering</td>\n      <td>NaN</td>\n      <td>NaN</td>\n      <td>NaN</td>\n      <td>70,000.00</td>\n      <td>100,000.00</td>\n      <td>/year</td>\n      <td>NaN</td>\n      <td>from_to</td>\n    </tr>\n    <tr>\n      <th>...</th>\n      <td>...</td>\n      <td>...</td>\n      <td>...</td>\n      <td>...</td>\n      <td>...</td>\n      <td>...</td>\n      <td>...</td>\n      <td>...</td>\n      <td>...</td>\n      <td>...</td>\n      <td>...</td>\n      <td>...</td>\n      <td>...</td>\n      <td>...</td>\n      <td>...</td>\n    </tr>\n    <tr>\n      <th>21987</th>\n      <td>Own Your TerritoryAsk yourself these questions...</td>\n      <td>Experienced Territory Sales</td>\n      <td>Full Time</td>\n      <td>Chicago, IL 60602</td>\n      <td>NaN</td>\n      <td>$80,000.00+ /year</td>\n      <td>Experienced (Non-Manager)</td>\n      <td>Chicago</td>\n      <td>60602</td>\n      <td>IL</td>\n      <td>80,000.00</td>\n      <td>NaN</td>\n      <td>/year</td>\n      <td>NaN</td>\n      <td>from</td>\n    </tr>\n    <tr>\n      <th>21995</th>\n      <td>This is a major premier Cincinnati based finan...</td>\n      <td>Assistant Vice President - Controller Job in C...</td>\n      <td>Full Time</td>\n      <td>Cincinnati, OH</td>\n      <td>NaN</td>\n      <td>120,000.00 - 160,000.00 $ /yearbonus</td>\n      <td>NaN</td>\n      <td>Cincinnati</td>\n      <td>NaN</td>\n      <td>OH</td>\n      <td>120,000.00</td>\n      <td>160,000.00</td>\n      <td>/year</td>\n      <td>bonus</td>\n      <td>from_to</td>\n    </tr>\n    <tr>\n      <th>21996</th>\n      <td>Luxury homebuilder in Cincinnati seeking multi...</td>\n      <td>Accountant Job in Cincinnati</td>\n      <td>Full Time</td>\n      <td>Cincinnati, OH 45236</td>\n      <td>Construction - Residential &amp; Commercial/Office</td>\n      <td>45,000.00 - 60,000.00 $ /year</td>\n      <td>Manager (Manager/Supervisor of Staff)</td>\n      <td>Cincinnati</td>\n      <td>45236</td>\n      <td>OH</td>\n      <td>45,000.00</td>\n      <td>60,000.00</td>\n      <td>/year</td>\n      <td>NaN</td>\n      <td>from_to</td>\n    </tr>\n    <tr>\n      <th>21998</th>\n      <td>Jernberg Industries was established in 1937 an...</td>\n      <td>Electrician - Experienced Forging Electrician ...</td>\n      <td>Full Time Employee</td>\n      <td>Chicago, IL 60609</td>\n      <td>Jernberg Industries, Inc.</td>\n      <td>25.00 - 28.00 $ /hour</td>\n      <td>Installation/Maintenance/Repair</td>\n      <td>Chicago</td>\n      <td>60609</td>\n      <td>IL</td>\n      <td>25.00</td>\n      <td>28.00</td>\n      <td>/hour</td>\n      <td>NaN</td>\n      <td>from_to</td>\n    </tr>\n    <tr>\n      <th>21999</th>\n      <td>Contract AdministratorCan you be the point per...</td>\n      <td>Contract Administrator Job in Cincinnati</td>\n      <td>Full Time</td>\n      <td>Cincinnati, OH</td>\n      <td>NaN</td>\n      <td>40,000.00 - 46,000.00 $ /year+ annual bonus (u...</td>\n      <td>Experienced (Non-Manager)</td>\n      <td>Cincinnati</td>\n      <td>NaN</td>\n      <td>OH</td>\n      <td>40,000.00</td>\n      <td>46,000.00</td>\n      <td>/year</td>\n      <td>+ annual bonus (up to 15% of salary)</td>\n      <td>from_to</td>\n    </tr>\n  </tbody>\n</table>\n<p>3264 rows × 15 columns</p>\n</div>"
     },
     "execution_count": 293,
     "metadata": {},
     "output_type": "execute_result"
    }
   ],
   "source": [
    "monster_tmp = monster_clear.copy()\n",
    "cols = ['from', 'to', 'interval', 'bonuses', 'offer_type']\n",
    "for col in cols:\n",
    "    monster_tmp[col] = None\n",
    "\n",
    "\n",
    "regexs = [type_1_2, type_3, type_4, type_5]\n",
    "offer_types = ['from_to', 'fixed', 'from',  'from']\n",
    "bonuses = salary.copy()\n",
    "\n",
    "for reg, offer_type in zip(regexs, offer_types):\n",
    "    # Подготовим  extract и заполним na\n",
    "    extract = salary.str.extract(reg)\n",
    "    extract.dropna(inplace=True)\n",
    "    extract['offer_type'] = offer_type\n",
    "    monster_tmp.fillna(extract, inplace=True)\n",
    "    indexes = extract.index\n",
    "    bonuses = bonuses.str.replace(reg, '', regex=True)\n",
    "\n",
    "\n",
    "\n",
    "\n",
    "regexs = [without_date_interval, without_date_single]\n",
    "offer_types = ['from_to', 'fixed']\n",
    "\n",
    "\n",
    "for reg, offer_type in zip(regexs, offer_types):\n",
    "    # Подготовим  extract и заполним na\n",
    "    extract = salary.str.extract(reg)\n",
    "    extract.dropna(inplace=True)\n",
    "    extract['offer_type'] = offer_type\n",
    "    monster_tmp.fillna(extract, inplace=True)\n",
    "\n",
    "    # Запишем интервал на основании числа\n",
    "    mask = series_to_float(extract['from']) > 20000\n",
    "    year_indexes = extract.index[mask].tolist()\n",
    "    day_indexes = extract.index[~mask].tolist()\n",
    "    monster_tmp.loc[year_indexes, 'interval'] = '\\year'\n",
    "    monster_tmp.loc[day_indexes, 'interval'] = '\\day'\n",
    "    bonuses = bonuses.str.replace(reg, '', regex=True)\n",
    "\n",
    "# Добавим бонусы\n",
    "bonuses = bonuses.replace(r'^\\s*$', np.nan, regex=True)\n",
    "bonuses.rename('bonuses', inplace=True)\n",
    "monster_tmp.fillna(bonuses.to_frame(), inplace=True)\n",
    "\n",
    "# Вывдеем результат\n",
    "monster_tmp.loc[salary.index]"
   ],
   "metadata": {
    "collapsed": false,
    "pycharm": {
     "name": "#%%\n"
    }
   }
  },
  {
   "cell_type": "code",
   "execution_count": 294,
   "outputs": [],
   "source": [
    "monster_clear = monster_tmp"
   ],
   "metadata": {
    "collapsed": false,
    "pycharm": {
     "name": "#%%\n"
    }
   }
  },
  {
   "cell_type": "markdown",
   "source": [
    "#### Обработка колонки job_type"
   ],
   "metadata": {
    "id": "cQZa1dUvXPZc",
    "pycharm": {
     "name": "#%% md\n"
    }
   }
  },
  {
   "cell_type": "markdown",
   "source": [
    "Выясните, какие форматы значений есть в столбце `job_type`. Сделайте выводы. При необходимости – стройте графики."
   ],
   "metadata": {
    "id": "P1m2mtTTBOVp",
    "pycharm": {
     "name": "#%% md\n"
    }
   }
  },
  {
   "cell_type": "code",
   "source": [
    "monster_clear['job_type']"
   ],
   "metadata": {
    "id": "PbFXp8J6BN--",
    "pycharm": {
     "name": "#%%\n"
    }
   },
   "execution_count": 295,
   "outputs": [
    {
     "data": {
      "text/plain": "0         Full Time Employee\n1                  Full Time\n2        Full Time, Employee\n3                  Full Time\n4         Full Time Employee\n                ...         \n21995              Full Time\n21996              Full Time\n21997              Full Time\n21998     Full Time Employee\n21999              Full Time\nName: job_type, Length: 19953, dtype: object"
     },
     "execution_count": 295,
     "metadata": {},
     "output_type": "execute_result"
    }
   ]
  },
  {
   "cell_type": "markdown",
   "source": [
    "* Full Time<,><разное количество пробелов> Employee\n",
    "* Full time<Пусто>\n",
    "* Part time <,><разное количество пробелов> Employee\n",
    "* Full Time Temporary/Contract/Project\n",
    "* Temporary/Contract/Project"
   ],
   "metadata": {
    "collapsed": false,
    "pycharm": {
     "name": "#%% md\n"
    }
   }
  },
  {
   "cell_type": "markdown",
   "source": [
    "Вы заметили, что многие значения фактически одинаковые, но немного по-разному отформатированы? Приведем их к единому формату."
   ],
   "metadata": {
    "id": "CpUXRxhoXsdy",
    "pycharm": {
     "name": "#%% md\n"
    }
   }
  },
  {
   "cell_type": "code",
   "source": [
    "s_r = '\\s*'\n",
    "full_time_r = rf'(?i)full time'\n",
    "part_time_r = rf'(?i)part time'\n",
    "employee_r = rf'(?i)employee'\n",
    "intern_r = rf'(?i)intern'\n",
    "\n",
    "def get_employment_business(s):\n",
    "    if re.search(full_time_r, s):\n",
    "        return 'full'\n",
    "    elif re.search(part_time_r, s):\n",
    "        return 'partial'\n",
    "    else:\n",
    "        return None\n",
    "\n",
    "def get_employment_type(s):\n",
    "    if re.search(employee_r, s):\n",
    "        return 'employee'\n",
    "    elif re.search(intern_r, s):\n",
    "        return 'intern'\n",
    "    else:\n",
    "        return None"
   ],
   "metadata": {
    "id": "ejRYjjC7WIES",
    "pycharm": {
     "name": "#%%\n"
    }
   },
   "execution_count": 296,
   "outputs": []
  },
  {
   "cell_type": "markdown",
   "source": [
    "Теперь видно, что тип работы состоит из двух частей: полноты занятости (Full Time, Part Time, ...) и типа занятости (Employee, Intern, ...). Встречаются неполные записи. Будем считать по умолчанию полноту занятости Full Time и тип занятости Employee и разделим эту колонку на две."
   ],
   "metadata": {
    "collapsed": false,
    "pycharm": {
     "name": "#%% md\n"
    }
   }
  },
  {
   "cell_type": "code",
   "execution_count": 297,
   "outputs": [
    {
     "data": {
      "text/plain": "                  job_type employment_business employment_type\n0       Full Time Employee                full        employee\n1                Full Time                full             NaN\n2      Full Time, Employee                full        employee\n3                Full Time                full             NaN\n4       Full Time Employee                full        employee\n...                    ...                 ...             ...\n21995            Full Time                full             NaN\n21996            Full Time                full             NaN\n21997            Full Time                full             NaN\n21998   Full Time Employee                full        employee\n21999            Full Time                full             NaN\n\n[19953 rows x 3 columns]",
      "text/html": "<div>\n<style scoped>\n    .dataframe tbody tr th:only-of-type {\n        vertical-align: middle;\n    }\n\n    .dataframe tbody tr th {\n        vertical-align: top;\n    }\n\n    .dataframe thead th {\n        text-align: right;\n    }\n</style>\n<table border=\"1\" class=\"dataframe\">\n  <thead>\n    <tr style=\"text-align: right;\">\n      <th></th>\n      <th>job_type</th>\n      <th>employment_business</th>\n      <th>employment_type</th>\n    </tr>\n  </thead>\n  <tbody>\n    <tr>\n      <th>0</th>\n      <td>Full Time Employee</td>\n      <td>full</td>\n      <td>employee</td>\n    </tr>\n    <tr>\n      <th>1</th>\n      <td>Full Time</td>\n      <td>full</td>\n      <td>NaN</td>\n    </tr>\n    <tr>\n      <th>2</th>\n      <td>Full Time, Employee</td>\n      <td>full</td>\n      <td>employee</td>\n    </tr>\n    <tr>\n      <th>3</th>\n      <td>Full Time</td>\n      <td>full</td>\n      <td>NaN</td>\n    </tr>\n    <tr>\n      <th>4</th>\n      <td>Full Time Employee</td>\n      <td>full</td>\n      <td>employee</td>\n    </tr>\n    <tr>\n      <th>...</th>\n      <td>...</td>\n      <td>...</td>\n      <td>...</td>\n    </tr>\n    <tr>\n      <th>21995</th>\n      <td>Full Time</td>\n      <td>full</td>\n      <td>NaN</td>\n    </tr>\n    <tr>\n      <th>21996</th>\n      <td>Full Time</td>\n      <td>full</td>\n      <td>NaN</td>\n    </tr>\n    <tr>\n      <th>21997</th>\n      <td>Full Time</td>\n      <td>full</td>\n      <td>NaN</td>\n    </tr>\n    <tr>\n      <th>21998</th>\n      <td>Full Time Employee</td>\n      <td>full</td>\n      <td>employee</td>\n    </tr>\n    <tr>\n      <th>21999</th>\n      <td>Full Time</td>\n      <td>full</td>\n      <td>NaN</td>\n    </tr>\n  </tbody>\n</table>\n<p>19953 rows × 3 columns</p>\n</div>"
     },
     "execution_count": 297,
     "metadata": {},
     "output_type": "execute_result"
    }
   ],
   "source": [
    "monster_tmp = monster_clear.copy()\n",
    "monster_tmp['employment_business'] = None\n",
    "monster_tmp['employment_type'] = None\n",
    "jobs_without_na = monster_tmp.loc[monster_tmp['job_type'].notna(), 'job_type']\n",
    "\n",
    "pairs = [(get_employment_type, 'employment_type'), (get_employment_business, 'employment_business')]\n",
    "for func, col_name in pairs:\n",
    "    parsed_data = jobs_without_na.apply(func)\n",
    "    parsed_data.rename(col_name, inplace=True)\n",
    "    monster_tmp.fillna(parsed_data.to_frame(), inplace=True)\n",
    "monster_tmp[['job_type', 'employment_business', 'employment_type']]"
   ],
   "metadata": {
    "collapsed": false,
    "pycharm": {
     "name": "#%%\n"
    }
   }
  },
  {
   "cell_type": "code",
   "execution_count": 298,
   "outputs": [
    {
     "data": {
      "text/plain": "                                         job_description  \\\n0      TeamSoft is seeing an IT Support Specialist to...   \n1      The Wisconsin State Journal is seeking a flexi...   \n2      Report this job About the Job DePuy Synthes Co...   \n3      Why Join Altec? If you’re considering a career...   \n4      Position ID#  76162 # Positions  1 State  CT C...   \n...                                                  ...   \n21995  This is a major premier Cincinnati based finan...   \n21996  Luxury homebuilder in Cincinnati seeking multi...   \n21997  RE: Adobe AEM-          Client -          Loca...   \n21998  Jernberg Industries was established in 1937 an...   \n21999  Contract AdministratorCan you be the point per...   \n\n                                               job_title             job_type  \\\n0                   IT Support Technician Job in Madison   Full Time Employee   \n1                Business Reporter/Editor Job in Madison            Full Time   \n2      Johnson & Johnson Family of Companies Job Appl...  Full Time, Employee   \n3                        Engineer - Quality Job in Dixon            Full Time   \n4           Shift Supervisor - Part-Time Job in Camphill   Full Time Employee   \n...                                                  ...                  ...   \n21995  Assistant Vice President - Controller Job in C...            Full Time   \n21996                       Accountant Job in Cincinnati            Full Time   \n21997                    AEM/CQ developer Job in Chicago            Full Time   \n21998  Electrician - Experienced Forging Electrician ...   Full Time Employee   \n21999           Contract Administrator Job in Cincinnati            Full Time   \n\n                                                location  \\\n0                                      Madison, WI 53702   \n1                                      Madison, WI 53708   \n2      DePuy Synthes Companies is a member of Johnson...   \n3                                              Dixon, CA   \n4                                           Camphill, PA   \n...                                                  ...   \n21995                                     Cincinnati, OH   \n21996                               Cincinnati, OH 45236   \n21997                                  Chicago, IL 60602   \n21998                                  Chicago, IL 60609   \n21999                                     Cincinnati, OH   \n\n                                         organization  \\\n0                                                 NaN   \n1                             Printing and Publishing   \n2                     Personal and Household Services   \n3                                    Altec Industries   \n4                                              Retail   \n...                                               ...   \n21995                                             NaN   \n21996  Construction - Residential & Commercial/Office   \n21997                                             NaN   \n21998                       Jernberg Industries, Inc.   \n21999                                             NaN   \n\n                                                  salary  \\\n0                                                    NaN   \n1                                                    NaN   \n2                                                    NaN   \n3                                                    NaN   \n4                                                    NaN   \n...                                                  ...   \n21995               120,000.00 - 160,000.00 $ /yearbonus   \n21996                      45,000.00 - 60,000.00 $ /year   \n21997                                                NaN   \n21998                              25.00 - 28.00 $ /hour   \n21999  40,000.00 - 46,000.00 $ /year+ annual bonus (u...   \n\n                                      sector        city  index state  \\\n0                    IT/Software Development     Madison  53702    WI   \n1                                        NaN     Madison  53708    WI   \n2                                        NaN         NaN    NaN   NaN   \n3                  Experienced (Non-Manager)       Dixon    NaN    CA   \n4                 Project/Program Management    Camphill    NaN    PA   \n...                                      ...         ...    ...   ...   \n21995                                    NaN  Cincinnati    NaN    OH   \n21996  Manager (Manager/Supervisor of Staff)  Cincinnati  45236    OH   \n21997                                    NaN     Chicago  60602    IL   \n21998        Installation/Maintenance/Repair     Chicago  60609    IL   \n21999              Experienced (Non-Manager)  Cincinnati    NaN    OH   \n\n             from          to interval                               bonuses  \\\n0             NaN         NaN      NaN                                   NaN   \n1             NaN         NaN      NaN                                   NaN   \n2             NaN         NaN      NaN                                   NaN   \n3             NaN         NaN      NaN                                   NaN   \n4             NaN         NaN      NaN                                   NaN   \n...           ...         ...      ...                                   ...   \n21995  120,000.00  160,000.00    /year                                 bonus   \n21996   45,000.00   60,000.00    /year                                   NaN   \n21997         NaN         NaN      NaN                                   NaN   \n21998       25.00       28.00    /hour                                   NaN   \n21999   40,000.00   46,000.00    /year  + annual bonus (up to 15% of salary)   \n\n      offer_type employment_business employment_type  \n0            NaN                full        employee  \n1            NaN                full             NaN  \n2            NaN                full        employee  \n3            NaN                full             NaN  \n4            NaN                full        employee  \n...          ...                 ...             ...  \n21995    from_to                full             NaN  \n21996    from_to                full             NaN  \n21997        NaN                full             NaN  \n21998    from_to                full        employee  \n21999    from_to                full             NaN  \n\n[19953 rows x 17 columns]",
      "text/html": "<div>\n<style scoped>\n    .dataframe tbody tr th:only-of-type {\n        vertical-align: middle;\n    }\n\n    .dataframe tbody tr th {\n        vertical-align: top;\n    }\n\n    .dataframe thead th {\n        text-align: right;\n    }\n</style>\n<table border=\"1\" class=\"dataframe\">\n  <thead>\n    <tr style=\"text-align: right;\">\n      <th></th>\n      <th>job_description</th>\n      <th>job_title</th>\n      <th>job_type</th>\n      <th>location</th>\n      <th>organization</th>\n      <th>salary</th>\n      <th>sector</th>\n      <th>city</th>\n      <th>index</th>\n      <th>state</th>\n      <th>from</th>\n      <th>to</th>\n      <th>interval</th>\n      <th>bonuses</th>\n      <th>offer_type</th>\n      <th>employment_business</th>\n      <th>employment_type</th>\n    </tr>\n  </thead>\n  <tbody>\n    <tr>\n      <th>0</th>\n      <td>TeamSoft is seeing an IT Support Specialist to...</td>\n      <td>IT Support Technician Job in Madison</td>\n      <td>Full Time Employee</td>\n      <td>Madison, WI 53702</td>\n      <td>NaN</td>\n      <td>NaN</td>\n      <td>IT/Software Development</td>\n      <td>Madison</td>\n      <td>53702</td>\n      <td>WI</td>\n      <td>NaN</td>\n      <td>NaN</td>\n      <td>NaN</td>\n      <td>NaN</td>\n      <td>NaN</td>\n      <td>full</td>\n      <td>employee</td>\n    </tr>\n    <tr>\n      <th>1</th>\n      <td>The Wisconsin State Journal is seeking a flexi...</td>\n      <td>Business Reporter/Editor Job in Madison</td>\n      <td>Full Time</td>\n      <td>Madison, WI 53708</td>\n      <td>Printing and Publishing</td>\n      <td>NaN</td>\n      <td>NaN</td>\n      <td>Madison</td>\n      <td>53708</td>\n      <td>WI</td>\n      <td>NaN</td>\n      <td>NaN</td>\n      <td>NaN</td>\n      <td>NaN</td>\n      <td>NaN</td>\n      <td>full</td>\n      <td>NaN</td>\n    </tr>\n    <tr>\n      <th>2</th>\n      <td>Report this job About the Job DePuy Synthes Co...</td>\n      <td>Johnson &amp; Johnson Family of Companies Job Appl...</td>\n      <td>Full Time, Employee</td>\n      <td>DePuy Synthes Companies is a member of Johnson...</td>\n      <td>Personal and Household Services</td>\n      <td>NaN</td>\n      <td>NaN</td>\n      <td>NaN</td>\n      <td>NaN</td>\n      <td>NaN</td>\n      <td>NaN</td>\n      <td>NaN</td>\n      <td>NaN</td>\n      <td>NaN</td>\n      <td>NaN</td>\n      <td>full</td>\n      <td>employee</td>\n    </tr>\n    <tr>\n      <th>3</th>\n      <td>Why Join Altec? If you’re considering a career...</td>\n      <td>Engineer - Quality Job in Dixon</td>\n      <td>Full Time</td>\n      <td>Dixon, CA</td>\n      <td>Altec Industries</td>\n      <td>NaN</td>\n      <td>Experienced (Non-Manager)</td>\n      <td>Dixon</td>\n      <td>NaN</td>\n      <td>CA</td>\n      <td>NaN</td>\n      <td>NaN</td>\n      <td>NaN</td>\n      <td>NaN</td>\n      <td>NaN</td>\n      <td>full</td>\n      <td>NaN</td>\n    </tr>\n    <tr>\n      <th>4</th>\n      <td>Position ID#  76162 # Positions  1 State  CT C...</td>\n      <td>Shift Supervisor - Part-Time Job in Camphill</td>\n      <td>Full Time Employee</td>\n      <td>Camphill, PA</td>\n      <td>Retail</td>\n      <td>NaN</td>\n      <td>Project/Program Management</td>\n      <td>Camphill</td>\n      <td>NaN</td>\n      <td>PA</td>\n      <td>NaN</td>\n      <td>NaN</td>\n      <td>NaN</td>\n      <td>NaN</td>\n      <td>NaN</td>\n      <td>full</td>\n      <td>employee</td>\n    </tr>\n    <tr>\n      <th>...</th>\n      <td>...</td>\n      <td>...</td>\n      <td>...</td>\n      <td>...</td>\n      <td>...</td>\n      <td>...</td>\n      <td>...</td>\n      <td>...</td>\n      <td>...</td>\n      <td>...</td>\n      <td>...</td>\n      <td>...</td>\n      <td>...</td>\n      <td>...</td>\n      <td>...</td>\n      <td>...</td>\n      <td>...</td>\n    </tr>\n    <tr>\n      <th>21995</th>\n      <td>This is a major premier Cincinnati based finan...</td>\n      <td>Assistant Vice President - Controller Job in C...</td>\n      <td>Full Time</td>\n      <td>Cincinnati, OH</td>\n      <td>NaN</td>\n      <td>120,000.00 - 160,000.00 $ /yearbonus</td>\n      <td>NaN</td>\n      <td>Cincinnati</td>\n      <td>NaN</td>\n      <td>OH</td>\n      <td>120,000.00</td>\n      <td>160,000.00</td>\n      <td>/year</td>\n      <td>bonus</td>\n      <td>from_to</td>\n      <td>full</td>\n      <td>NaN</td>\n    </tr>\n    <tr>\n      <th>21996</th>\n      <td>Luxury homebuilder in Cincinnati seeking multi...</td>\n      <td>Accountant Job in Cincinnati</td>\n      <td>Full Time</td>\n      <td>Cincinnati, OH 45236</td>\n      <td>Construction - Residential &amp; Commercial/Office</td>\n      <td>45,000.00 - 60,000.00 $ /year</td>\n      <td>Manager (Manager/Supervisor of Staff)</td>\n      <td>Cincinnati</td>\n      <td>45236</td>\n      <td>OH</td>\n      <td>45,000.00</td>\n      <td>60,000.00</td>\n      <td>/year</td>\n      <td>NaN</td>\n      <td>from_to</td>\n      <td>full</td>\n      <td>NaN</td>\n    </tr>\n    <tr>\n      <th>21997</th>\n      <td>RE: Adobe AEM-          Client -          Loca...</td>\n      <td>AEM/CQ developer Job in Chicago</td>\n      <td>Full Time</td>\n      <td>Chicago, IL 60602</td>\n      <td>NaN</td>\n      <td>NaN</td>\n      <td>NaN</td>\n      <td>Chicago</td>\n      <td>60602</td>\n      <td>IL</td>\n      <td>NaN</td>\n      <td>NaN</td>\n      <td>NaN</td>\n      <td>NaN</td>\n      <td>NaN</td>\n      <td>full</td>\n      <td>NaN</td>\n    </tr>\n    <tr>\n      <th>21998</th>\n      <td>Jernberg Industries was established in 1937 an...</td>\n      <td>Electrician - Experienced Forging Electrician ...</td>\n      <td>Full Time Employee</td>\n      <td>Chicago, IL 60609</td>\n      <td>Jernberg Industries, Inc.</td>\n      <td>25.00 - 28.00 $ /hour</td>\n      <td>Installation/Maintenance/Repair</td>\n      <td>Chicago</td>\n      <td>60609</td>\n      <td>IL</td>\n      <td>25.00</td>\n      <td>28.00</td>\n      <td>/hour</td>\n      <td>NaN</td>\n      <td>from_to</td>\n      <td>full</td>\n      <td>employee</td>\n    </tr>\n    <tr>\n      <th>21999</th>\n      <td>Contract AdministratorCan you be the point per...</td>\n      <td>Contract Administrator Job in Cincinnati</td>\n      <td>Full Time</td>\n      <td>Cincinnati, OH</td>\n      <td>NaN</td>\n      <td>40,000.00 - 46,000.00 $ /year+ annual bonus (u...</td>\n      <td>Experienced (Non-Manager)</td>\n      <td>Cincinnati</td>\n      <td>NaN</td>\n      <td>OH</td>\n      <td>40,000.00</td>\n      <td>46,000.00</td>\n      <td>/year</td>\n      <td>+ annual bonus (up to 15% of salary)</td>\n      <td>from_to</td>\n      <td>full</td>\n      <td>NaN</td>\n    </tr>\n  </tbody>\n</table>\n<p>19953 rows × 17 columns</p>\n</div>"
     },
     "execution_count": 298,
     "metadata": {},
     "output_type": "execute_result"
    }
   ],
   "source": [
    "monster_tmp"
   ],
   "metadata": {
    "collapsed": false,
    "pycharm": {
     "name": "#%%\n"
    }
   }
  },
  {
   "cell_type": "code",
   "execution_count": 299,
   "outputs": [
    {
     "data": {
      "text/plain": "                                         job_description  \\\n0      TeamSoft is seeing an IT Support Specialist to...   \n1      The Wisconsin State Journal is seeking a flexi...   \n2      Report this job About the Job DePuy Synthes Co...   \n3      Why Join Altec? If you’re considering a career...   \n4      Position ID#  76162 # Positions  1 State  CT C...   \n...                                                  ...   \n21995  This is a major premier Cincinnati based finan...   \n21996  Luxury homebuilder in Cincinnati seeking multi...   \n21997  RE: Adobe AEM-          Client -          Loca...   \n21998  Jernberg Industries was established in 1937 an...   \n21999  Contract AdministratorCan you be the point per...   \n\n                                               job_title             job_type  \\\n0                   IT Support Technician Job in Madison   Full Time Employee   \n1                Business Reporter/Editor Job in Madison            Full Time   \n2      Johnson & Johnson Family of Companies Job Appl...  Full Time, Employee   \n3                        Engineer - Quality Job in Dixon            Full Time   \n4           Shift Supervisor - Part-Time Job in Camphill   Full Time Employee   \n...                                                  ...                  ...   \n21995  Assistant Vice President - Controller Job in C...            Full Time   \n21996                       Accountant Job in Cincinnati            Full Time   \n21997                    AEM/CQ developer Job in Chicago            Full Time   \n21998  Electrician - Experienced Forging Electrician ...   Full Time Employee   \n21999           Contract Administrator Job in Cincinnati            Full Time   \n\n                                                location  \\\n0                                      Madison, WI 53702   \n1                                      Madison, WI 53708   \n2      DePuy Synthes Companies is a member of Johnson...   \n3                                              Dixon, CA   \n4                                           Camphill, PA   \n...                                                  ...   \n21995                                     Cincinnati, OH   \n21996                               Cincinnati, OH 45236   \n21997                                  Chicago, IL 60602   \n21998                                  Chicago, IL 60609   \n21999                                     Cincinnati, OH   \n\n                                         organization  \\\n0                                                 NaN   \n1                             Printing and Publishing   \n2                     Personal and Household Services   \n3                                    Altec Industries   \n4                                              Retail   \n...                                               ...   \n21995                                             NaN   \n21996  Construction - Residential & Commercial/Office   \n21997                                             NaN   \n21998                       Jernberg Industries, Inc.   \n21999                                             NaN   \n\n                                                  salary  \\\n0                                                    NaN   \n1                                                    NaN   \n2                                                    NaN   \n3                                                    NaN   \n4                                                    NaN   \n...                                                  ...   \n21995               120,000.00 - 160,000.00 $ /yearbonus   \n21996                      45,000.00 - 60,000.00 $ /year   \n21997                                                NaN   \n21998                              25.00 - 28.00 $ /hour   \n21999  40,000.00 - 46,000.00 $ /year+ annual bonus (u...   \n\n                                      sector        city  index state  \\\n0                    IT/Software Development     Madison  53702    WI   \n1                                        NaN     Madison  53708    WI   \n2                                        NaN         NaN    NaN   NaN   \n3                  Experienced (Non-Manager)       Dixon    NaN    CA   \n4                 Project/Program Management    Camphill    NaN    PA   \n...                                      ...         ...    ...   ...   \n21995                                    NaN  Cincinnati    NaN    OH   \n21996  Manager (Manager/Supervisor of Staff)  Cincinnati  45236    OH   \n21997                                    NaN     Chicago  60602    IL   \n21998        Installation/Maintenance/Repair     Chicago  60609    IL   \n21999              Experienced (Non-Manager)  Cincinnati    NaN    OH   \n\n             from          to interval                               bonuses  \\\n0             NaN         NaN      NaN                                   NaN   \n1             NaN         NaN      NaN                                   NaN   \n2             NaN         NaN      NaN                                   NaN   \n3             NaN         NaN      NaN                                   NaN   \n4             NaN         NaN      NaN                                   NaN   \n...           ...         ...      ...                                   ...   \n21995  120,000.00  160,000.00    /year                                 bonus   \n21996   45,000.00   60,000.00    /year                                   NaN   \n21997         NaN         NaN      NaN                                   NaN   \n21998       25.00       28.00    /hour                                   NaN   \n21999   40,000.00   46,000.00    /year  + annual bonus (up to 15% of salary)   \n\n      offer_type employment_business employment_type  \n0            NaN                full        employee  \n1            NaN                full             NaN  \n2            NaN                full        employee  \n3            NaN                full             NaN  \n4            NaN                full        employee  \n...          ...                 ...             ...  \n21995    from_to                full             NaN  \n21996    from_to                full             NaN  \n21997        NaN                full             NaN  \n21998    from_to                full        employee  \n21999    from_to                full             NaN  \n\n[19953 rows x 17 columns]",
      "text/html": "<div>\n<style scoped>\n    .dataframe tbody tr th:only-of-type {\n        vertical-align: middle;\n    }\n\n    .dataframe tbody tr th {\n        vertical-align: top;\n    }\n\n    .dataframe thead th {\n        text-align: right;\n    }\n</style>\n<table border=\"1\" class=\"dataframe\">\n  <thead>\n    <tr style=\"text-align: right;\">\n      <th></th>\n      <th>job_description</th>\n      <th>job_title</th>\n      <th>job_type</th>\n      <th>location</th>\n      <th>organization</th>\n      <th>salary</th>\n      <th>sector</th>\n      <th>city</th>\n      <th>index</th>\n      <th>state</th>\n      <th>from</th>\n      <th>to</th>\n      <th>interval</th>\n      <th>bonuses</th>\n      <th>offer_type</th>\n      <th>employment_business</th>\n      <th>employment_type</th>\n    </tr>\n  </thead>\n  <tbody>\n    <tr>\n      <th>0</th>\n      <td>TeamSoft is seeing an IT Support Specialist to...</td>\n      <td>IT Support Technician Job in Madison</td>\n      <td>Full Time Employee</td>\n      <td>Madison, WI 53702</td>\n      <td>NaN</td>\n      <td>NaN</td>\n      <td>IT/Software Development</td>\n      <td>Madison</td>\n      <td>53702</td>\n      <td>WI</td>\n      <td>NaN</td>\n      <td>NaN</td>\n      <td>NaN</td>\n      <td>NaN</td>\n      <td>NaN</td>\n      <td>full</td>\n      <td>employee</td>\n    </tr>\n    <tr>\n      <th>1</th>\n      <td>The Wisconsin State Journal is seeking a flexi...</td>\n      <td>Business Reporter/Editor Job in Madison</td>\n      <td>Full Time</td>\n      <td>Madison, WI 53708</td>\n      <td>Printing and Publishing</td>\n      <td>NaN</td>\n      <td>NaN</td>\n      <td>Madison</td>\n      <td>53708</td>\n      <td>WI</td>\n      <td>NaN</td>\n      <td>NaN</td>\n      <td>NaN</td>\n      <td>NaN</td>\n      <td>NaN</td>\n      <td>full</td>\n      <td>NaN</td>\n    </tr>\n    <tr>\n      <th>2</th>\n      <td>Report this job About the Job DePuy Synthes Co...</td>\n      <td>Johnson &amp; Johnson Family of Companies Job Appl...</td>\n      <td>Full Time, Employee</td>\n      <td>DePuy Synthes Companies is a member of Johnson...</td>\n      <td>Personal and Household Services</td>\n      <td>NaN</td>\n      <td>NaN</td>\n      <td>NaN</td>\n      <td>NaN</td>\n      <td>NaN</td>\n      <td>NaN</td>\n      <td>NaN</td>\n      <td>NaN</td>\n      <td>NaN</td>\n      <td>NaN</td>\n      <td>full</td>\n      <td>employee</td>\n    </tr>\n    <tr>\n      <th>3</th>\n      <td>Why Join Altec? If you’re considering a career...</td>\n      <td>Engineer - Quality Job in Dixon</td>\n      <td>Full Time</td>\n      <td>Dixon, CA</td>\n      <td>Altec Industries</td>\n      <td>NaN</td>\n      <td>Experienced (Non-Manager)</td>\n      <td>Dixon</td>\n      <td>NaN</td>\n      <td>CA</td>\n      <td>NaN</td>\n      <td>NaN</td>\n      <td>NaN</td>\n      <td>NaN</td>\n      <td>NaN</td>\n      <td>full</td>\n      <td>NaN</td>\n    </tr>\n    <tr>\n      <th>4</th>\n      <td>Position ID#  76162 # Positions  1 State  CT C...</td>\n      <td>Shift Supervisor - Part-Time Job in Camphill</td>\n      <td>Full Time Employee</td>\n      <td>Camphill, PA</td>\n      <td>Retail</td>\n      <td>NaN</td>\n      <td>Project/Program Management</td>\n      <td>Camphill</td>\n      <td>NaN</td>\n      <td>PA</td>\n      <td>NaN</td>\n      <td>NaN</td>\n      <td>NaN</td>\n      <td>NaN</td>\n      <td>NaN</td>\n      <td>full</td>\n      <td>employee</td>\n    </tr>\n    <tr>\n      <th>...</th>\n      <td>...</td>\n      <td>...</td>\n      <td>...</td>\n      <td>...</td>\n      <td>...</td>\n      <td>...</td>\n      <td>...</td>\n      <td>...</td>\n      <td>...</td>\n      <td>...</td>\n      <td>...</td>\n      <td>...</td>\n      <td>...</td>\n      <td>...</td>\n      <td>...</td>\n      <td>...</td>\n      <td>...</td>\n    </tr>\n    <tr>\n      <th>21995</th>\n      <td>This is a major premier Cincinnati based finan...</td>\n      <td>Assistant Vice President - Controller Job in C...</td>\n      <td>Full Time</td>\n      <td>Cincinnati, OH</td>\n      <td>NaN</td>\n      <td>120,000.00 - 160,000.00 $ /yearbonus</td>\n      <td>NaN</td>\n      <td>Cincinnati</td>\n      <td>NaN</td>\n      <td>OH</td>\n      <td>120,000.00</td>\n      <td>160,000.00</td>\n      <td>/year</td>\n      <td>bonus</td>\n      <td>from_to</td>\n      <td>full</td>\n      <td>NaN</td>\n    </tr>\n    <tr>\n      <th>21996</th>\n      <td>Luxury homebuilder in Cincinnati seeking multi...</td>\n      <td>Accountant Job in Cincinnati</td>\n      <td>Full Time</td>\n      <td>Cincinnati, OH 45236</td>\n      <td>Construction - Residential &amp; Commercial/Office</td>\n      <td>45,000.00 - 60,000.00 $ /year</td>\n      <td>Manager (Manager/Supervisor of Staff)</td>\n      <td>Cincinnati</td>\n      <td>45236</td>\n      <td>OH</td>\n      <td>45,000.00</td>\n      <td>60,000.00</td>\n      <td>/year</td>\n      <td>NaN</td>\n      <td>from_to</td>\n      <td>full</td>\n      <td>NaN</td>\n    </tr>\n    <tr>\n      <th>21997</th>\n      <td>RE: Adobe AEM-          Client -          Loca...</td>\n      <td>AEM/CQ developer Job in Chicago</td>\n      <td>Full Time</td>\n      <td>Chicago, IL 60602</td>\n      <td>NaN</td>\n      <td>NaN</td>\n      <td>NaN</td>\n      <td>Chicago</td>\n      <td>60602</td>\n      <td>IL</td>\n      <td>NaN</td>\n      <td>NaN</td>\n      <td>NaN</td>\n      <td>NaN</td>\n      <td>NaN</td>\n      <td>full</td>\n      <td>NaN</td>\n    </tr>\n    <tr>\n      <th>21998</th>\n      <td>Jernberg Industries was established in 1937 an...</td>\n      <td>Electrician - Experienced Forging Electrician ...</td>\n      <td>Full Time Employee</td>\n      <td>Chicago, IL 60609</td>\n      <td>Jernberg Industries, Inc.</td>\n      <td>25.00 - 28.00 $ /hour</td>\n      <td>Installation/Maintenance/Repair</td>\n      <td>Chicago</td>\n      <td>60609</td>\n      <td>IL</td>\n      <td>25.00</td>\n      <td>28.00</td>\n      <td>/hour</td>\n      <td>NaN</td>\n      <td>from_to</td>\n      <td>full</td>\n      <td>employee</td>\n    </tr>\n    <tr>\n      <th>21999</th>\n      <td>Contract AdministratorCan you be the point per...</td>\n      <td>Contract Administrator Job in Cincinnati</td>\n      <td>Full Time</td>\n      <td>Cincinnati, OH</td>\n      <td>NaN</td>\n      <td>40,000.00 - 46,000.00 $ /year+ annual bonus (u...</td>\n      <td>Experienced (Non-Manager)</td>\n      <td>Cincinnati</td>\n      <td>NaN</td>\n      <td>OH</td>\n      <td>40,000.00</td>\n      <td>46,000.00</td>\n      <td>/year</td>\n      <td>+ annual bonus (up to 15% of salary)</td>\n      <td>from_to</td>\n      <td>full</td>\n      <td>NaN</td>\n    </tr>\n  </tbody>\n</table>\n<p>19953 rows × 17 columns</p>\n</div>"
     },
     "execution_count": 299,
     "metadata": {},
     "output_type": "execute_result"
    }
   ],
   "source": [
    "monster_tmp"
   ],
   "metadata": {
    "collapsed": false,
    "pycharm": {
     "name": "#%%\n"
    }
   }
  },
  {
   "cell_type": "code",
   "execution_count": 300,
   "outputs": [],
   "source": [
    "monster_clear = monster_tmp"
   ],
   "metadata": {
    "collapsed": false,
    "pycharm": {
     "name": "#%%\n"
    }
   }
  },
  {
   "cell_type": "code",
   "execution_count": 301,
   "outputs": [
    {
     "data": {
      "text/plain": "                                         job_description  \\\n0      TeamSoft is seeing an IT Support Specialist to...   \n1      The Wisconsin State Journal is seeking a flexi...   \n2      Report this job About the Job DePuy Synthes Co...   \n3      Why Join Altec? If you’re considering a career...   \n4      Position ID#  76162 # Positions  1 State  CT C...   \n...                                                  ...   \n21995  This is a major premier Cincinnati based finan...   \n21996  Luxury homebuilder in Cincinnati seeking multi...   \n21997  RE: Adobe AEM-          Client -          Loca...   \n21998  Jernberg Industries was established in 1937 an...   \n21999  Contract AdministratorCan you be the point per...   \n\n                                               job_title             job_type  \\\n0                   IT Support Technician Job in Madison   Full Time Employee   \n1                Business Reporter/Editor Job in Madison            Full Time   \n2      Johnson & Johnson Family of Companies Job Appl...  Full Time, Employee   \n3                        Engineer - Quality Job in Dixon            Full Time   \n4           Shift Supervisor - Part-Time Job in Camphill   Full Time Employee   \n...                                                  ...                  ...   \n21995  Assistant Vice President - Controller Job in C...            Full Time   \n21996                       Accountant Job in Cincinnati            Full Time   \n21997                    AEM/CQ developer Job in Chicago            Full Time   \n21998  Electrician - Experienced Forging Electrician ...   Full Time Employee   \n21999           Contract Administrator Job in Cincinnati            Full Time   \n\n                                                location  \\\n0                                      Madison, WI 53702   \n1                                      Madison, WI 53708   \n2      DePuy Synthes Companies is a member of Johnson...   \n3                                              Dixon, CA   \n4                                           Camphill, PA   \n...                                                  ...   \n21995                                     Cincinnati, OH   \n21996                               Cincinnati, OH 45236   \n21997                                  Chicago, IL 60602   \n21998                                  Chicago, IL 60609   \n21999                                     Cincinnati, OH   \n\n                                         organization  \\\n0                                                 NaN   \n1                             Printing and Publishing   \n2                     Personal and Household Services   \n3                                    Altec Industries   \n4                                              Retail   \n...                                               ...   \n21995                                             NaN   \n21996  Construction - Residential & Commercial/Office   \n21997                                             NaN   \n21998                       Jernberg Industries, Inc.   \n21999                                             NaN   \n\n                                                  salary  \\\n0                                                    NaN   \n1                                                    NaN   \n2                                                    NaN   \n3                                                    NaN   \n4                                                    NaN   \n...                                                  ...   \n21995               120,000.00 - 160,000.00 $ /yearbonus   \n21996                      45,000.00 - 60,000.00 $ /year   \n21997                                                NaN   \n21998                              25.00 - 28.00 $ /hour   \n21999  40,000.00 - 46,000.00 $ /year+ annual bonus (u...   \n\n                                      sector        city  index state  \\\n0                    IT/Software Development     Madison  53702    WI   \n1                                        NaN     Madison  53708    WI   \n2                                        NaN         NaN    NaN   NaN   \n3                  Experienced (Non-Manager)       Dixon    NaN    CA   \n4                 Project/Program Management    Camphill    NaN    PA   \n...                                      ...         ...    ...   ...   \n21995                                    NaN  Cincinnati    NaN    OH   \n21996  Manager (Manager/Supervisor of Staff)  Cincinnati  45236    OH   \n21997                                    NaN     Chicago  60602    IL   \n21998        Installation/Maintenance/Repair     Chicago  60609    IL   \n21999              Experienced (Non-Manager)  Cincinnati    NaN    OH   \n\n             from          to interval                               bonuses  \\\n0             NaN         NaN      NaN                                   NaN   \n1             NaN         NaN      NaN                                   NaN   \n2             NaN         NaN      NaN                                   NaN   \n3             NaN         NaN      NaN                                   NaN   \n4             NaN         NaN      NaN                                   NaN   \n...           ...         ...      ...                                   ...   \n21995  120,000.00  160,000.00    /year                                 bonus   \n21996   45,000.00   60,000.00    /year                                   NaN   \n21997         NaN         NaN      NaN                                   NaN   \n21998       25.00       28.00    /hour                                   NaN   \n21999   40,000.00   46,000.00    /year  + annual bonus (up to 15% of salary)   \n\n      offer_type employment_business employment_type  \n0            NaN                full        employee  \n1            NaN                full             NaN  \n2            NaN                full        employee  \n3            NaN                full             NaN  \n4            NaN                full        employee  \n...          ...                 ...             ...  \n21995    from_to                full             NaN  \n21996    from_to                full             NaN  \n21997        NaN                full             NaN  \n21998    from_to                full        employee  \n21999    from_to                full             NaN  \n\n[19953 rows x 17 columns]",
      "text/html": "<div>\n<style scoped>\n    .dataframe tbody tr th:only-of-type {\n        vertical-align: middle;\n    }\n\n    .dataframe tbody tr th {\n        vertical-align: top;\n    }\n\n    .dataframe thead th {\n        text-align: right;\n    }\n</style>\n<table border=\"1\" class=\"dataframe\">\n  <thead>\n    <tr style=\"text-align: right;\">\n      <th></th>\n      <th>job_description</th>\n      <th>job_title</th>\n      <th>job_type</th>\n      <th>location</th>\n      <th>organization</th>\n      <th>salary</th>\n      <th>sector</th>\n      <th>city</th>\n      <th>index</th>\n      <th>state</th>\n      <th>from</th>\n      <th>to</th>\n      <th>interval</th>\n      <th>bonuses</th>\n      <th>offer_type</th>\n      <th>employment_business</th>\n      <th>employment_type</th>\n    </tr>\n  </thead>\n  <tbody>\n    <tr>\n      <th>0</th>\n      <td>TeamSoft is seeing an IT Support Specialist to...</td>\n      <td>IT Support Technician Job in Madison</td>\n      <td>Full Time Employee</td>\n      <td>Madison, WI 53702</td>\n      <td>NaN</td>\n      <td>NaN</td>\n      <td>IT/Software Development</td>\n      <td>Madison</td>\n      <td>53702</td>\n      <td>WI</td>\n      <td>NaN</td>\n      <td>NaN</td>\n      <td>NaN</td>\n      <td>NaN</td>\n      <td>NaN</td>\n      <td>full</td>\n      <td>employee</td>\n    </tr>\n    <tr>\n      <th>1</th>\n      <td>The Wisconsin State Journal is seeking a flexi...</td>\n      <td>Business Reporter/Editor Job in Madison</td>\n      <td>Full Time</td>\n      <td>Madison, WI 53708</td>\n      <td>Printing and Publishing</td>\n      <td>NaN</td>\n      <td>NaN</td>\n      <td>Madison</td>\n      <td>53708</td>\n      <td>WI</td>\n      <td>NaN</td>\n      <td>NaN</td>\n      <td>NaN</td>\n      <td>NaN</td>\n      <td>NaN</td>\n      <td>full</td>\n      <td>NaN</td>\n    </tr>\n    <tr>\n      <th>2</th>\n      <td>Report this job About the Job DePuy Synthes Co...</td>\n      <td>Johnson &amp; Johnson Family of Companies Job Appl...</td>\n      <td>Full Time, Employee</td>\n      <td>DePuy Synthes Companies is a member of Johnson...</td>\n      <td>Personal and Household Services</td>\n      <td>NaN</td>\n      <td>NaN</td>\n      <td>NaN</td>\n      <td>NaN</td>\n      <td>NaN</td>\n      <td>NaN</td>\n      <td>NaN</td>\n      <td>NaN</td>\n      <td>NaN</td>\n      <td>NaN</td>\n      <td>full</td>\n      <td>employee</td>\n    </tr>\n    <tr>\n      <th>3</th>\n      <td>Why Join Altec? If you’re considering a career...</td>\n      <td>Engineer - Quality Job in Dixon</td>\n      <td>Full Time</td>\n      <td>Dixon, CA</td>\n      <td>Altec Industries</td>\n      <td>NaN</td>\n      <td>Experienced (Non-Manager)</td>\n      <td>Dixon</td>\n      <td>NaN</td>\n      <td>CA</td>\n      <td>NaN</td>\n      <td>NaN</td>\n      <td>NaN</td>\n      <td>NaN</td>\n      <td>NaN</td>\n      <td>full</td>\n      <td>NaN</td>\n    </tr>\n    <tr>\n      <th>4</th>\n      <td>Position ID#  76162 # Positions  1 State  CT C...</td>\n      <td>Shift Supervisor - Part-Time Job in Camphill</td>\n      <td>Full Time Employee</td>\n      <td>Camphill, PA</td>\n      <td>Retail</td>\n      <td>NaN</td>\n      <td>Project/Program Management</td>\n      <td>Camphill</td>\n      <td>NaN</td>\n      <td>PA</td>\n      <td>NaN</td>\n      <td>NaN</td>\n      <td>NaN</td>\n      <td>NaN</td>\n      <td>NaN</td>\n      <td>full</td>\n      <td>employee</td>\n    </tr>\n    <tr>\n      <th>...</th>\n      <td>...</td>\n      <td>...</td>\n      <td>...</td>\n      <td>...</td>\n      <td>...</td>\n      <td>...</td>\n      <td>...</td>\n      <td>...</td>\n      <td>...</td>\n      <td>...</td>\n      <td>...</td>\n      <td>...</td>\n      <td>...</td>\n      <td>...</td>\n      <td>...</td>\n      <td>...</td>\n      <td>...</td>\n    </tr>\n    <tr>\n      <th>21995</th>\n      <td>This is a major premier Cincinnati based finan...</td>\n      <td>Assistant Vice President - Controller Job in C...</td>\n      <td>Full Time</td>\n      <td>Cincinnati, OH</td>\n      <td>NaN</td>\n      <td>120,000.00 - 160,000.00 $ /yearbonus</td>\n      <td>NaN</td>\n      <td>Cincinnati</td>\n      <td>NaN</td>\n      <td>OH</td>\n      <td>120,000.00</td>\n      <td>160,000.00</td>\n      <td>/year</td>\n      <td>bonus</td>\n      <td>from_to</td>\n      <td>full</td>\n      <td>NaN</td>\n    </tr>\n    <tr>\n      <th>21996</th>\n      <td>Luxury homebuilder in Cincinnati seeking multi...</td>\n      <td>Accountant Job in Cincinnati</td>\n      <td>Full Time</td>\n      <td>Cincinnati, OH 45236</td>\n      <td>Construction - Residential &amp; Commercial/Office</td>\n      <td>45,000.00 - 60,000.00 $ /year</td>\n      <td>Manager (Manager/Supervisor of Staff)</td>\n      <td>Cincinnati</td>\n      <td>45236</td>\n      <td>OH</td>\n      <td>45,000.00</td>\n      <td>60,000.00</td>\n      <td>/year</td>\n      <td>NaN</td>\n      <td>from_to</td>\n      <td>full</td>\n      <td>NaN</td>\n    </tr>\n    <tr>\n      <th>21997</th>\n      <td>RE: Adobe AEM-          Client -          Loca...</td>\n      <td>AEM/CQ developer Job in Chicago</td>\n      <td>Full Time</td>\n      <td>Chicago, IL 60602</td>\n      <td>NaN</td>\n      <td>NaN</td>\n      <td>NaN</td>\n      <td>Chicago</td>\n      <td>60602</td>\n      <td>IL</td>\n      <td>NaN</td>\n      <td>NaN</td>\n      <td>NaN</td>\n      <td>NaN</td>\n      <td>NaN</td>\n      <td>full</td>\n      <td>NaN</td>\n    </tr>\n    <tr>\n      <th>21998</th>\n      <td>Jernberg Industries was established in 1937 an...</td>\n      <td>Electrician - Experienced Forging Electrician ...</td>\n      <td>Full Time Employee</td>\n      <td>Chicago, IL 60609</td>\n      <td>Jernberg Industries, Inc.</td>\n      <td>25.00 - 28.00 $ /hour</td>\n      <td>Installation/Maintenance/Repair</td>\n      <td>Chicago</td>\n      <td>60609</td>\n      <td>IL</td>\n      <td>25.00</td>\n      <td>28.00</td>\n      <td>/hour</td>\n      <td>NaN</td>\n      <td>from_to</td>\n      <td>full</td>\n      <td>employee</td>\n    </tr>\n    <tr>\n      <th>21999</th>\n      <td>Contract AdministratorCan you be the point per...</td>\n      <td>Contract Administrator Job in Cincinnati</td>\n      <td>Full Time</td>\n      <td>Cincinnati, OH</td>\n      <td>NaN</td>\n      <td>40,000.00 - 46,000.00 $ /year+ annual bonus (u...</td>\n      <td>Experienced (Non-Manager)</td>\n      <td>Cincinnati</td>\n      <td>NaN</td>\n      <td>OH</td>\n      <td>40,000.00</td>\n      <td>46,000.00</td>\n      <td>/year</td>\n      <td>+ annual bonus (up to 15% of salary)</td>\n      <td>from_to</td>\n      <td>full</td>\n      <td>NaN</td>\n    </tr>\n  </tbody>\n</table>\n<p>19953 rows × 17 columns</p>\n</div>"
     },
     "execution_count": 301,
     "metadata": {},
     "output_type": "execute_result"
    }
   ],
   "source": [
    "monster_clear"
   ],
   "metadata": {
    "collapsed": false,
    "pycharm": {
     "name": "#%%\n"
    }
   }
  },
  {
   "cell_type": "markdown",
   "source": [
    "Колонку `job_description` оставим без изменения, так как она содержит текстовое описание вакансии."
   ],
   "metadata": {
    "id": "CiZ0DkM2gCsC",
    "pycharm": {
     "name": "#%% md\n"
    }
   }
  },
  {
   "cell_type": "markdown",
   "source": [
    "### Столбцы job_title, organization, sector"
   ],
   "metadata": {
    "id": "PiAXreTbB98j",
    "pycharm": {
     "name": "#%% md\n"
    }
   }
  },
  {
   "cell_type": "markdown",
   "source": [
    "Для столбцов `job_title`, `organization` и `sector` самостоятельно выявите и реализуйте этапы анализа."
   ],
   "metadata": {
    "id": "k76saSc_B2Ih",
    "pycharm": {
     "name": "#%% md\n"
    }
   }
  },
  {
   "cell_type": "markdown",
   "source": [
    "#### job_title"
   ],
   "metadata": {
    "collapsed": false,
    "pycharm": {
     "name": "#%% md\n"
    }
   }
  },
  {
   "cell_type": "code",
   "source": [
    "monster_clear['job_title']"
   ],
   "metadata": {
    "id": "2--4md4bB8VL",
    "pycharm": {
     "name": "#%%\n"
    }
   },
   "execution_count": 302,
   "outputs": [
    {
     "data": {
      "text/plain": "0                     IT Support Technician Job in Madison\n1                  Business Reporter/Editor Job in Madison\n2        Johnson & Johnson Family of Companies Job Appl...\n3                          Engineer - Quality Job in Dixon\n4             Shift Supervisor - Part-Time Job in Camphill\n                               ...                        \n21995    Assistant Vice President - Controller Job in C...\n21996                         Accountant Job in Cincinnati\n21997                      AEM/CQ developer Job in Chicago\n21998    Electrician - Experienced Forging Electrician ...\n21999             Contract Administrator Job in Cincinnati\nName: job_title, Length: 19953, dtype: object"
     },
     "execution_count": 302,
     "metadata": {},
     "output_type": "execute_result"
    }
   ]
  },
  {
   "cell_type": "code",
   "execution_count": 303,
   "outputs": [
    {
     "data": {
      "text/plain": "'\\n<job_title> job in <location>\\n<job_title> - <location> job in <location>\\n<job_title> job in <location> bullshit\\n<title>\\n\\nPart-time job\\n\\n'"
     },
     "execution_count": 303,
     "metadata": {},
     "output_type": "execute_result"
    }
   ],
   "source": [
    "\"\"\"\n",
    "<job_title> job in <location>\n",
    "<job_title> - <location> job in <location>\n",
    "<job_title> job in <location> bullshit\n",
    "<title>\n",
    "\n",
    "Part-time job\n",
    "\n",
    "\"\"\""
   ],
   "metadata": {
    "collapsed": false,
    "pycharm": {
     "name": "#%%\n"
    }
   }
  },
  {
   "cell_type": "markdown",
   "source": [
    "- Можно получить город из названия. Полезно для location\n",
    "- Job присутствует в большинстве записей. Можно удалить.\n",
    "- Part-time"
   ],
   "metadata": {
    "collapsed": false,
    "pycharm": {
     "name": "#%% md\n"
    }
   }
  },
  {
   "cell_type": "code",
   "execution_count": 304,
   "outputs": [
    {
     "name": "stdout",
     "output_type": "stream",
     "text": [
      "city:\n",
      "no mistakes\n"
     ]
    }
   ],
   "source": [
    "word_with_possible_dot = '[A-Za-z]+.?'\n",
    "city = fr'\"?{word_with_possible_dot}(?:\\s*{word_with_possible_dot}){{0,2}}\"?'\n",
    "\n",
    "check_and_print('city',\n",
    "                ['St. Louis',\n",
    "                 '\"Statewide\"',\n",
    "                 'Denver City'],\n",
    "                city)"
   ],
   "metadata": {
    "collapsed": false,
    "pycharm": {
     "name": "#%%\n"
    }
   }
  },
  {
   "cell_type": "code",
   "execution_count": 305,
   "outputs": [
    {
     "name": "stdout",
     "output_type": "stream",
     "text": [
      "job_in_city_regex:\n",
      "no mistakes\n"
     ]
    }
   ],
   "source": [
    "s_r = '\\s*'\n",
    "job_in_city_regex = fr'(?i)^(?P<job_name>.*(?=job))job{s_r}in{s_r}(?P<job_city>{city}){s_r}$'\n",
    "\n",
    "check_and_print('job_in_city_regex',\n",
    "                ['Engineer - Quality Job in Dixon',\n",
    "                 'Mailroom Clerk Job in Austin   ',\n",
    "                 'West Central Delivery Lead Job in St. Louis ',\n",
    "                 'Formulation Scientist Job in \"Statewide\"'],\n",
    "                job_in_city_regex)"
   ],
   "metadata": {
    "collapsed": false,
    "pycharm": {
     "name": "#%%\n"
    }
   }
  },
  {
   "cell_type": "code",
   "execution_count": 306,
   "outputs": [
    {
     "name": "stdout",
     "output_type": "stream",
     "text": [
      "body_regex:\n",
      "no mistakes\n"
     ]
    }
   ],
   "source": [
    "body_regex = fr'(?i){s_r}(?=body)body{s_r}(?={{){{.*'\n",
    "check_and_print('body_regex',\n",
    "                [' body { margin:px; overflow: visible !important; } #ejb_header { color: #; font-family: Verdana',\n",
    "                 '    body { margin:ily: Verdana'],\n",
    "                body_regex)"
   ],
   "metadata": {
    "collapsed": false,
    "pycharm": {
     "name": "#%%\n"
    }
   }
  },
  {
   "cell_type": "code",
   "execution_count": 307,
   "outputs": [
    {
     "name": "stdout",
     "output_type": "stream",
     "text": [
      "monster:\n",
      "no mistakes\n"
     ]
    }
   ],
   "source": [
    "monster_regex = fr'(?i){s_r}\\|{s_r}Monster\\.com.*'\n",
    "\n",
    "\n",
    "check_and_print('monster',\n",
    "                ['| Monster.com function wrap(EL',\n",
    "                 '| Monster.com var MONS_LOG_VARS = {\"JobID\":'],\n",
    "                monster_regex)"
   ],
   "metadata": {
    "collapsed": false,
    "pycharm": {
     "name": "#%%\n"
    }
   }
  },
  {
   "cell_type": "code",
   "execution_count": 308,
   "outputs": [
    {
     "name": "stdout",
     "output_type": "stream",
     "text": [
      "job_dash_city:\n",
      "no mistakes\n"
     ]
    }
   ],
   "source": [
    "hyphens_r = ''\n",
    "job_dash_city_regex = fr'(?i)^(?P<job_name>.*(?={s_r}[\\-–])){s_r}[\\-–]{s_r}(?P<job_city>{city}){s_r}$'\n",
    "\n",
    "check_and_print('job_dash_city',\n",
    "                ['Asphalt Quality Control Manager -Houston',\n",
    "                 'Mechanical/Machine Designer – Nashville'],\n",
    "                job_dash_city_regex)"
   ],
   "metadata": {
    "collapsed": false,
    "pycharm": {
     "name": "#%%\n"
    }
   }
  },
  {
   "cell_type": "code",
   "execution_count": 309,
   "outputs": [
    {
     "name": "stdout",
     "output_type": "stream",
     "text": [
      "job_application_for_regex:\n",
      "no mistakes\n"
     ]
    }
   ],
   "source": [
    "jaf_r = f'{s_r}Job Application for{s_r}'\n",
    "job_application_for_regex = fr'(?i)^.*(?={jaf_r}){jaf_r}(?P<job_name>.*)$'\n",
    "\n",
    "check_and_print('job_application_for_regex',\n",
    "                ['Johnson & Johnson Family of Companies Job Application for Senior Training Leader',\n",
    "                 'CyberCoders Job Application for Principal QA Engineer - Java'],\n",
    "                job_application_for_regex)"
   ],
   "metadata": {
    "collapsed": false,
    "pycharm": {
     "name": "#%%\n"
    }
   }
  },
  {
   "cell_type": "code",
   "execution_count": 310,
   "outputs": [
    {
     "name": "stdout",
     "output_type": "stream",
     "text": [
      "job colon city:\n",
      "no mistakes\n"
     ]
    }
   ],
   "source": [
    "job_colon_city_regex = fr'(?i)^(?P<job_name>.*(?={s_r}\\:)){s_r}\\:{s_r}(?P<job_city>{city}){s_r}$'\n",
    "check_and_print('job colon city',\n",
    "                ['Commercial Construction Superintendent: Denver'],\n",
    "                job_colon_city_regex)"
   ],
   "metadata": {
    "collapsed": false,
    "pycharm": {
     "name": "#%%\n"
    }
   }
  },
  {
   "cell_type": "code",
   "execution_count": 311,
   "outputs": [
    {
     "name": "stdout",
     "output_type": "stream",
     "text": [
      "no city after in:\n",
      "no mistakes\n"
     ]
    }
   ],
   "source": [
    "no_city_after_in_regex = fr'(?i)^(?P<job_name>.*(?=job))job{s_r}in{s_r}$'\n",
    "\n",
    "check_and_print('no city after in',\n",
    "                ['DESIGN ENGINEER Job in'],\n",
    "                no_city_after_in_regex)"
   ],
   "metadata": {
    "collapsed": false,
    "pycharm": {
     "name": "#%%\n"
    }
   }
  },
  {
   "cell_type": "code",
   "execution_count": 312,
   "outputs": [
    {
     "name": "stdout",
     "output_type": "stream",
     "text": [
      "without job regex:\n",
      "no mistakes\n"
     ]
    }
   ],
   "source": [
    "without_job_regex = fr'(?i)^(?P<job_name>.*(?=in))in{s_r}(?P<job_city>{city}){s_r}$'\n",
    "\n",
    "check_and_print('without job regex',\n",
    "                ['Van Drivers Wanted in Columbus'],\n",
    "                without_job_regex)"
   ],
   "metadata": {
    "collapsed": false,
    "pycharm": {
     "name": "#%%\n"
    }
   }
  },
  {
   "cell_type": "markdown",
   "source": [
    "##### Очистим столбец"
   ],
   "metadata": {
    "collapsed": false,
    "pycharm": {
     "name": "#%% md\n"
    }
   }
  },
  {
   "cell_type": "code",
   "execution_count": 313,
   "outputs": [
    {
     "data": {
      "text/plain": "0                     IT Support Technician Job in Madison\n1                  Business Reporter/Editor Job in Madison\n2        Johnson & Johnson Family of Companies Job Appl...\n3                          Engineer - Quality Job in Dixon\n4             Shift Supervisor - Part-Time Job in Camphill\n                               ...                        \n21995    Assistant Vice President - Controller Job in C...\n21996                         Accountant Job in Cincinnati\n21997                      AEM/CQ developer Job in Chicago\n21998    Electrician - Experienced Forging Electrician ...\n21999             Contract Administrator Job in Cincinnati\nName: job_title, Length: 19953, dtype: object"
     },
     "execution_count": 313,
     "metadata": {},
     "output_type": "execute_result"
    }
   ],
   "source": [
    "monster_tmp = monster_clear.copy()\n",
    "\n",
    "regexs = [monster_regex,\n",
    "          body_regex,\n",
    "          fr'(?i){s_r}Please apply only if you are qualified\\.{s_r}',\n",
    "          fr'(?i){s_r}monster{s_r}']\n",
    "for reg in regexs:\n",
    "    monster_tmp['job_title'] = monster_tmp['job_title'].str.replace(reg, '',\n",
    "                                         regex=True)\n",
    "monster_tmp['job_title'].replace('^\\s*$', None, regex=True, inplace=True)\n",
    "monster_tmp['job_title']"
   ],
   "metadata": {
    "collapsed": false,
    "pycharm": {
     "name": "#%%\n"
    }
   }
  },
  {
   "cell_type": "code",
   "execution_count": 314,
   "outputs": [],
   "source": [
    "def separate_to_cols(df,parsed_col, regexs, cols):\n",
    "    df_tmp = df.copy()\n",
    "    for col in cols:\n",
    "        df_tmp[col] = None\n",
    "\n",
    "    for reg in regexs:\n",
    "        extract = df[parsed_col].str.extract(reg)\n",
    "        extract.dropna(inplace=True)\n",
    "        df_tmp.fillna(extract, inplace=True)\n",
    "    return df_tmp\n",
    "\n",
    "def get_invalid_rows_mask(df, cols):\n",
    "    return df[cols].isna().all(axis=1)"
   ],
   "metadata": {
    "collapsed": false,
    "pycharm": {
     "name": "#%%\n"
    }
   }
  },
  {
   "cell_type": "code",
   "execution_count": 315,
   "outputs": [
    {
     "data": {
      "text/plain": "                                         job_description  \\\n0      TeamSoft is seeing an IT Support Specialist to...   \n1      The Wisconsin State Journal is seeking a flexi...   \n2      Report this job About the Job DePuy Synthes Co...   \n3      Why Join Altec? If you’re considering a career...   \n4      Position ID#  76162 # Positions  1 State  CT C...   \n...                                                  ...   \n21995  This is a major premier Cincinnati based finan...   \n21996  Luxury homebuilder in Cincinnati seeking multi...   \n21997  RE: Adobe AEM-          Client -          Loca...   \n21998  Jernberg Industries was established in 1937 an...   \n21999  Contract AdministratorCan you be the point per...   \n\n                                               job_title             job_type  \\\n0                   IT Support Technician Job in Madison   Full Time Employee   \n1                Business Reporter/Editor Job in Madison            Full Time   \n2      Johnson & Johnson Family of Companies Job Appl...  Full Time, Employee   \n3                        Engineer - Quality Job in Dixon            Full Time   \n4           Shift Supervisor - Part-Time Job in Camphill   Full Time Employee   \n...                                                  ...                  ...   \n21995  Assistant Vice President - Controller Job in C...            Full Time   \n21996                       Accountant Job in Cincinnati            Full Time   \n21997                    AEM/CQ developer Job in Chicago            Full Time   \n21998  Electrician - Experienced Forging Electrician ...   Full Time Employee   \n21999           Contract Administrator Job in Cincinnati            Full Time   \n\n                                                location  \\\n0                                      Madison, WI 53702   \n1                                      Madison, WI 53708   \n2      DePuy Synthes Companies is a member of Johnson...   \n3                                              Dixon, CA   \n4                                           Camphill, PA   \n...                                                  ...   \n21995                                     Cincinnati, OH   \n21996                               Cincinnati, OH 45236   \n21997                                  Chicago, IL 60602   \n21998                                  Chicago, IL 60609   \n21999                                     Cincinnati, OH   \n\n                                         organization  \\\n0                                                 NaN   \n1                             Printing and Publishing   \n2                     Personal and Household Services   \n3                                    Altec Industries   \n4                                              Retail   \n...                                               ...   \n21995                                             NaN   \n21996  Construction - Residential & Commercial/Office   \n21997                                             NaN   \n21998                       Jernberg Industries, Inc.   \n21999                                             NaN   \n\n                                                  salary  \\\n0                                                    NaN   \n1                                                    NaN   \n2                                                    NaN   \n3                                                    NaN   \n4                                                    NaN   \n...                                                  ...   \n21995               120,000.00 - 160,000.00 $ /yearbonus   \n21996                      45,000.00 - 60,000.00 $ /year   \n21997                                                NaN   \n21998                              25.00 - 28.00 $ /hour   \n21999  40,000.00 - 46,000.00 $ /year+ annual bonus (u...   \n\n                                      sector        city  index state  \\\n0                    IT/Software Development     Madison  53702    WI   \n1                                        NaN     Madison  53708    WI   \n2                                        NaN         NaN    NaN   NaN   \n3                  Experienced (Non-Manager)       Dixon    NaN    CA   \n4                 Project/Program Management    Camphill    NaN    PA   \n...                                      ...         ...    ...   ...   \n21995                                    NaN  Cincinnati    NaN    OH   \n21996  Manager (Manager/Supervisor of Staff)  Cincinnati  45236    OH   \n21997                                    NaN     Chicago  60602    IL   \n21998        Installation/Maintenance/Repair     Chicago  60609    IL   \n21999              Experienced (Non-Manager)  Cincinnati    NaN    OH   \n\n             from          to interval                               bonuses  \\\n0             NaN         NaN      NaN                                   NaN   \n1             NaN         NaN      NaN                                   NaN   \n2             NaN         NaN      NaN                                   NaN   \n3             NaN         NaN      NaN                                   NaN   \n4             NaN         NaN      NaN                                   NaN   \n...           ...         ...      ...                                   ...   \n21995  120,000.00  160,000.00    /year                                 bonus   \n21996   45,000.00   60,000.00    /year                                   NaN   \n21997         NaN         NaN      NaN                                   NaN   \n21998       25.00       28.00    /hour                                   NaN   \n21999   40,000.00   46,000.00    /year  + annual bonus (up to 15% of salary)   \n\n      offer_type employment_business employment_type  \\\n0            NaN                full        employee   \n1            NaN                full             NaN   \n2            NaN                full        employee   \n3            NaN                full             NaN   \n4            NaN                full        employee   \n...          ...                 ...             ...   \n21995    from_to                full             NaN   \n21996    from_to                full             NaN   \n21997        NaN                full             NaN   \n21998    from_to                full        employee   \n21999    from_to                full             NaN   \n\n                                             job_name    job_city  \n0                              IT Support Technician      Madison  \n1                           Business Reporter/Editor      Madison  \n2                              Senior Training Leader    g Leader  \n3                                 Engineer - Quality        Dixon  \n4                       Shift Supervisor - Part-Time     Camphill  \n...                                               ...         ...  \n21995          Assistant Vice President - Controller   Cincinnati  \n21996                                     Accountant   Cincinnati  \n21997                               AEM/CQ developer      Chicago  \n21998  Electrician - Experienced Forging Electrician      Chicago  \n21999                         Contract Administrator   Cincinnati  \n\n[19953 rows x 19 columns]",
      "text/html": "<div>\n<style scoped>\n    .dataframe tbody tr th:only-of-type {\n        vertical-align: middle;\n    }\n\n    .dataframe tbody tr th {\n        vertical-align: top;\n    }\n\n    .dataframe thead th {\n        text-align: right;\n    }\n</style>\n<table border=\"1\" class=\"dataframe\">\n  <thead>\n    <tr style=\"text-align: right;\">\n      <th></th>\n      <th>job_description</th>\n      <th>job_title</th>\n      <th>job_type</th>\n      <th>location</th>\n      <th>organization</th>\n      <th>salary</th>\n      <th>sector</th>\n      <th>city</th>\n      <th>index</th>\n      <th>state</th>\n      <th>from</th>\n      <th>to</th>\n      <th>interval</th>\n      <th>bonuses</th>\n      <th>offer_type</th>\n      <th>employment_business</th>\n      <th>employment_type</th>\n      <th>job_name</th>\n      <th>job_city</th>\n    </tr>\n  </thead>\n  <tbody>\n    <tr>\n      <th>0</th>\n      <td>TeamSoft is seeing an IT Support Specialist to...</td>\n      <td>IT Support Technician Job in Madison</td>\n      <td>Full Time Employee</td>\n      <td>Madison, WI 53702</td>\n      <td>NaN</td>\n      <td>NaN</td>\n      <td>IT/Software Development</td>\n      <td>Madison</td>\n      <td>53702</td>\n      <td>WI</td>\n      <td>NaN</td>\n      <td>NaN</td>\n      <td>NaN</td>\n      <td>NaN</td>\n      <td>NaN</td>\n      <td>full</td>\n      <td>employee</td>\n      <td>IT Support Technician</td>\n      <td>Madison</td>\n    </tr>\n    <tr>\n      <th>1</th>\n      <td>The Wisconsin State Journal is seeking a flexi...</td>\n      <td>Business Reporter/Editor Job in Madison</td>\n      <td>Full Time</td>\n      <td>Madison, WI 53708</td>\n      <td>Printing and Publishing</td>\n      <td>NaN</td>\n      <td>NaN</td>\n      <td>Madison</td>\n      <td>53708</td>\n      <td>WI</td>\n      <td>NaN</td>\n      <td>NaN</td>\n      <td>NaN</td>\n      <td>NaN</td>\n      <td>NaN</td>\n      <td>full</td>\n      <td>NaN</td>\n      <td>Business Reporter/Editor</td>\n      <td>Madison</td>\n    </tr>\n    <tr>\n      <th>2</th>\n      <td>Report this job About the Job DePuy Synthes Co...</td>\n      <td>Johnson &amp; Johnson Family of Companies Job Appl...</td>\n      <td>Full Time, Employee</td>\n      <td>DePuy Synthes Companies is a member of Johnson...</td>\n      <td>Personal and Household Services</td>\n      <td>NaN</td>\n      <td>NaN</td>\n      <td>NaN</td>\n      <td>NaN</td>\n      <td>NaN</td>\n      <td>NaN</td>\n      <td>NaN</td>\n      <td>NaN</td>\n      <td>NaN</td>\n      <td>NaN</td>\n      <td>full</td>\n      <td>employee</td>\n      <td>Senior Training Leader</td>\n      <td>g Leader</td>\n    </tr>\n    <tr>\n      <th>3</th>\n      <td>Why Join Altec? If you’re considering a career...</td>\n      <td>Engineer - Quality Job in Dixon</td>\n      <td>Full Time</td>\n      <td>Dixon, CA</td>\n      <td>Altec Industries</td>\n      <td>NaN</td>\n      <td>Experienced (Non-Manager)</td>\n      <td>Dixon</td>\n      <td>NaN</td>\n      <td>CA</td>\n      <td>NaN</td>\n      <td>NaN</td>\n      <td>NaN</td>\n      <td>NaN</td>\n      <td>NaN</td>\n      <td>full</td>\n      <td>NaN</td>\n      <td>Engineer - Quality</td>\n      <td>Dixon</td>\n    </tr>\n    <tr>\n      <th>4</th>\n      <td>Position ID#  76162 # Positions  1 State  CT C...</td>\n      <td>Shift Supervisor - Part-Time Job in Camphill</td>\n      <td>Full Time Employee</td>\n      <td>Camphill, PA</td>\n      <td>Retail</td>\n      <td>NaN</td>\n      <td>Project/Program Management</td>\n      <td>Camphill</td>\n      <td>NaN</td>\n      <td>PA</td>\n      <td>NaN</td>\n      <td>NaN</td>\n      <td>NaN</td>\n      <td>NaN</td>\n      <td>NaN</td>\n      <td>full</td>\n      <td>employee</td>\n      <td>Shift Supervisor - Part-Time</td>\n      <td>Camphill</td>\n    </tr>\n    <tr>\n      <th>...</th>\n      <td>...</td>\n      <td>...</td>\n      <td>...</td>\n      <td>...</td>\n      <td>...</td>\n      <td>...</td>\n      <td>...</td>\n      <td>...</td>\n      <td>...</td>\n      <td>...</td>\n      <td>...</td>\n      <td>...</td>\n      <td>...</td>\n      <td>...</td>\n      <td>...</td>\n      <td>...</td>\n      <td>...</td>\n      <td>...</td>\n      <td>...</td>\n    </tr>\n    <tr>\n      <th>21995</th>\n      <td>This is a major premier Cincinnati based finan...</td>\n      <td>Assistant Vice President - Controller Job in C...</td>\n      <td>Full Time</td>\n      <td>Cincinnati, OH</td>\n      <td>NaN</td>\n      <td>120,000.00 - 160,000.00 $ /yearbonus</td>\n      <td>NaN</td>\n      <td>Cincinnati</td>\n      <td>NaN</td>\n      <td>OH</td>\n      <td>120,000.00</td>\n      <td>160,000.00</td>\n      <td>/year</td>\n      <td>bonus</td>\n      <td>from_to</td>\n      <td>full</td>\n      <td>NaN</td>\n      <td>Assistant Vice President - Controller</td>\n      <td>Cincinnati</td>\n    </tr>\n    <tr>\n      <th>21996</th>\n      <td>Luxury homebuilder in Cincinnati seeking multi...</td>\n      <td>Accountant Job in Cincinnati</td>\n      <td>Full Time</td>\n      <td>Cincinnati, OH 45236</td>\n      <td>Construction - Residential &amp; Commercial/Office</td>\n      <td>45,000.00 - 60,000.00 $ /year</td>\n      <td>Manager (Manager/Supervisor of Staff)</td>\n      <td>Cincinnati</td>\n      <td>45236</td>\n      <td>OH</td>\n      <td>45,000.00</td>\n      <td>60,000.00</td>\n      <td>/year</td>\n      <td>NaN</td>\n      <td>from_to</td>\n      <td>full</td>\n      <td>NaN</td>\n      <td>Accountant</td>\n      <td>Cincinnati</td>\n    </tr>\n    <tr>\n      <th>21997</th>\n      <td>RE: Adobe AEM-          Client -          Loca...</td>\n      <td>AEM/CQ developer Job in Chicago</td>\n      <td>Full Time</td>\n      <td>Chicago, IL 60602</td>\n      <td>NaN</td>\n      <td>NaN</td>\n      <td>NaN</td>\n      <td>Chicago</td>\n      <td>60602</td>\n      <td>IL</td>\n      <td>NaN</td>\n      <td>NaN</td>\n      <td>NaN</td>\n      <td>NaN</td>\n      <td>NaN</td>\n      <td>full</td>\n      <td>NaN</td>\n      <td>AEM/CQ developer</td>\n      <td>Chicago</td>\n    </tr>\n    <tr>\n      <th>21998</th>\n      <td>Jernberg Industries was established in 1937 an...</td>\n      <td>Electrician - Experienced Forging Electrician ...</td>\n      <td>Full Time Employee</td>\n      <td>Chicago, IL 60609</td>\n      <td>Jernberg Industries, Inc.</td>\n      <td>25.00 - 28.00 $ /hour</td>\n      <td>Installation/Maintenance/Repair</td>\n      <td>Chicago</td>\n      <td>60609</td>\n      <td>IL</td>\n      <td>25.00</td>\n      <td>28.00</td>\n      <td>/hour</td>\n      <td>NaN</td>\n      <td>from_to</td>\n      <td>full</td>\n      <td>employee</td>\n      <td>Electrician - Experienced Forging Electrician</td>\n      <td>Chicago</td>\n    </tr>\n    <tr>\n      <th>21999</th>\n      <td>Contract AdministratorCan you be the point per...</td>\n      <td>Contract Administrator Job in Cincinnati</td>\n      <td>Full Time</td>\n      <td>Cincinnati, OH</td>\n      <td>NaN</td>\n      <td>40,000.00 - 46,000.00 $ /year+ annual bonus (u...</td>\n      <td>Experienced (Non-Manager)</td>\n      <td>Cincinnati</td>\n      <td>NaN</td>\n      <td>OH</td>\n      <td>40,000.00</td>\n      <td>46,000.00</td>\n      <td>/year</td>\n      <td>+ annual bonus (up to 15% of salary)</td>\n      <td>from_to</td>\n      <td>full</td>\n      <td>NaN</td>\n      <td>Contract Administrator</td>\n      <td>Cincinnati</td>\n    </tr>\n  </tbody>\n</table>\n<p>19953 rows × 19 columns</p>\n</div>"
     },
     "execution_count": 315,
     "metadata": {},
     "output_type": "execute_result"
    }
   ],
   "source": [
    "job_cols = ['job_name', 'job_city']\n",
    "job_regexs = [job_in_city_regex,\n",
    "              job_dash_city_regex,\n",
    "              job_application_for_regex,\n",
    "              job_colon_city_regex,\n",
    "              no_city_after_in_regex,\n",
    "              without_job_regex ]\n",
    "monster_tmp = separate_to_cols(monster_tmp, 'job_title', job_regexs, job_cols)\n",
    "monster_tmp"
   ],
   "metadata": {
    "collapsed": false,
    "pycharm": {
     "name": "#%%\n"
    }
   }
  },
  {
   "cell_type": "markdown",
   "source": [
    "Посмотрим на работы, которые не попали под regex"
   ],
   "metadata": {
    "collapsed": false,
    "pycharm": {
     "name": "#%% md\n"
    }
   }
  },
  {
   "cell_type": "code",
   "execution_count": 316,
   "outputs": [
    {
     "data": {
      "text/plain": "28                      Resident Care Specialist\n36                          RF System Technician\n57                                    Specialist\n98       Mechanical Engineer Relocate to Decatur\n134                                   SOMMELIERS\n                          ...                   \n21788                         Major Gift Officer\n21803                                      *Lead\n21829                                   Director\n21889                        Claims Appraiser II\n21987                Experienced Territory Sales\nName: job_title, Length: 956, dtype: object"
     },
     "execution_count": 316,
     "metadata": {},
     "output_type": "execute_result"
    }
   ],
   "source": [
    "non_na_job = monster_tmp[monster_tmp['job_title'].notna()]\n",
    "invalid_mask = get_invalid_rows_mask(non_na_job, job_cols)\n",
    "\n",
    "invalid_non_na = non_na_job.loc[invalid_mask, 'job_title']\n",
    "invalid_non_na"
   ],
   "metadata": {
    "collapsed": false,
    "pycharm": {
     "name": "#%%\n"
    }
   }
  },
  {
   "cell_type": "markdown",
   "source": [
    "У нас остались 956 записей, которые не попали ни под один из критериев. Абсолютное большинство из них содержат информацию о названии должности, пусть и с небольшим количеством лишней информации.\n",
    "\n",
    "Вывод: данные, не попавшие ни под одну из категорий запишем в `job_name`"
   ],
   "metadata": {
    "collapsed": false,
    "pycharm": {
     "name": "#%% md\n"
    }
   }
  },
  {
   "cell_type": "code",
   "execution_count": 317,
   "outputs": [],
   "source": [
    "monster_tmp['job_name'].fillna(invalid_non_na, inplace=True)"
   ],
   "metadata": {
    "collapsed": false,
    "pycharm": {
     "name": "#%%\n"
    }
   }
  },
  {
   "cell_type": "markdown",
   "source": [
    "##### Заполним nan в поле city при помощи job_city"
   ],
   "metadata": {
    "collapsed": false,
    "pycharm": {
     "name": "#%% md\n"
    }
   }
  },
  {
   "cell_type": "code",
   "execution_count": 324,
   "outputs": [
    {
     "name": "stdout",
     "output_type": "stream",
     "text": [
      "nans before: 2839\n"
     ]
    }
   ],
   "source": [
    "print(f\"nans before: {monster_tmp['city'].isna().sum()}\")"
   ],
   "metadata": {
    "collapsed": false,
    "pycharm": {
     "name": "#%%\n"
    }
   }
  },
  {
   "cell_type": "code",
   "execution_count": 325,
   "outputs": [
    {
     "name": "stdout",
     "output_type": "stream",
     "text": [
      "nans after: 924\n"
     ]
    }
   ],
   "source": [
    "monster_tmp['city'].fillna(monster_tmp['job_city'], inplace=True)\n",
    "print(f\"nans after: {monster_tmp['city'].isna().sum()}\")"
   ],
   "metadata": {
    "collapsed": false,
    "pycharm": {
     "name": "#%%\n"
    }
   }
  },
  {
   "cell_type": "markdown",
   "source": [
    "##### Запишем изменения"
   ],
   "metadata": {
    "collapsed": false,
    "pycharm": {
     "name": "#%% md\n"
    }
   }
  },
  {
   "cell_type": "code",
   "execution_count": 326,
   "outputs": [],
   "source": [
    "monster_clear = monster_tmp"
   ],
   "metadata": {
    "collapsed": false,
    "pycharm": {
     "name": "#%%\n"
    }
   }
  },
  {
   "cell_type": "code",
   "execution_count": 327,
   "outputs": [
    {
     "data": {
      "text/plain": "                                         job_description  \\\n0      TeamSoft is seeing an IT Support Specialist to...   \n1      The Wisconsin State Journal is seeking a flexi...   \n2      Report this job About the Job DePuy Synthes Co...   \n3      Why Join Altec? If you’re considering a career...   \n4      Position ID#  76162 # Positions  1 State  CT C...   \n...                                                  ...   \n21995  This is a major premier Cincinnati based finan...   \n21996  Luxury homebuilder in Cincinnati seeking multi...   \n21997  RE: Adobe AEM-          Client -          Loca...   \n21998  Jernberg Industries was established in 1937 an...   \n21999  Contract AdministratorCan you be the point per...   \n\n                                               job_title             job_type  \\\n0                   IT Support Technician Job in Madison   Full Time Employee   \n1                Business Reporter/Editor Job in Madison            Full Time   \n2      Johnson & Johnson Family of Companies Job Appl...  Full Time, Employee   \n3                        Engineer - Quality Job in Dixon            Full Time   \n4           Shift Supervisor - Part-Time Job in Camphill   Full Time Employee   \n...                                                  ...                  ...   \n21995  Assistant Vice President - Controller Job in C...            Full Time   \n21996                       Accountant Job in Cincinnati            Full Time   \n21997                    AEM/CQ developer Job in Chicago            Full Time   \n21998  Electrician - Experienced Forging Electrician ...   Full Time Employee   \n21999           Contract Administrator Job in Cincinnati            Full Time   \n\n                                                location  \\\n0                                      Madison, WI 53702   \n1                                      Madison, WI 53708   \n2      DePuy Synthes Companies is a member of Johnson...   \n3                                              Dixon, CA   \n4                                           Camphill, PA   \n...                                                  ...   \n21995                                     Cincinnati, OH   \n21996                               Cincinnati, OH 45236   \n21997                                  Chicago, IL 60602   \n21998                                  Chicago, IL 60609   \n21999                                     Cincinnati, OH   \n\n                                         organization  \\\n0                                                 NaN   \n1                             Printing and Publishing   \n2                     Personal and Household Services   \n3                                    Altec Industries   \n4                                              Retail   \n...                                               ...   \n21995                                             NaN   \n21996  Construction - Residential & Commercial/Office   \n21997                                             NaN   \n21998                       Jernberg Industries, Inc.   \n21999                                             NaN   \n\n                                                  salary  \\\n0                                                    NaN   \n1                                                    NaN   \n2                                                    NaN   \n3                                                    NaN   \n4                                                    NaN   \n...                                                  ...   \n21995               120,000.00 - 160,000.00 $ /yearbonus   \n21996                      45,000.00 - 60,000.00 $ /year   \n21997                                                NaN   \n21998                              25.00 - 28.00 $ /hour   \n21999  40,000.00 - 46,000.00 $ /year+ annual bonus (u...   \n\n                                      sector        city  index state  \\\n0                    IT/Software Development     Madison  53702    WI   \n1                                        NaN     Madison  53708    WI   \n2                                        NaN    g Leader    NaN   NaN   \n3                  Experienced (Non-Manager)       Dixon    NaN    CA   \n4                 Project/Program Management    Camphill    NaN    PA   \n...                                      ...         ...    ...   ...   \n21995                                    NaN  Cincinnati    NaN    OH   \n21996  Manager (Manager/Supervisor of Staff)  Cincinnati  45236    OH   \n21997                                    NaN     Chicago  60602    IL   \n21998        Installation/Maintenance/Repair     Chicago  60609    IL   \n21999              Experienced (Non-Manager)  Cincinnati    NaN    OH   \n\n             from          to interval                               bonuses  \\\n0             NaN         NaN      NaN                                   NaN   \n1             NaN         NaN      NaN                                   NaN   \n2             NaN         NaN      NaN                                   NaN   \n3             NaN         NaN      NaN                                   NaN   \n4             NaN         NaN      NaN                                   NaN   \n...           ...         ...      ...                                   ...   \n21995  120,000.00  160,000.00    /year                                 bonus   \n21996   45,000.00   60,000.00    /year                                   NaN   \n21997         NaN         NaN      NaN                                   NaN   \n21998       25.00       28.00    /hour                                   NaN   \n21999   40,000.00   46,000.00    /year  + annual bonus (up to 15% of salary)   \n\n      offer_type employment_business employment_type  \\\n0            NaN                full        employee   \n1            NaN                full             NaN   \n2            NaN                full        employee   \n3            NaN                full             NaN   \n4            NaN                full        employee   \n...          ...                 ...             ...   \n21995    from_to                full             NaN   \n21996    from_to                full             NaN   \n21997        NaN                full             NaN   \n21998    from_to                full        employee   \n21999    from_to                full             NaN   \n\n                                             job_name    job_city  \n0                              IT Support Technician      Madison  \n1                           Business Reporter/Editor      Madison  \n2                              Senior Training Leader    g Leader  \n3                                 Engineer - Quality        Dixon  \n4                       Shift Supervisor - Part-Time     Camphill  \n...                                               ...         ...  \n21995          Assistant Vice President - Controller   Cincinnati  \n21996                                     Accountant   Cincinnati  \n21997                               AEM/CQ developer      Chicago  \n21998  Electrician - Experienced Forging Electrician      Chicago  \n21999                         Contract Administrator   Cincinnati  \n\n[19953 rows x 19 columns]",
      "text/html": "<div>\n<style scoped>\n    .dataframe tbody tr th:only-of-type {\n        vertical-align: middle;\n    }\n\n    .dataframe tbody tr th {\n        vertical-align: top;\n    }\n\n    .dataframe thead th {\n        text-align: right;\n    }\n</style>\n<table border=\"1\" class=\"dataframe\">\n  <thead>\n    <tr style=\"text-align: right;\">\n      <th></th>\n      <th>job_description</th>\n      <th>job_title</th>\n      <th>job_type</th>\n      <th>location</th>\n      <th>organization</th>\n      <th>salary</th>\n      <th>sector</th>\n      <th>city</th>\n      <th>index</th>\n      <th>state</th>\n      <th>from</th>\n      <th>to</th>\n      <th>interval</th>\n      <th>bonuses</th>\n      <th>offer_type</th>\n      <th>employment_business</th>\n      <th>employment_type</th>\n      <th>job_name</th>\n      <th>job_city</th>\n    </tr>\n  </thead>\n  <tbody>\n    <tr>\n      <th>0</th>\n      <td>TeamSoft is seeing an IT Support Specialist to...</td>\n      <td>IT Support Technician Job in Madison</td>\n      <td>Full Time Employee</td>\n      <td>Madison, WI 53702</td>\n      <td>NaN</td>\n      <td>NaN</td>\n      <td>IT/Software Development</td>\n      <td>Madison</td>\n      <td>53702</td>\n      <td>WI</td>\n      <td>NaN</td>\n      <td>NaN</td>\n      <td>NaN</td>\n      <td>NaN</td>\n      <td>NaN</td>\n      <td>full</td>\n      <td>employee</td>\n      <td>IT Support Technician</td>\n      <td>Madison</td>\n    </tr>\n    <tr>\n      <th>1</th>\n      <td>The Wisconsin State Journal is seeking a flexi...</td>\n      <td>Business Reporter/Editor Job in Madison</td>\n      <td>Full Time</td>\n      <td>Madison, WI 53708</td>\n      <td>Printing and Publishing</td>\n      <td>NaN</td>\n      <td>NaN</td>\n      <td>Madison</td>\n      <td>53708</td>\n      <td>WI</td>\n      <td>NaN</td>\n      <td>NaN</td>\n      <td>NaN</td>\n      <td>NaN</td>\n      <td>NaN</td>\n      <td>full</td>\n      <td>NaN</td>\n      <td>Business Reporter/Editor</td>\n      <td>Madison</td>\n    </tr>\n    <tr>\n      <th>2</th>\n      <td>Report this job About the Job DePuy Synthes Co...</td>\n      <td>Johnson &amp; Johnson Family of Companies Job Appl...</td>\n      <td>Full Time, Employee</td>\n      <td>DePuy Synthes Companies is a member of Johnson...</td>\n      <td>Personal and Household Services</td>\n      <td>NaN</td>\n      <td>NaN</td>\n      <td>g Leader</td>\n      <td>NaN</td>\n      <td>NaN</td>\n      <td>NaN</td>\n      <td>NaN</td>\n      <td>NaN</td>\n      <td>NaN</td>\n      <td>NaN</td>\n      <td>full</td>\n      <td>employee</td>\n      <td>Senior Training Leader</td>\n      <td>g Leader</td>\n    </tr>\n    <tr>\n      <th>3</th>\n      <td>Why Join Altec? If you’re considering a career...</td>\n      <td>Engineer - Quality Job in Dixon</td>\n      <td>Full Time</td>\n      <td>Dixon, CA</td>\n      <td>Altec Industries</td>\n      <td>NaN</td>\n      <td>Experienced (Non-Manager)</td>\n      <td>Dixon</td>\n      <td>NaN</td>\n      <td>CA</td>\n      <td>NaN</td>\n      <td>NaN</td>\n      <td>NaN</td>\n      <td>NaN</td>\n      <td>NaN</td>\n      <td>full</td>\n      <td>NaN</td>\n      <td>Engineer - Quality</td>\n      <td>Dixon</td>\n    </tr>\n    <tr>\n      <th>4</th>\n      <td>Position ID#  76162 # Positions  1 State  CT C...</td>\n      <td>Shift Supervisor - Part-Time Job in Camphill</td>\n      <td>Full Time Employee</td>\n      <td>Camphill, PA</td>\n      <td>Retail</td>\n      <td>NaN</td>\n      <td>Project/Program Management</td>\n      <td>Camphill</td>\n      <td>NaN</td>\n      <td>PA</td>\n      <td>NaN</td>\n      <td>NaN</td>\n      <td>NaN</td>\n      <td>NaN</td>\n      <td>NaN</td>\n      <td>full</td>\n      <td>employee</td>\n      <td>Shift Supervisor - Part-Time</td>\n      <td>Camphill</td>\n    </tr>\n    <tr>\n      <th>...</th>\n      <td>...</td>\n      <td>...</td>\n      <td>...</td>\n      <td>...</td>\n      <td>...</td>\n      <td>...</td>\n      <td>...</td>\n      <td>...</td>\n      <td>...</td>\n      <td>...</td>\n      <td>...</td>\n      <td>...</td>\n      <td>...</td>\n      <td>...</td>\n      <td>...</td>\n      <td>...</td>\n      <td>...</td>\n      <td>...</td>\n      <td>...</td>\n    </tr>\n    <tr>\n      <th>21995</th>\n      <td>This is a major premier Cincinnati based finan...</td>\n      <td>Assistant Vice President - Controller Job in C...</td>\n      <td>Full Time</td>\n      <td>Cincinnati, OH</td>\n      <td>NaN</td>\n      <td>120,000.00 - 160,000.00 $ /yearbonus</td>\n      <td>NaN</td>\n      <td>Cincinnati</td>\n      <td>NaN</td>\n      <td>OH</td>\n      <td>120,000.00</td>\n      <td>160,000.00</td>\n      <td>/year</td>\n      <td>bonus</td>\n      <td>from_to</td>\n      <td>full</td>\n      <td>NaN</td>\n      <td>Assistant Vice President - Controller</td>\n      <td>Cincinnati</td>\n    </tr>\n    <tr>\n      <th>21996</th>\n      <td>Luxury homebuilder in Cincinnati seeking multi...</td>\n      <td>Accountant Job in Cincinnati</td>\n      <td>Full Time</td>\n      <td>Cincinnati, OH 45236</td>\n      <td>Construction - Residential &amp; Commercial/Office</td>\n      <td>45,000.00 - 60,000.00 $ /year</td>\n      <td>Manager (Manager/Supervisor of Staff)</td>\n      <td>Cincinnati</td>\n      <td>45236</td>\n      <td>OH</td>\n      <td>45,000.00</td>\n      <td>60,000.00</td>\n      <td>/year</td>\n      <td>NaN</td>\n      <td>from_to</td>\n      <td>full</td>\n      <td>NaN</td>\n      <td>Accountant</td>\n      <td>Cincinnati</td>\n    </tr>\n    <tr>\n      <th>21997</th>\n      <td>RE: Adobe AEM-          Client -          Loca...</td>\n      <td>AEM/CQ developer Job in Chicago</td>\n      <td>Full Time</td>\n      <td>Chicago, IL 60602</td>\n      <td>NaN</td>\n      <td>NaN</td>\n      <td>NaN</td>\n      <td>Chicago</td>\n      <td>60602</td>\n      <td>IL</td>\n      <td>NaN</td>\n      <td>NaN</td>\n      <td>NaN</td>\n      <td>NaN</td>\n      <td>NaN</td>\n      <td>full</td>\n      <td>NaN</td>\n      <td>AEM/CQ developer</td>\n      <td>Chicago</td>\n    </tr>\n    <tr>\n      <th>21998</th>\n      <td>Jernberg Industries was established in 1937 an...</td>\n      <td>Electrician - Experienced Forging Electrician ...</td>\n      <td>Full Time Employee</td>\n      <td>Chicago, IL 60609</td>\n      <td>Jernberg Industries, Inc.</td>\n      <td>25.00 - 28.00 $ /hour</td>\n      <td>Installation/Maintenance/Repair</td>\n      <td>Chicago</td>\n      <td>60609</td>\n      <td>IL</td>\n      <td>25.00</td>\n      <td>28.00</td>\n      <td>/hour</td>\n      <td>NaN</td>\n      <td>from_to</td>\n      <td>full</td>\n      <td>employee</td>\n      <td>Electrician - Experienced Forging Electrician</td>\n      <td>Chicago</td>\n    </tr>\n    <tr>\n      <th>21999</th>\n      <td>Contract AdministratorCan you be the point per...</td>\n      <td>Contract Administrator Job in Cincinnati</td>\n      <td>Full Time</td>\n      <td>Cincinnati, OH</td>\n      <td>NaN</td>\n      <td>40,000.00 - 46,000.00 $ /year+ annual bonus (u...</td>\n      <td>Experienced (Non-Manager)</td>\n      <td>Cincinnati</td>\n      <td>NaN</td>\n      <td>OH</td>\n      <td>40,000.00</td>\n      <td>46,000.00</td>\n      <td>/year</td>\n      <td>+ annual bonus (up to 15% of salary)</td>\n      <td>from_to</td>\n      <td>full</td>\n      <td>NaN</td>\n      <td>Contract Administrator</td>\n      <td>Cincinnati</td>\n    </tr>\n  </tbody>\n</table>\n<p>19953 rows × 19 columns</p>\n</div>"
     },
     "execution_count": 327,
     "metadata": {},
     "output_type": "execute_result"
    }
   ],
   "source": [
    "monster_clear"
   ],
   "metadata": {
    "collapsed": false,
    "pycharm": {
     "name": "#%%\n"
    }
   }
  },
  {
   "cell_type": "markdown",
   "source": [
    "#### organization"
   ],
   "metadata": {
    "collapsed": false,
    "pycharm": {
     "name": "#%% md\n"
    }
   }
  },
  {
   "cell_type": "code",
   "execution_count": 330,
   "outputs": [
    {
     "data": {
      "text/plain": "6389"
     },
     "execution_count": 330,
     "metadata": {},
     "output_type": "execute_result"
    }
   ],
   "source": [
    "monster_clear['organization'].isna().sum()"
   ],
   "metadata": {
    "collapsed": false,
    "pycharm": {
     "name": "#%%\n"
    }
   }
  },
  {
   "cell_type": "code",
   "execution_count": 332,
   "outputs": [
    {
     "data": {
      "text/plain": "735"
     },
     "execution_count": 332,
     "metadata": {},
     "output_type": "execute_result"
    }
   ],
   "source": [
    "monster_clear['organization'].nunique()"
   ],
   "metadata": {
    "collapsed": false,
    "pycharm": {
     "name": "#%%\n"
    }
   }
  },
  {
   "cell_type": "code",
   "execution_count": 331,
   "outputs": [
    {
     "data": {
      "text/plain": "1                               Printing and Publishing\n2                       Personal and Household Services\n3                                      Altec Industries\n4                                                Retail\n5                                  Computer/IT Services\n                              ...                      \n21984                              Other/Not Classified\n21988                               Healthcare Services\n21994                                               All\n21996    Construction - Residential & Commercial/Office\n21998                         Jernberg Industries, Inc.\nName: organization, Length: 13564, dtype: object"
     },
     "execution_count": 331,
     "metadata": {},
     "output_type": "execute_result"
    }
   ],
   "source": [
    "organization_not_na_mask = monster_clear['organization'].notna()\n",
    "\n",
    "monster_clear.loc[organization_not_na_mask, 'organization']"
   ],
   "metadata": {
    "collapsed": false,
    "pycharm": {
     "name": "#%%\n"
    }
   }
  },
  {
   "cell_type": "markdown",
   "source": [
    "Что видим:\n",
    "\n",
    "Много названий одного и того же:\n",
    "* Computer/IT Services\n",
    "* Computer Software\n",
    "\n",
    "Перечисление через запятую:\n",
    "* Computer Software, Computer/IT Services\n",
    "\n",
    "Перечисление через двоеточие:\n",
    "* Retail;Telecommunications Services;Advertising and PR Services\n",
    "\n",
    "Однозначноопредляемые при помощи services:\n",
    "* Legal Services\n",
    "* Accounting and Auditing Services\n",
    "* Engineering Services\n",
    "* Personal and Household Services\n",
    "\n",
    "Данные по городу и штату:\n",
    "* Chicago, IL\n",
    "* Oklahoma City, OK\n",
    "* San Francisco, CA\n",
    "* Durham, NC\n",
    "* Houston, TX\n",
    "* Chicago, IL 60661\n",
    "\n",
    "Аналог Nan:\n",
    "* Other/Not Classified\n",
    "\n",
    "Все:\n",
    "* All\n",
    "\n",
    "Приписка other:\n",
    "* Manufacturing - Other\n",
    "* Business Services - Other\n",
    "\n",
    "\n"
   ],
   "metadata": {
    "collapsed": false,
    "pycharm": {
     "name": "#%% md\n"
    }
   }
  },
  {
   "cell_type": "markdown",
   "source": [
    "Что можно сделать:\n",
    "* Получить информацию по location\n",
    "* Заменить `Other/Not Classified` на Nan\n",
    "* Создать новый логический столбец `multisector`, который будет отвечать на вопрос: \"Ведет ли компания деятельность в разных секторах?\""
   ],
   "metadata": {
    "collapsed": false,
    "pycharm": {
     "name": "#%% md\n"
    }
   }
  },
  {
   "cell_type": "markdown",
   "source": [
    "### Краткая статистика очищенных данных"
   ],
   "metadata": {
    "id": "PlVfw-OHgMan",
    "pycharm": {
     "name": "#%% md\n"
    }
   }
  },
  {
   "cell_type": "markdown",
   "source": [
    "Проанализируйте результаты обработки данных. \n",
    "1. Сравните, что было до и после.\n",
    "2. Определите, какие еще этапы можно было бы включить. Выберите один и реализуйте его. Если на ваш взгляд, текущего состояния достаточно, определите, какие задачи можно решать с помощью обработанного датасета и опишите этапы обработки, которые для них могут понадобиться."
   ],
   "metadata": {
    "id": "wks8AsfFCImG",
    "pycharm": {
     "name": "#%% md\n"
    }
   }
  },
  {
   "cell_type": "code",
   "source": [],
   "metadata": {
    "id": "l_sdS0Yv-Uef",
    "pycharm": {
     "name": "#%%\n"
    }
   },
   "execution_count": 320,
   "outputs": []
  }
 ]
}